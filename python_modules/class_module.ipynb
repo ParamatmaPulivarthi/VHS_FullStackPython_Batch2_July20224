{
 "cells": [
  {
   "cell_type": "code",
   "execution_count": 1,
   "id": "4c131575",
   "metadata": {},
   "outputs": [],
   "source": [
    "class maths_p():\n",
    "    def __init__(self,a,b):\n",
    "        self.param1=a\n",
    "        self.param2=b\n",
    "        print(\"the parameter values is,\",a ,b)\n",
    "    def add_p(self):\n",
    "        new_value=self.param1+self.param2\n",
    "        return new_value\n",
    "    def sub_p(self):\n",
    "        new_value=self.param1 - self.param2\n",
    "        return new_value\n",
    "    def mul_p(self):\n",
    "        new_value=self.param1 * self.param2\n",
    "        return new_value\n",
    "    def pwer_p(self):\n",
    "        new_value=self.param1 ** self.param2\n",
    "        return new_value\n",
    "    "
   ]
  },
  {
   "cell_type": "code",
   "execution_count": 2,
   "id": "f6af9bb0",
   "metadata": {},
   "outputs": [
    {
     "name": "stdout",
     "output_type": "stream",
     "text": [
      "Requirement already satisfied: pandas in c:\\users\\paramatma\\anaconda3\\lib\\site-packages (1.5.3)\n",
      "Requirement already satisfied: numpy>=1.21.0 in c:\\users\\paramatma\\anaconda3\\lib\\site-packages (from pandas) (1.23.5)\n",
      "Requirement already satisfied: pytz>=2020.1 in c:\\users\\paramatma\\anaconda3\\lib\\site-packages (from pandas) (2022.7)\n",
      "Requirement already satisfied: python-dateutil>=2.8.1 in c:\\users\\paramatma\\anaconda3\\lib\\site-packages (from pandas) (2.8.2)\n",
      "Requirement already satisfied: six>=1.5 in c:\\users\\paramatma\\anaconda3\\lib\\site-packages (from python-dateutil>=2.8.1->pandas) (1.16.0)\n"
     ]
    }
   ],
   "source": [
    "!pip install pandas"
   ]
  }
 ],
 "metadata": {
  "kernelspec": {
   "display_name": "Python 3 (ipykernel)",
   "language": "python",
   "name": "python3"
  },
  "language_info": {
   "codemirror_mode": {
    "name": "ipython",
    "version": 3
   },
   "file_extension": ".py",
   "mimetype": "text/x-python",
   "name": "python",
   "nbconvert_exporter": "python",
   "pygments_lexer": "ipython3",
   "version": "3.10.9"
  }
 },
 "nbformat": 4,
 "nbformat_minor": 5
}
