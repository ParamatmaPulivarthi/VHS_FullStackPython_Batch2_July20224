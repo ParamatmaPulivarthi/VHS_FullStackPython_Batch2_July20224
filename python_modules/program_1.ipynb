{
 "cells": [
  {
   "cell_type": "code",
   "execution_count": 3,
   "id": "c303fe49",
   "metadata": {},
   "outputs": [],
   "source": [
    "import variables_module"
   ]
  },
  {
   "cell_type": "code",
   "execution_count": 4,
   "id": "047006b5",
   "metadata": {},
   "outputs": [
    {
     "name": "stdout",
     "output_type": "stream",
     "text": [
      "['__builtins__', '__cached__', '__doc__', '__file__', '__loader__', '__name__', '__package__', '__spec__', 'name', 'type_of_module', 'version']\n"
     ]
    }
   ],
   "source": [
    "print(dir(variables_module))"
   ]
  },
  {
   "cell_type": "code",
   "execution_count": 5,
   "id": "1a83bc1c",
   "metadata": {},
   "outputs": [
    {
     "data": {
      "text/plain": [
       "'moudlename'"
      ]
     },
     "execution_count": 5,
     "metadata": {},
     "output_type": "execute_result"
    }
   ],
   "source": [
    "variables_module.name"
   ]
  },
  {
   "cell_type": "code",
   "execution_count": 6,
   "id": "3fb17953",
   "metadata": {},
   "outputs": [
    {
     "data": {
      "text/plain": [
       "'userdefined'"
      ]
     },
     "execution_count": 6,
     "metadata": {},
     "output_type": "execute_result"
    }
   ],
   "source": [
    "variables_module.type_of_module"
   ]
  },
  {
   "cell_type": "code",
   "execution_count": 7,
   "id": "4ecf63ac",
   "metadata": {},
   "outputs": [
    {
     "data": {
      "text/plain": [
       "'versiontype-2.0'"
      ]
     },
     "execution_count": 7,
     "metadata": {},
     "output_type": "execute_result"
    }
   ],
   "source": [
    "variables_module.version"
   ]
  },
  {
   "cell_type": "code",
   "execution_count": 8,
   "id": "4db275ae",
   "metadata": {},
   "outputs": [],
   "source": [
    "import variables_module as vm"
   ]
  },
  {
   "cell_type": "code",
   "execution_count": 9,
   "id": "aa973e5b",
   "metadata": {},
   "outputs": [
    {
     "data": {
      "text/plain": [
       "'moudlename'"
      ]
     },
     "execution_count": 9,
     "metadata": {},
     "output_type": "execute_result"
    }
   ],
   "source": [
    "vm.name"
   ]
  },
  {
   "cell_type": "code",
   "execution_count": 10,
   "id": "235ba5bc",
   "metadata": {},
   "outputs": [
    {
     "data": {
      "text/plain": [
       "'userdefined'"
      ]
     },
     "execution_count": 10,
     "metadata": {},
     "output_type": "execute_result"
    }
   ],
   "source": [
    "vm.type_of_module"
   ]
  },
  {
   "cell_type": "code",
   "execution_count": 11,
   "id": "53f05299",
   "metadata": {},
   "outputs": [
    {
     "data": {
      "text/plain": [
       "'versiontype-2.0'"
      ]
     },
     "execution_count": 11,
     "metadata": {},
     "output_type": "execute_result"
    }
   ],
   "source": [
    "vm.version"
   ]
  },
  {
   "cell_type": "code",
   "execution_count": 12,
   "id": "ba38a851",
   "metadata": {},
   "outputs": [],
   "source": [
    "from variables_module import  name,type_of_module"
   ]
  },
  {
   "cell_type": "code",
   "execution_count": 13,
   "id": "820517be",
   "metadata": {},
   "outputs": [
    {
     "data": {
      "text/plain": [
       "'moudlename'"
      ]
     },
     "execution_count": 13,
     "metadata": {},
     "output_type": "execute_result"
    }
   ],
   "source": [
    "name"
   ]
  },
  {
   "cell_type": "code",
   "execution_count": 14,
   "id": "d4a705ef",
   "metadata": {},
   "outputs": [
    {
     "data": {
      "text/plain": [
       "'userdefined'"
      ]
     },
     "execution_count": 14,
     "metadata": {},
     "output_type": "execute_result"
    }
   ],
   "source": [
    "type_of_module"
   ]
  },
  {
   "cell_type": "code",
   "execution_count": 15,
   "id": "911517f3",
   "metadata": {},
   "outputs": [],
   "source": [
    "from variables_module import  name as name_moudle"
   ]
  },
  {
   "cell_type": "code",
   "execution_count": 16,
   "id": "c18bea29",
   "metadata": {},
   "outputs": [
    {
     "data": {
      "text/plain": [
       "'moudlename'"
      ]
     },
     "execution_count": 16,
     "metadata": {},
     "output_type": "execute_result"
    }
   ],
   "source": [
    "name_moudle"
   ]
  },
  {
   "cell_type": "code",
   "execution_count": null,
   "id": "1a50e5b1",
   "metadata": {},
   "outputs": [],
   "source": [
    "# ----------------function module test------------"
   ]
  },
  {
   "cell_type": "code",
   "execution_count": 17,
   "id": "89d3244b",
   "metadata": {},
   "outputs": [],
   "source": [
    "import function_module"
   ]
  },
  {
   "cell_type": "code",
   "execution_count": 18,
   "id": "5da28af7",
   "metadata": {},
   "outputs": [
    {
     "name": "stdout",
     "output_type": "stream",
     "text": [
      "['__builtins__', '__cached__', '__doc__', '__file__', '__loader__', '__name__', '__package__', '__spec__', 'addition_p', 'mul_p', 'power_p', 'sub_p']\n"
     ]
    }
   ],
   "source": [
    "print(dir(function_module))"
   ]
  },
  {
   "cell_type": "code",
   "execution_count": 19,
   "id": "b4c1d655",
   "metadata": {},
   "outputs": [
    {
     "data": {
      "text/plain": [
       "30"
      ]
     },
     "execution_count": 19,
     "metadata": {},
     "output_type": "execute_result"
    }
   ],
   "source": [
    "function_module.addition_p(10,20)"
   ]
  },
  {
   "cell_type": "code",
   "execution_count": 20,
   "id": "92976b0e",
   "metadata": {},
   "outputs": [
    {
     "data": {
      "text/plain": [
       "10"
      ]
     },
     "execution_count": 20,
     "metadata": {},
     "output_type": "execute_result"
    }
   ],
   "source": [
    "function_module.sub_p(20,10)"
   ]
  },
  {
   "cell_type": "code",
   "execution_count": 21,
   "id": "06cdb34e",
   "metadata": {},
   "outputs": [
    {
     "data": {
      "text/plain": [
       "200"
      ]
     },
     "execution_count": 21,
     "metadata": {},
     "output_type": "execute_result"
    }
   ],
   "source": [
    "function_module.mul_p(10,20)"
   ]
  },
  {
   "cell_type": "code",
   "execution_count": 22,
   "id": "93fe7890",
   "metadata": {},
   "outputs": [
    {
     "data": {
      "text/plain": [
       "16"
      ]
     },
     "execution_count": 22,
     "metadata": {},
     "output_type": "execute_result"
    }
   ],
   "source": [
    "function_module.power_p(2,4)"
   ]
  },
  {
   "cell_type": "code",
   "execution_count": 23,
   "id": "58eecaac",
   "metadata": {},
   "outputs": [],
   "source": [
    "# import class_module"
   ]
  },
  {
   "cell_type": "code",
   "execution_count": 25,
   "id": "0b8a164c",
   "metadata": {},
   "outputs": [],
   "source": [
    "from class_module import maths_p"
   ]
  },
  {
   "cell_type": "code",
   "execution_count": 24,
   "id": "2980a952",
   "metadata": {},
   "outputs": [
    {
     "name": "stdout",
     "output_type": "stream",
     "text": [
      "['__builtins__', '__cached__', '__doc__', '__file__', '__loader__', '__name__', '__package__', '__spec__', 'maths_p']\n"
     ]
    }
   ],
   "source": [
    "print(dir(class_module))"
   ]
  },
  {
   "cell_type": "code",
   "execution_count": 26,
   "id": "31dd0948",
   "metadata": {},
   "outputs": [
    {
     "name": "stdout",
     "output_type": "stream",
     "text": [
      "the parameter values is, 10 20\n"
     ]
    }
   ],
   "source": [
    "obj=maths_p(10,20)"
   ]
  },
  {
   "cell_type": "code",
   "execution_count": 27,
   "id": "0ce182bf",
   "metadata": {},
   "outputs": [
    {
     "data": {
      "text/plain": [
       "30"
      ]
     },
     "execution_count": 27,
     "metadata": {},
     "output_type": "execute_result"
    }
   ],
   "source": [
    "obj.add_p()"
   ]
  },
  {
   "cell_type": "code",
   "execution_count": 28,
   "id": "2ed7190d",
   "metadata": {},
   "outputs": [
    {
     "data": {
      "text/plain": [
       "-10"
      ]
     },
     "execution_count": 28,
     "metadata": {},
     "output_type": "execute_result"
    }
   ],
   "source": [
    "obj.sub_p()"
   ]
  },
  {
   "cell_type": "code",
   "execution_count": 29,
   "id": "08637161",
   "metadata": {},
   "outputs": [
    {
     "data": {
      "text/plain": [
       "200"
      ]
     },
     "execution_count": 29,
     "metadata": {},
     "output_type": "execute_result"
    }
   ],
   "source": [
    "obj.mul_p()"
   ]
  },
  {
   "cell_type": "code",
   "execution_count": 30,
   "id": "d09dd9a3",
   "metadata": {},
   "outputs": [
    {
     "data": {
      "text/plain": [
       "100000000000000000000"
      ]
     },
     "execution_count": 30,
     "metadata": {},
     "output_type": "execute_result"
    }
   ],
   "source": [
    "obj.pwer_p()"
   ]
  },
  {
   "cell_type": "code",
   "execution_count": 31,
   "id": "7f08d9dd",
   "metadata": {},
   "outputs": [],
   "source": [
    "import datetime"
   ]
  },
  {
   "cell_type": "code",
   "execution_count": 32,
   "id": "f1965764",
   "metadata": {},
   "outputs": [
    {
     "name": "stdout",
     "output_type": "stream",
     "text": [
      "['MAXYEAR', 'MINYEAR', '__all__', '__builtins__', '__cached__', '__doc__', '__file__', '__loader__', '__name__', '__package__', '__spec__', 'date', 'datetime', 'datetime_CAPI', 'sys', 'time', 'timedelta', 'timezone', 'tzinfo']\n"
     ]
    }
   ],
   "source": [
    "print(dir(datetime))"
   ]
  },
  {
   "cell_type": "code",
   "execution_count": null,
   "id": "b6de8e98",
   "metadata": {},
   "outputs": [],
   "source": []
  }
 ],
 "metadata": {
  "kernelspec": {
   "display_name": "Python 3 (ipykernel)",
   "language": "python",
   "name": "python3"
  },
  "language_info": {
   "codemirror_mode": {
    "name": "ipython",
    "version": 3
   },
   "file_extension": ".py",
   "mimetype": "text/x-python",
   "name": "python",
   "nbconvert_exporter": "python",
   "pygments_lexer": "ipython3",
   "version": "3.10.9"
  }
 },
 "nbformat": 4,
 "nbformat_minor": 5
}
