{
 "cells": [
  {
   "cell_type": "code",
   "execution_count": 1,
   "id": "6e1660ae",
   "metadata": {},
   "outputs": [],
   "source": [
    "def addition_p(a,b):\n",
    "    addition_value=a+b\n",
    "    return addition_value"
   ]
  },
  {
   "cell_type": "code",
   "execution_count": 2,
   "id": "303316fc",
   "metadata": {},
   "outputs": [],
   "source": [
    "def sub_p(a,b):\n",
    "    sub_value=a-b\n",
    "    return sub_value"
   ]
  },
  {
   "cell_type": "code",
   "execution_count": 3,
   "id": "f03dacc1",
   "metadata": {},
   "outputs": [],
   "source": [
    "def mul_p(a,b):\n",
    "    mul_value=a*b\n",
    "    return mul_value"
   ]
  },
  {
   "cell_type": "code",
   "execution_count": 4,
   "id": "9bf33618",
   "metadata": {},
   "outputs": [],
   "source": [
    "def power_p(a,b):\n",
    "    power_value=a**b\n",
    "    return power_value"
   ]
  },
  {
   "cell_type": "code",
   "execution_count": null,
   "id": "76887f97",
   "metadata": {},
   "outputs": [],
   "source": []
  }
 ],
 "metadata": {
  "kernelspec": {
   "display_name": "Python 3 (ipykernel)",
   "language": "python",
   "name": "python3"
  },
  "language_info": {
   "codemirror_mode": {
    "name": "ipython",
    "version": 3
   },
   "file_extension": ".py",
   "mimetype": "text/x-python",
   "name": "python",
   "nbconvert_exporter": "python",
   "pygments_lexer": "ipython3",
   "version": "3.10.9"
  }
 },
 "nbformat": 4,
 "nbformat_minor": 5
}
