{
 "cells": [
  {
   "cell_type": "code",
   "execution_count": null,
   "id": "ec290fde",
   "metadata": {},
   "outputs": [],
   "source": [
    "# reuse-variables\n",
    "name=\"moudlename\"\n",
    "version=\"versiontype-2.0\"\n",
    "type_of_module=\"userdefined\"\n"
   ]
  }
 ],
 "metadata": {
  "kernelspec": {
   "display_name": "Python 3 (ipykernel)",
   "language": "python",
   "name": "python3"
  },
  "language_info": {
   "codemirror_mode": {
    "name": "ipython",
    "version": 3
   },
   "file_extension": ".py",
   "mimetype": "text/x-python",
   "name": "python",
   "nbconvert_exporter": "python",
   "pygments_lexer": "ipython3",
   "version": "3.10.9"
  }
 },
 "nbformat": 4,
 "nbformat_minor": 5
}
