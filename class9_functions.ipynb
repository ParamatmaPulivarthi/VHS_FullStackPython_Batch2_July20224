{
 "cells": [
  {
   "cell_type": "code",
   "execution_count": null,
   "id": "c8a3fdde",
   "metadata": {},
   "outputs": [],
   "source": [
    "two types of functions\n",
    "--inbuilt function\n",
    "--user defined functions"
   ]
  },
  {
   "cell_type": "code",
   "execution_count": null,
   "id": "d351f537",
   "metadata": {},
   "outputs": [],
   "source": [
    "syntax:\n",
    "\n",
    "poisitional -->    \n",
    "def functionname/function_name(param1/name age,param2/age name,param3,...,paramn):\n",
    "    statement\n",
    "    statement1\n",
    "    statement2\n",
    "    ..\n",
    "    statementn\n",
    "    return return_value\n",
    "param--variable/(int,floot,str,list,tuple, dict,set,)\n",
    "    "
   ]
  },
  {
   "cell_type": "code",
   "execution_count": null,
   "id": "cc186f9c",
   "metadata": {},
   "outputs": [],
   "source": [
    "syntax:\n",
    "\n",
    "poisitional -->    \n",
    "def functionname/function_name(param1,param2,param3,...,paramn):\n",
    "    statement\n",
    "    statement1\n",
    "    statement2\n",
    "    ..\n",
    "    statementn\n",
    "    return return_value\n",
    "param--variable/(int,floot,str,list,tuple, dict,set,)\n",
    "    "
   ]
  },
  {
   "cell_type": "code",
   "execution_count": null,
   "id": "0c34a3dc",
   "metadata": {},
   "outputs": [],
   "source": [
    "syntax:\n",
    "\n",
    "keyword param--->\n",
    "def functionname/function_name(param1=param1(name='athma'),param2=param2(age=20),param3=param3,...,paramn=paramn):\n",
    "    statement\n",
    "    statement1\n",
    "    statement2\n",
    "    ..\n",
    "    statementn\n",
    "    return return_value\n",
    "param--variable/(int,floot,str,list,tuple, dict,set,)\n",
    "    "
   ]
  },
  {
   "cell_type": "code",
   "execution_count": null,
   "id": "47bdbd57",
   "metadata": {},
   "outputs": [],
   "source": [
    "syntax:\n",
    "\n",
    "keyword param--->\n",
    "def functionname/function_name(param1=param1,param2=param2,param3=param3,...,paramn=paramn):\n",
    "    statement\n",
    "    statement1\n",
    "    statement2\n",
    "    ..\n",
    "    statementn\n",
    "    return return_value\n",
    "param--variable/(int,floot,str,list,tuple, dict,set,)\n",
    "    "
   ]
  },
  {
   "cell_type": "code",
   "execution_count": null,
   "id": "98673bff",
   "metadata": {},
   "outputs": [],
   "source": [
    "syntax:\n",
    "mixed param-->\n",
    "\n",
    "def functionname/function_name(param1=param1,param2,param3=param3,...,paramn):\n",
    "    statement\n",
    "    statement1\n",
    "    statement2\n",
    "    ..\n",
    "    statementn\n",
    "    return return_value\n",
    "param--variable/(int,floot,str,list,tuple, dict,set,)\n",
    "    "
   ]
  },
  {
   "cell_type": "code",
   "execution_count": null,
   "id": "2be4e7ef",
   "metadata": {},
   "outputs": [],
   "source": [
    "----> user define function\n",
    "----->built in function\n",
    "type(),print()"
   ]
  },
  {
   "cell_type": "code",
   "execution_count": null,
   "id": "5725a1d3",
   "metadata": {},
   "outputs": [],
   "source": [
    "-------->user define functions"
   ]
  },
  {
   "cell_type": "code",
   "execution_count": null,
   "id": "52b71d52",
   "metadata": {},
   "outputs": [],
   "source": [
    "add two numbers -->"
   ]
  },
  {
   "cell_type": "code",
   "execution_count": 1,
   "id": "39289f2d",
   "metadata": {},
   "outputs": [],
   "source": [
    "# function definition----->only one time create \n",
    "def addition_p(para1,para2):\n",
    "    new_param=para1+para2\n",
    "    return new_param"
   ]
  },
  {
   "cell_type": "code",
   "execution_count": 5,
   "id": "72a18592",
   "metadata": {},
   "outputs": [
    {
     "data": {
      "text/plain": [
       "30"
      ]
     },
     "execution_count": 5,
     "metadata": {},
     "output_type": "execute_result"
    }
   ],
   "source": [
    "# provide two parameters ----?\n",
    "addition_p(10,20) # function calling"
   ]
  },
  {
   "cell_type": "code",
   "execution_count": 2,
   "id": "ad484626",
   "metadata": {},
   "outputs": [],
   "source": [
    "para1=10\n",
    "para2=20"
   ]
  },
  {
   "cell_type": "code",
   "execution_count": 3,
   "id": "1fec1937",
   "metadata": {},
   "outputs": [],
   "source": [
    "new_param=para1+para2"
   ]
  },
  {
   "cell_type": "code",
   "execution_count": 4,
   "id": "224e3d8c",
   "metadata": {},
   "outputs": [
    {
     "data": {
      "text/plain": [
       "30"
      ]
     },
     "execution_count": 4,
     "metadata": {},
     "output_type": "execute_result"
    }
   ],
   "source": [
    "new_param"
   ]
  },
  {
   "cell_type": "code",
   "execution_count": 6,
   "id": "58ec84af",
   "metadata": {},
   "outputs": [
    {
     "data": {
      "text/plain": [
       "150"
      ]
     },
     "execution_count": 6,
     "metadata": {},
     "output_type": "execute_result"
    }
   ],
   "source": [
    "# scenario--2\n",
    "# add 50,100\n",
    "addition_p(100,50) # function calling"
   ]
  },
  {
   "cell_type": "code",
   "execution_count": null,
   "id": "97e99284",
   "metadata": {},
   "outputs": [],
   "source": [
    "# scenario -3 \n",
    "# add 4 number 10,20,30, 40\n",
    "addition_p(10,20,30,40)\n",
    "?"
   ]
  },
  {
   "cell_type": "code",
   "execution_count": 7,
   "id": "99218f69",
   "metadata": {},
   "outputs": [],
   "source": [
    "para1=10\n",
    "para2=20"
   ]
  },
  {
   "cell_type": "code",
   "execution_count": 8,
   "id": "02f5e0d1",
   "metadata": {},
   "outputs": [],
   "source": [
    "new_param=para1+para2"
   ]
  },
  {
   "cell_type": "code",
   "execution_count": 9,
   "id": "837b7843",
   "metadata": {},
   "outputs": [
    {
     "data": {
      "text/plain": [
       "30"
      ]
     },
     "execution_count": 9,
     "metadata": {},
     "output_type": "execute_result"
    }
   ],
   "source": [
    "new_param"
   ]
  },
  {
   "cell_type": "code",
   "execution_count": null,
   "id": "a9db6455",
   "metadata": {},
   "outputs": [],
   "source": [
    "answer1--->1"
   ]
  },
  {
   "cell_type": "code",
   "execution_count": null,
   "id": "0e7db06f",
   "metadata": {},
   "outputs": [],
   "source": [
    "addition_p(10,20,30,40)"
   ]
  },
  {
   "cell_type": "code",
   "execution_count": null,
   "id": "99d333c9",
   "metadata": {},
   "outputs": [],
   "source": [
    "addition_p(para1,para2)-->parameters not  accept more than given"
   ]
  },
  {
   "cell_type": "code",
   "execution_count": 10,
   "id": "e5ba402d",
   "metadata": {},
   "outputs": [
    {
     "ename": "TypeError",
     "evalue": "addition_p() takes 2 positional arguments but 4 were given",
     "output_type": "error",
     "traceback": [
      "\u001b[1;31m---------------------------------------------------------------------------\u001b[0m",
      "\u001b[1;31mTypeError\u001b[0m                                 Traceback (most recent call last)",
      "Cell \u001b[1;32mIn[10], line 1\u001b[0m\n\u001b[1;32m----> 1\u001b[0m \u001b[43maddition_p\u001b[49m\u001b[43m(\u001b[49m\u001b[38;5;241;43m10\u001b[39;49m\u001b[43m,\u001b[49m\u001b[38;5;241;43m20\u001b[39;49m\u001b[43m,\u001b[49m\u001b[38;5;241;43m30\u001b[39;49m\u001b[43m,\u001b[49m\u001b[38;5;241;43m40\u001b[39;49m\u001b[43m)\u001b[49m\n",
      "\u001b[1;31mTypeError\u001b[0m: addition_p() takes 2 positional arguments but 4 were given"
     ]
    }
   ],
   "source": [
    "addition_p(10,20,30,40)\n"
   ]
  },
  {
   "cell_type": "code",
   "execution_count": null,
   "id": "980178ba",
   "metadata": {},
   "outputs": [],
   "source": [
    "un limits number addition----?"
   ]
  },
  {
   "cell_type": "code",
   "execution_count": null,
   "id": "71b7771e",
   "metadata": {},
   "outputs": [],
   "source": [
    "int/list"
   ]
  },
  {
   "cell_type": "code",
   "execution_count": null,
   "id": "25261301",
   "metadata": {},
   "outputs": [],
   "source": [
    "[10,20,30]\n",
    "[20,30,40,70,60]"
   ]
  },
  {
   "cell_type": "code",
   "execution_count": null,
   "id": "e3262ec9",
   "metadata": {},
   "outputs": [],
   "source": [
    "sum(variable/int/tuple/list)"
   ]
  },
  {
   "cell_type": "code",
   "execution_count": 11,
   "id": "05f3b83f",
   "metadata": {},
   "outputs": [
    {
     "ename": "TypeError",
     "evalue": "'int' object is not iterable",
     "output_type": "error",
     "traceback": [
      "\u001b[1;31m---------------------------------------------------------------------------\u001b[0m",
      "\u001b[1;31mTypeError\u001b[0m                                 Traceback (most recent call last)",
      "Cell \u001b[1;32mIn[11], line 1\u001b[0m\n\u001b[1;32m----> 1\u001b[0m \u001b[38;5;28;43msum\u001b[39;49m\u001b[43m(\u001b[49m\u001b[38;5;241;43m10\u001b[39;49m\u001b[43m,\u001b[49m\u001b[38;5;241;43m20\u001b[39;49m\u001b[43m)\u001b[49m\n",
      "\u001b[1;31mTypeError\u001b[0m: 'int' object is not iterable"
     ]
    }
   ],
   "source": [
    "sum(10,20)"
   ]
  },
  {
   "cell_type": "code",
   "execution_count": 12,
   "id": "12798653",
   "metadata": {},
   "outputs": [
    {
     "data": {
      "text/plain": [
       "30"
      ]
     },
     "execution_count": 12,
     "metadata": {},
     "output_type": "execute_result"
    }
   ],
   "source": [
    "sum([10,20])"
   ]
  },
  {
   "cell_type": "code",
   "execution_count": 13,
   "id": "81d36e51",
   "metadata": {},
   "outputs": [
    {
     "data": {
      "text/plain": [
       "150"
      ]
     },
     "execution_count": 13,
     "metadata": {},
     "output_type": "execute_result"
    }
   ],
   "source": [
    "sum([10,20,30,40,50])"
   ]
  },
  {
   "cell_type": "code",
   "execution_count": null,
   "id": "c133dd74",
   "metadata": {},
   "outputs": [],
   "source": [
    "inbuilt + user define"
   ]
  },
  {
   "cell_type": "code",
   "execution_count": 14,
   "id": "44213341",
   "metadata": {},
   "outputs": [],
   "source": [
    "def addition_p1(param):\n",
    "    new_sum=sum(param)\n",
    "    return new_sum"
   ]
  },
  {
   "cell_type": "code",
   "execution_count": 15,
   "id": "812e3ea3",
   "metadata": {},
   "outputs": [
    {
     "data": {
      "text/plain": [
       "60"
      ]
     },
     "execution_count": 15,
     "metadata": {},
     "output_type": "execute_result"
    }
   ],
   "source": [
    "addition_p1([10,20,30])"
   ]
  },
  {
   "cell_type": "code",
   "execution_count": 16,
   "id": "6a89635b",
   "metadata": {},
   "outputs": [
    {
     "ename": "TypeError",
     "evalue": "addition_p1() takes 1 positional argument but 2 were given",
     "output_type": "error",
     "traceback": [
      "\u001b[1;31m---------------------------------------------------------------------------\u001b[0m",
      "\u001b[1;31mTypeError\u001b[0m                                 Traceback (most recent call last)",
      "Cell \u001b[1;32mIn[16], line 1\u001b[0m\n\u001b[1;32m----> 1\u001b[0m \u001b[43maddition_p1\u001b[49m\u001b[43m(\u001b[49m\u001b[38;5;241;43m10\u001b[39;49m\u001b[43m,\u001b[49m\u001b[38;5;241;43m20\u001b[39;49m\u001b[43m)\u001b[49m\n",
      "\u001b[1;31mTypeError\u001b[0m: addition_p1() takes 1 positional argument but 2 were given"
     ]
    }
   ],
   "source": [
    "addition_p1(10,20)"
   ]
  },
  {
   "cell_type": "code",
   "execution_count": 17,
   "id": "818fdb90",
   "metadata": {},
   "outputs": [],
   "source": [
    "# function adding numbers 2 numbers\n",
    "def addition_v2(param1,param2):\n",
    "    add_p=param1+param2\n",
    "    sub_p=param1-param1\n",
    "    return add_p\n",
    "\n"
   ]
  },
  {
   "cell_type": "code",
   "execution_count": 19,
   "id": "94c6d056",
   "metadata": {},
   "outputs": [],
   "source": [
    "# function adding numbers 2 numbers\n",
    "def addition_v2(param1,param2):\n",
    "    add_p=param1+param2\n",
    "    sub_p=param1-param1\n",
    "    \n",
    "\n"
   ]
  },
  {
   "cell_type": "code",
   "execution_count": 20,
   "id": "ea114bf6",
   "metadata": {},
   "outputs": [],
   "source": [
    "addition_v2(10,20)"
   ]
  },
  {
   "cell_type": "code",
   "execution_count": 23,
   "id": "f8d20941",
   "metadata": {},
   "outputs": [],
   "source": [
    "# function adding numbers 2 numbers\n",
    "def addition_v2(param1,param2):\n",
    "    add_p=param1+param2\n",
    "    print(\" addition of\",param1,\" and \",param2 ,\":->\",add_p )\n",
    "    sub_p=param1-param2\n",
    "    print(\" subtraction of\",param1,\" and \",param2 ,\":->\",sub_p )\n",
    "    \n",
    "\n"
   ]
  },
  {
   "cell_type": "code",
   "execution_count": null,
   "id": "b2803b54",
   "metadata": {},
   "outputs": [],
   "source": []
  },
  {
   "cell_type": "code",
   "execution_count": 24,
   "id": "a592e455",
   "metadata": {},
   "outputs": [
    {
     "name": "stdout",
     "output_type": "stream",
     "text": [
      " addition of 10  and  20 :-> 30\n",
      " subtraction of 10  and  20 :-> -10\n"
     ]
    }
   ],
   "source": [
    "addition_v2(10,20)"
   ]
  },
  {
   "cell_type": "code",
   "execution_count": 25,
   "id": "28c68ec7",
   "metadata": {},
   "outputs": [],
   "source": [
    "# function adding numbers 2 numbers\n",
    "def addition_v2(param1,param2):\n",
    "    add_p=param1+param2\n",
    "    print(\" addition of\",param1,\" and \",param2 ,\":->\",add_p )\n",
    "    sub_p=abs(param1-param2)\n",
    "    print(\" subtraction of\",param1,\" and \",param2 ,\":->\",sub_p )\n",
    "    \n",
    "\n"
   ]
  },
  {
   "cell_type": "code",
   "execution_count": 26,
   "id": "c7d7f129",
   "metadata": {},
   "outputs": [
    {
     "name": "stdout",
     "output_type": "stream",
     "text": [
      " addition of 10  and  20 :-> 30\n",
      " subtraction of 10  and  20 :-> 10\n"
     ]
    }
   ],
   "source": [
    "addition_v2(10,20)"
   ]
  },
  {
   "cell_type": "code",
   "execution_count": null,
   "id": "6553fbd2",
   "metadata": {},
   "outputs": [],
   "source": [
    "retails--->\n",
    "\n",
    "marts---->jio mart, reliance mart\n",
    "products-----> food, groceries, drinks, vegitables\n"
   ]
  },
  {
   "cell_type": "code",
   "execution_count": null,
   "id": "8a150e20",
   "metadata": {},
   "outputs": [],
   "source": [
    "each mart wise display  all product--->"
   ]
  },
  {
   "cell_type": "code",
   "execution_count": 6,
   "id": "a0ad3c82",
   "metadata": {},
   "outputs": [],
   "source": [
    "marts=[\"jio mart\",\"reliance mart\"]\n",
    "products=[\"food\", \"groceries\", \"drinks\", \"vegitables\"]"
   ]
  },
  {
   "cell_type": "code",
   "execution_count": 2,
   "id": "b8780801",
   "metadata": {},
   "outputs": [
    {
     "data": {
      "text/plain": [
       "['jio mart', 'reliance mart']"
      ]
     },
     "execution_count": 2,
     "metadata": {},
     "output_type": "execute_result"
    }
   ],
   "source": [
    "marts"
   ]
  },
  {
   "cell_type": "code",
   "execution_count": 3,
   "id": "a44e6c57",
   "metadata": {},
   "outputs": [
    {
     "data": {
      "text/plain": [
       "['food', 'groceries', 'drinks', 'vegitables']"
      ]
     },
     "execution_count": 3,
     "metadata": {},
     "output_type": "execute_result"
    }
   ],
   "source": [
    "products"
   ]
  },
  {
   "cell_type": "code",
   "execution_count": 8,
   "id": "77fdd071",
   "metadata": {},
   "outputs": [
    {
     "name": "stdout",
     "output_type": "stream",
     "text": [
      "*****this is the******** jio mart\n",
      "------>product details food\n",
      "------>product details groceries\n",
      "------>product details drinks\n",
      "------>product details vegitables\n",
      "*****this is the******** reliance mart\n",
      "------>product details food\n",
      "------>product details groceries\n",
      "------>product details drinks\n",
      "------>product details vegitables\n"
     ]
    }
   ],
   "source": [
    "for mart in marts:\n",
    "    print(\"*****this is the********\", mart)\n",
    "    for prd in products:\n",
    "        print(\"------>product details\",prd)"
   ]
  },
  {
   "cell_type": "code",
   "execution_count": 9,
   "id": "2bd4f62b",
   "metadata": {},
   "outputs": [],
   "source": [
    "# function definition-----------\n",
    "def mart_product(marts,products):    \n",
    "    for mart in marts:\n",
    "        print(\"*****this is the********\", mart)\n",
    "        for prd in products:\n",
    "            print(\"------>product details\",prd)\n",
    "        "
   ]
  },
  {
   "cell_type": "code",
   "execution_count": 10,
   "id": "c16ea105",
   "metadata": {},
   "outputs": [],
   "source": [
    "marts=[\"jio mart\",\"reliance mart\"]\n",
    "products=[\"food\", \"groceries\", \"drinks\", \"vegitables\"]"
   ]
  },
  {
   "cell_type": "code",
   "execution_count": 11,
   "id": "cfcc7d35",
   "metadata": {},
   "outputs": [
    {
     "name": "stdout",
     "output_type": "stream",
     "text": [
      "*****this is the******** jio mart\n",
      "------>product details food\n",
      "------>product details groceries\n",
      "------>product details drinks\n",
      "------>product details vegitables\n",
      "*****this is the******** reliance mart\n",
      "------>product details food\n",
      "------>product details groceries\n",
      "------>product details drinks\n",
      "------>product details vegitables\n"
     ]
    }
   ],
   "source": [
    "mart_product(marts,products)"
   ]
  },
  {
   "cell_type": "code",
   "execution_count": 12,
   "id": "0aa0f666",
   "metadata": {},
   "outputs": [],
   "source": [
    "# function definition-----------\n",
    "def mart_product_v1(param1,param2):    \n",
    "    for mart in param1:\n",
    "        print(\"*****this is the********\", mart)\n",
    "        for prd in param2:\n",
    "            print(\"------>product details\",prd)\n",
    "        "
   ]
  },
  {
   "cell_type": "code",
   "execution_count": null,
   "id": "19fb28e0",
   "metadata": {},
   "outputs": [],
   "source": [
    "marts=[\"jio mart\",\"reliance mart\"]\n",
    "products=[\"food\", \"groceries\", \"drinks\", \"vegitables\"]"
   ]
  },
  {
   "cell_type": "code",
   "execution_count": 13,
   "id": "80cd5890",
   "metadata": {},
   "outputs": [
    {
     "name": "stdout",
     "output_type": "stream",
     "text": [
      "*****this is the******** jio mart\n",
      "------>product details food\n",
      "------>product details groceries\n",
      "------>product details drinks\n",
      "------>product details vegitables\n",
      "*****this is the******** reliance mart\n",
      "------>product details food\n",
      "------>product details groceries\n",
      "------>product details drinks\n",
      "------>product details vegitables\n"
     ]
    }
   ],
   "source": [
    "mart_product_v1([\"jio mart\",\"reliance mart\"],[\"food\", \"groceries\", \"drinks\", \"vegitables\"])"
   ]
  },
  {
   "cell_type": "code",
   "execution_count": 14,
   "id": "f7b9b2a3",
   "metadata": {},
   "outputs": [
    {
     "name": "stdout",
     "output_type": "stream",
     "text": [
      "*****this is the******** jio mart\n",
      "------>product details food\n",
      "------>product details groceries\n",
      "------>product details drinks\n",
      "------>product details vegitables\n",
      "*****this is the******** reliance mart\n",
      "------>product details food\n",
      "------>product details groceries\n",
      "------>product details drinks\n",
      "------>product details vegitables\n",
      "*****this is the******** d mart\n",
      "------>product details food\n",
      "------>product details groceries\n",
      "------>product details drinks\n",
      "------>product details vegitables\n"
     ]
    }
   ],
   "source": [
    "mart_product_v1([\"jio mart\",\"reliance mart\",\"d mart\"],[\"food\", \"groceries\", \"drinks\", \"vegitables\"])"
   ]
  },
  {
   "cell_type": "code",
   "execution_count": 15,
   "id": "cfdaa1e5",
   "metadata": {},
   "outputs": [
    {
     "name": "stdout",
     "output_type": "stream",
     "text": [
      "*****this is the******** jio mart\n",
      "------>product details food\n",
      "------>product details groceries\n",
      "------>product details drinks\n",
      "------>product details vegitables\n",
      "*****this is the******** reliance mart\n",
      "------>product details food\n",
      "------>product details groceries\n",
      "------>product details drinks\n",
      "------>product details vegitables\n",
      "*****this is the******** d mart\n",
      "------>product details food\n",
      "------>product details groceries\n",
      "------>product details drinks\n",
      "------>product details vegitables\n",
      "*****this is the******** p -mart\n",
      "------>product details food\n",
      "------>product details groceries\n",
      "------>product details drinks\n",
      "------>product details vegitables\n"
     ]
    }
   ],
   "source": [
    "mart_product_v1([\"jio mart\",\"reliance mart\",\"d mart\",\"p -mart\"],[\"food\", \"groceries\", \"drinks\", \"vegitables\"])"
   ]
  },
  {
   "cell_type": "code",
   "execution_count": null,
   "id": "d65c205c",
   "metadata": {},
   "outputs": [],
   "source": [
    "-------functions\n",
    "\n",
    "marts\n",
    "products\n",
    "percentages/offered rates\n",
    "\n",
    "logic\n",
    "\n",
    "\n",
    "--->input parameter\n",
    "--->logic\n",
    "---->output /return value"
   ]
  },
  {
   "cell_type": "code",
   "execution_count": 17,
   "id": "a7289163",
   "metadata": {},
   "outputs": [],
   "source": [
    "# function definition-----------\n",
    "def mart_product_v2(param1,param2):    \n",
    "    for mart in martsnew:\n",
    "        print(\"*****this is the********\", mart)\n",
    "        for prd in productsnew:\n",
    "            print(\"------>product details\",prd)\n",
    "        "
   ]
  },
  {
   "cell_type": "code",
   "execution_count": 18,
   "id": "bee17d0a",
   "metadata": {},
   "outputs": [
    {
     "ename": "NameError",
     "evalue": "name 'martsnew' is not defined",
     "output_type": "error",
     "traceback": [
      "\u001b[1;31m---------------------------------------------------------------------------\u001b[0m",
      "\u001b[1;31mNameError\u001b[0m                                 Traceback (most recent call last)",
      "Cell \u001b[1;32mIn[18], line 1\u001b[0m\n\u001b[1;32m----> 1\u001b[0m \u001b[43mmart_product_v2\u001b[49m\u001b[43m(\u001b[49m\u001b[43m[\u001b[49m\u001b[38;5;124;43m\"\u001b[39;49m\u001b[38;5;124;43mjio mart\u001b[39;49m\u001b[38;5;124;43m\"\u001b[39;49m\u001b[43m,\u001b[49m\u001b[38;5;124;43m\"\u001b[39;49m\u001b[38;5;124;43mreliance mart\u001b[39;49m\u001b[38;5;124;43m\"\u001b[39;49m\u001b[43m,\u001b[49m\u001b[38;5;124;43m\"\u001b[39;49m\u001b[38;5;124;43md mart\u001b[39;49m\u001b[38;5;124;43m\"\u001b[39;49m\u001b[43m,\u001b[49m\u001b[38;5;124;43m\"\u001b[39;49m\u001b[38;5;124;43mp -mart\u001b[39;49m\u001b[38;5;124;43m\"\u001b[39;49m\u001b[43m]\u001b[49m\u001b[43m,\u001b[49m\u001b[43m[\u001b[49m\u001b[38;5;124;43m\"\u001b[39;49m\u001b[38;5;124;43mfood\u001b[39;49m\u001b[38;5;124;43m\"\u001b[39;49m\u001b[43m,\u001b[49m\u001b[43m \u001b[49m\u001b[38;5;124;43m\"\u001b[39;49m\u001b[38;5;124;43mgroceries\u001b[39;49m\u001b[38;5;124;43m\"\u001b[39;49m\u001b[43m,\u001b[49m\u001b[43m \u001b[49m\u001b[38;5;124;43m\"\u001b[39;49m\u001b[38;5;124;43mdrinks\u001b[39;49m\u001b[38;5;124;43m\"\u001b[39;49m\u001b[43m,\u001b[49m\u001b[43m \u001b[49m\u001b[38;5;124;43m\"\u001b[39;49m\u001b[38;5;124;43mvegitables\u001b[39;49m\u001b[38;5;124;43m\"\u001b[39;49m\u001b[43m]\u001b[49m\u001b[43m)\u001b[49m\n",
      "Cell \u001b[1;32mIn[17], line 3\u001b[0m, in \u001b[0;36mmart_product_v2\u001b[1;34m(param1, param2)\u001b[0m\n\u001b[0;32m      2\u001b[0m \u001b[38;5;28;01mdef\u001b[39;00m \u001b[38;5;21mmart_product_v2\u001b[39m(param1,param2):    \n\u001b[1;32m----> 3\u001b[0m     \u001b[38;5;28;01mfor\u001b[39;00m mart \u001b[38;5;129;01min\u001b[39;00m \u001b[43mmartsnew\u001b[49m:\n\u001b[0;32m      4\u001b[0m         \u001b[38;5;28mprint\u001b[39m(\u001b[38;5;124m\"\u001b[39m\u001b[38;5;124m*****this is the********\u001b[39m\u001b[38;5;124m\"\u001b[39m, mart)\n\u001b[0;32m      5\u001b[0m         \u001b[38;5;28;01mfor\u001b[39;00m prd \u001b[38;5;129;01min\u001b[39;00m productsnew:\n",
      "\u001b[1;31mNameError\u001b[0m: name 'martsnew' is not defined"
     ]
    }
   ],
   "source": [
    "mart_product_v2([\"jio mart\",\"reliance mart\",\"d mart\",\"p -mart\"],[\"food\", \"groceries\", \"drinks\", \"vegitables\"])"
   ]
  },
  {
   "cell_type": "code",
   "execution_count": null,
   "id": "bf4b5dc5",
   "metadata": {},
   "outputs": [],
   "source": []
  },
  {
   "cell_type": "code",
   "execution_count": null,
   "id": "2fa1f19a",
   "metadata": {},
   "outputs": [],
   "source": [
    "main application---with function"
   ]
  },
  {
   "cell_type": "code",
   "execution_count": null,
   "id": "77b3ca04",
   "metadata": {},
   "outputs": [],
   "source": [
    "online tt--->\n",
    "subject--> maths,stats, comp scn\n",
    "online tt--avialbe display\n",
    "other tt-->not available\n",
    "maths-->\n",
    "-----> concepts--->add,sub,mul \n",
    "online tt--add avaia, sub avial\n",
    "other con-->not available\n",
    "\n",
    "testing--> chapter----->10,20 \n",
    "output\n",
    "input wrong\n",
    "\n",
    "\n",
    "\n",
    "subject=\"maths/stats/computer science\"\n",
    "maths\n",
    "concepts=\"add/sub/mul\"\n",
    "parameter/variable/testing \n",
    "add\n",
    " two parameter\n",
    "stats\n",
    "concepts=\"min/max\"\n",
    "min\n",
    "two/three\n",
    "computer science\n",
    "concepts=\"basic computer/data science/data engineering\"\n",
    "basic computer \n",
    "ms office ms excel\n",
    "\n",
    "module /substraction/parts and pieces\n",
    "\n",
    "dev-1(.ipynb)\n",
    "maths\n",
    "subjects\n",
    "concepts\n",
    "function\n",
    "\n",
    "dev-2(.ipynb)\n",
    "stats\n",
    "subjects\n",
    "concepts\n",
    "function\n",
    "\n",
    "dev-3(.ipynb)(.py)\n",
    "computer science\n",
    "subjects\n",
    "concepts\n",
    "function\n",
    "\n",
    "dev-4(.ipynb)\n",
    "main----->\n",
    "available subjects\n",
    "concepts\n",
    "parameter pass funcitons\n",
    "\n"
   ]
  },
  {
   "cell_type": "code",
   "execution_count": null,
   "id": "82c28524",
   "metadata": {},
   "outputs": [],
   "source": []
  },
  {
   "cell_type": "code",
   "execution_count": null,
   "id": "6ade6ed3",
   "metadata": {},
   "outputs": [],
   "source": []
  },
  {
   "cell_type": "code",
   "execution_count": null,
   "id": "7a2cc964",
   "metadata": {},
   "outputs": [],
   "source": []
  },
  {
   "cell_type": "code",
   "execution_count": null,
   "id": "1be188c4",
   "metadata": {},
   "outputs": [],
   "source": []
  }
 ],
 "metadata": {
  "kernelspec": {
   "display_name": "Python 3 (ipykernel)",
   "language": "python",
   "name": "python3"
  },
  "language_info": {
   "codemirror_mode": {
    "name": "ipython",
    "version": 3
   },
   "file_extension": ".py",
   "mimetype": "text/x-python",
   "name": "python",
   "nbconvert_exporter": "python",
   "pygments_lexer": "ipython3",
   "version": "3.10.9"
  }
 },
 "nbformat": 4,
 "nbformat_minor": 5
}
