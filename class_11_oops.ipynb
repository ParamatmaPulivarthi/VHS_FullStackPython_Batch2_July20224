{
 "cells": [
  {
   "cell_type": "code",
   "execution_count": null,
   "id": "769ec3dd",
   "metadata": {},
   "outputs": [],
   "source": [
    "syntax:\n",
    "class classname/class_name:\n",
    "    attributes\n",
    "    statements"
   ]
  },
  {
   "cell_type": "code",
   "execution_count": null,
   "id": "181ae9bc",
   "metadata": {},
   "outputs": [],
   "source": [
    "\n",
    "fruites "
   ]
  },
  {
   "cell_type": "code",
   "execution_count": 1,
   "id": "95bb9394",
   "metadata": {},
   "outputs": [],
   "source": [
    "class fruite:\n",
    "    pass"
   ]
  },
  {
   "cell_type": "code",
   "execution_count": 2,
   "id": "cbd73428",
   "metadata": {},
   "outputs": [
    {
     "data": {
      "text/plain": [
       "<__main__.fruite at 0x1aa625f65c0>"
      ]
     },
     "execution_count": 2,
     "metadata": {},
     "output_type": "execute_result"
    }
   ],
   "source": [
    "fruite()"
   ]
  },
  {
   "cell_type": "code",
   "execution_count": 3,
   "id": "751efff0",
   "metadata": {},
   "outputs": [],
   "source": [
    "obj=fruite()"
   ]
  },
  {
   "cell_type": "code",
   "execution_count": 4,
   "id": "e3c5f0e8",
   "metadata": {},
   "outputs": [
    {
     "data": {
      "text/plain": [
       "<__main__.fruite at 0x1aa625178e0>"
      ]
     },
     "execution_count": 4,
     "metadata": {},
     "output_type": "execute_result"
    }
   ],
   "source": [
    "obj"
   ]
  },
  {
   "cell_type": "code",
   "execution_count": 5,
   "id": "b5d745b3",
   "metadata": {},
   "outputs": [],
   "source": [
    "class movie:\n",
    "    movie_name=\"test-1\"\n",
    "    actor_name=\"test-actor\"\n",
    "    director_name=\"test-director-name\"\n",
    "    "
   ]
  },
  {
   "cell_type": "code",
   "execution_count": null,
   "id": "5a582050",
   "metadata": {},
   "outputs": [],
   "source": []
  },
  {
   "cell_type": "code",
   "execution_count": 6,
   "id": "04f86c7f",
   "metadata": {},
   "outputs": [],
   "source": [
    "action_movie=movie()"
   ]
  },
  {
   "cell_type": "code",
   "execution_count": 7,
   "id": "94f14e85",
   "metadata": {},
   "outputs": [
    {
     "data": {
      "text/plain": [
       "<__main__.movie at 0x1aa625f4ca0>"
      ]
     },
     "execution_count": 7,
     "metadata": {},
     "output_type": "execute_result"
    }
   ],
   "source": [
    "action_movie"
   ]
  },
  {
   "cell_type": "code",
   "execution_count": null,
   "id": "7edf99a1",
   "metadata": {},
   "outputs": [],
   "source": [
    "action_movie.parametername"
   ]
  },
  {
   "cell_type": "code",
   "execution_count": 8,
   "id": "0aa0194c",
   "metadata": {},
   "outputs": [
    {
     "data": {
      "text/plain": [
       "'test-1'"
      ]
     },
     "execution_count": 8,
     "metadata": {},
     "output_type": "execute_result"
    }
   ],
   "source": [
    "action_movie.movie_name"
   ]
  },
  {
   "cell_type": "code",
   "execution_count": 9,
   "id": "ba290654",
   "metadata": {},
   "outputs": [
    {
     "data": {
      "text/plain": [
       "'test-actor'"
      ]
     },
     "execution_count": 9,
     "metadata": {},
     "output_type": "execute_result"
    }
   ],
   "source": [
    "action_movie.actor_name"
   ]
  },
  {
   "cell_type": "code",
   "execution_count": 10,
   "id": "d292eecb",
   "metadata": {},
   "outputs": [
    {
     "data": {
      "text/plain": [
       "'test-director-name'"
      ]
     },
     "execution_count": 10,
     "metadata": {},
     "output_type": "execute_result"
    }
   ],
   "source": [
    "action_movie.director_name"
   ]
  },
  {
   "cell_type": "code",
   "execution_count": 11,
   "id": "49fd8c45",
   "metadata": {},
   "outputs": [],
   "source": [
    "fictional_movie=movie()"
   ]
  },
  {
   "cell_type": "code",
   "execution_count": 12,
   "id": "af8786be",
   "metadata": {},
   "outputs": [
    {
     "data": {
      "text/plain": [
       "'test-actor'"
      ]
     },
     "execution_count": 12,
     "metadata": {},
     "output_type": "execute_result"
    }
   ],
   "source": [
    "fictional_movie.actor_name"
   ]
  },
  {
   "cell_type": "code",
   "execution_count": 13,
   "id": "1bb79e71",
   "metadata": {},
   "outputs": [
    {
     "data": {
      "text/plain": [
       "'test-director-name'"
      ]
     },
     "execution_count": 13,
     "metadata": {},
     "output_type": "execute_result"
    }
   ],
   "source": [
    "fictional_movie.director_name\n"
   ]
  },
  {
   "cell_type": "code",
   "execution_count": 14,
   "id": "cad68237",
   "metadata": {},
   "outputs": [],
   "source": [
    "class fashion_indus:\n",
    "    type_of_wear=\"mens,women,kids\"\n",
    "    type_of_cloths=\"cotton,silk\"\n",
    "    prices_range=\"1000-2000\""
   ]
  },
  {
   "cell_type": "code",
   "execution_count": 15,
   "id": "10c5aa30",
   "metadata": {},
   "outputs": [],
   "source": [
    "param_fashion=fashion_indus()"
   ]
  },
  {
   "cell_type": "code",
   "execution_count": 16,
   "id": "62e723e4",
   "metadata": {},
   "outputs": [
    {
     "data": {
      "text/plain": [
       "'mens,women,kids'"
      ]
     },
     "execution_count": 16,
     "metadata": {},
     "output_type": "execute_result"
    }
   ],
   "source": [
    "param_fashion.type_of_wear"
   ]
  },
  {
   "cell_type": "code",
   "execution_count": 17,
   "id": "7675fb3c",
   "metadata": {},
   "outputs": [
    {
     "data": {
      "text/plain": [
       "'cotton,silk'"
      ]
     },
     "execution_count": 17,
     "metadata": {},
     "output_type": "execute_result"
    }
   ],
   "source": [
    "param_fashion.type_of_cloths"
   ]
  },
  {
   "cell_type": "code",
   "execution_count": 18,
   "id": "cff18cc2",
   "metadata": {},
   "outputs": [
    {
     "data": {
      "text/plain": [
       "'1000-2000'"
      ]
     },
     "execution_count": 18,
     "metadata": {},
     "output_type": "execute_result"
    }
   ],
   "source": [
    "param_fashion.prices_range"
   ]
  },
  {
   "cell_type": "code",
   "execution_count": 19,
   "id": "c199c6af",
   "metadata": {},
   "outputs": [],
   "source": [
    "athma_fashion=fashion_indus()"
   ]
  },
  {
   "cell_type": "code",
   "execution_count": 21,
   "id": "9e943407",
   "metadata": {},
   "outputs": [
    {
     "data": {
      "text/plain": [
       "'mens,women,kids'"
      ]
     },
     "execution_count": 21,
     "metadata": {},
     "output_type": "execute_result"
    }
   ],
   "source": [
    "athma_fashion.type_of_wear"
   ]
  },
  {
   "cell_type": "code",
   "execution_count": 22,
   "id": "df5e8e73",
   "metadata": {},
   "outputs": [
    {
     "data": {
      "text/plain": [
       "'1000-2000'"
      ]
     },
     "execution_count": 22,
     "metadata": {},
     "output_type": "execute_result"
    }
   ],
   "source": [
    "athma_fashion.prices_range"
   ]
  },
  {
   "cell_type": "code",
   "execution_count": 23,
   "id": "3af21dba",
   "metadata": {},
   "outputs": [],
   "source": [
    "class fashion_indus_v1:\n",
    "    def __init__(self):\n",
    "        name=\"ravi\"\n",
    "        qualification=\"btech\"\n",
    "        location=\"mtm\"\n",
    "        print(\" the name of the candidate is\",name)\n",
    "        print(\" the qualification of the candidate is\",qualification)\n",
    "        print(\" the location of the candidate is\",location)"
   ]
  },
  {
   "cell_type": "code",
   "execution_count": 24,
   "id": "6111d5fb",
   "metadata": {},
   "outputs": [
    {
     "name": "stdout",
     "output_type": "stream",
     "text": [
      " the name of the candidate is ravi\n",
      " the qualification of the candidate is btech\n",
      " the location of the candidate is mtm\n"
     ]
    }
   ],
   "source": [
    "fashion_customer_details=fashion_indus_v1()"
   ]
  },
  {
   "cell_type": "code",
   "execution_count": 26,
   "id": "9c349b27",
   "metadata": {},
   "outputs": [
    {
     "ename": "AttributeError",
     "evalue": "'fashion_indus_v1' object has no attribute 'name'",
     "output_type": "error",
     "traceback": [
      "\u001b[1;31m---------------------------------------------------------------------------\u001b[0m",
      "\u001b[1;31mAttributeError\u001b[0m                            Traceback (most recent call last)",
      "Cell \u001b[1;32mIn[26], line 1\u001b[0m\n\u001b[1;32m----> 1\u001b[0m \u001b[43mfashion_customer_details\u001b[49m\u001b[38;5;241;43m.\u001b[39;49m\u001b[43mname\u001b[49m\n",
      "\u001b[1;31mAttributeError\u001b[0m: 'fashion_indus_v1' object has no attribute 'name'"
     ]
    }
   ],
   "source": [
    "fashion_customer_details.name"
   ]
  },
  {
   "cell_type": "code",
   "execution_count": 29,
   "id": "3eb82aef",
   "metadata": {},
   "outputs": [],
   "source": [
    "class fashion_indus_v2:\n",
    "    name=\"ravi\"\n",
    "    qualification=\"btech\"\n",
    "    location=\"mtm\"\n",
    "    def __init__(self,name):        \n",
    "        print(\" the name of the candidate is\",name)\n",
    "#         print(\" the qualification of the candidate is\",qualification)\n",
    "#         print(\" the location of the candidate is\",location)"
   ]
  },
  {
   "cell_type": "code",
   "execution_count": 31,
   "id": "d179f4ee",
   "metadata": {},
   "outputs": [
    {
     "name": "stdout",
     "output_type": "stream",
     "text": [
      " the name of the candidate is param\n"
     ]
    }
   ],
   "source": [
    "fashion_test2=fashion_indus_v2(\"param\")"
   ]
  },
  {
   "cell_type": "code",
   "execution_count": 33,
   "id": "64435ad2",
   "metadata": {},
   "outputs": [],
   "source": [
    "class fashion_indus_v3:    \n",
    "    def __init__(self):     \n",
    "        self.name=\"ravi\"\n",
    "        self.qualification=\"btech\"\n",
    "        self.location=\"mtm\"\n",
    "        print(\" the name of the candidate is\",self.name)\n",
    "        print(\" the qualification of the candidate is\",self.qualification)\n",
    "        print(\" the location of the candidate is\",self.location)"
   ]
  },
  {
   "cell_type": "code",
   "execution_count": 34,
   "id": "ac97bc95",
   "metadata": {},
   "outputs": [
    {
     "name": "stdout",
     "output_type": "stream",
     "text": [
      " the name of the candidate is ravi\n",
      " the qualification of the candidate is btech\n",
      " the location of the candidate is mtm\n"
     ]
    }
   ],
   "source": [
    "object_check3=fashion_indus_v3()"
   ]
  },
  {
   "cell_type": "code",
   "execution_count": null,
   "id": "e1f5a806",
   "metadata": {},
   "outputs": [],
   "source": [
    "# method-1: parameters/attributes creations\n",
    "class fashion_indus:\n",
    "    type_of_wear=\"mens,women,kids\"\n",
    "    type_of_cloths=\"cotton,silk\"\n",
    "    prices_range=\"1000-2000\"\n",
    "\n",
    "# method-2: constructor/ __init__ creation\n",
    "class fashion_indus_v1:\n",
    "    def __init__(self):\n",
    "        name=\"ravi\"\n",
    "        qualification=\"btech\"\n",
    "        location=\"mtm\"\n",
    "        print(\" the name of the candidate is\",name)\n",
    "        print(\" the qualification of the candidate is\",qualification)\n",
    "        print(\" the location of the candidate is\",location)\n",
    "\n",
    "# method-3: self variables/attributes creation\n",
    "class fashion_indus_v3:    \n",
    "    def __init__(self):     \n",
    "        self.name=\"ravi\"\n",
    "        self.qualification=\"btech\"\n",
    "        self.location=\"mtm\"\n",
    "        print(\" the name of the candidate is\",self.name)\n",
    "        print(\" the qualification of the candidate is\",self.qualification)\n",
    "        print(\" the location of the candidate is\",self.location)\n"
   ]
  },
  {
   "cell_type": "code",
   "execution_count": null,
   "id": "0a8c8ee5",
   "metadata": {},
   "outputs": [],
   "source": [
    "maths-----add, sub, mul, div "
   ]
  },
  {
   "cell_type": "code",
   "execution_count": 35,
   "id": "0e19e8ae",
   "metadata": {},
   "outputs": [],
   "source": [
    "class maths:\n",
    "    def __init__(self,a,b):\n",
    "        self.param1=a\n",
    "        self.param2=b\n",
    "        print(\" the parameter value -1 is-->\",self.param1)\n",
    "        print(\" the parameter value -2 is-->\",self.param2)"
   ]
  },
  {
   "cell_type": "code",
   "execution_count": 37,
   "id": "3a002315",
   "metadata": {},
   "outputs": [
    {
     "name": "stdout",
     "output_type": "stream",
     "text": [
      " the parameter value -1 is--> 10\n",
      " the parameter value -2 is--> 20\n"
     ]
    }
   ],
   "source": [
    "obj_maths=maths(10,20)"
   ]
  },
  {
   "cell_type": "code",
   "execution_count": 41,
   "id": "7f399300",
   "metadata": {},
   "outputs": [],
   "source": [
    "class maths_v1:\n",
    "    def __init__(self,a,b):\n",
    "        self.param1=a\n",
    "        self.param2=b\n",
    "        print(\" the parameter value -1 is-->\",self.param1)\n",
    "        print(\" the parameter value -2 is-->\",self.param2)\n",
    "    def addition_p(self,a,b):\n",
    "        c=a+b\n",
    "        print(\" the addition of a, b is \",c)\n",
    "        return c"
   ]
  },
  {
   "cell_type": "code",
   "execution_count": null,
   "id": "08502bf6",
   "metadata": {},
   "outputs": [],
   "source": []
  },
  {
   "cell_type": "code",
   "execution_count": 42,
   "id": "83aa56ef",
   "metadata": {},
   "outputs": [
    {
     "name": "stdout",
     "output_type": "stream",
     "text": [
      " the parameter value -1 is--> 10\n",
      " the parameter value -2 is--> 20\n"
     ]
    }
   ],
   "source": [
    "obj_maths_add=maths_v1(10,20)"
   ]
  },
  {
   "cell_type": "code",
   "execution_count": 45,
   "id": "1bca9e1b",
   "metadata": {},
   "outputs": [
    {
     "name": "stdout",
     "output_type": "stream",
     "text": [
      " the addition of a, b is  30\n"
     ]
    },
    {
     "data": {
      "text/plain": [
       "30"
      ]
     },
     "execution_count": 45,
     "metadata": {},
     "output_type": "execute_result"
    }
   ],
   "source": [
    "obj_maths_add.addition_p(10,20)"
   ]
  },
  {
   "cell_type": "code",
   "execution_count": 46,
   "id": "efcbb816",
   "metadata": {},
   "outputs": [],
   "source": [
    "class maths_v2:\n",
    "    def __init__(self,a,b):\n",
    "        self.param1=a\n",
    "        self.param2=b\n",
    "        print(\" the parameter value -1 is-->\",self.param1)\n",
    "        print(\" the parameter value -2 is-->\",self.param2)\n",
    "    def addition_p(self):\n",
    "        c=self.param1+self.param2\n",
    "        print(\" the addition of a, b is \",c)\n",
    "        return c"
   ]
  },
  {
   "cell_type": "code",
   "execution_count": 48,
   "id": "21bc2375",
   "metadata": {},
   "outputs": [
    {
     "name": "stdout",
     "output_type": "stream",
     "text": [
      " the parameter value -1 is--> 10\n",
      " the parameter value -2 is--> 20\n"
     ]
    }
   ],
   "source": [
    "obj_maths_v2_selfadd=maths_v2(10,20)"
   ]
  },
  {
   "cell_type": "code",
   "execution_count": 49,
   "id": "14a83747",
   "metadata": {},
   "outputs": [
    {
     "name": "stdout",
     "output_type": "stream",
     "text": [
      " the addition of a, b is  30\n"
     ]
    },
    {
     "data": {
      "text/plain": [
       "30"
      ]
     },
     "execution_count": 49,
     "metadata": {},
     "output_type": "execute_result"
    }
   ],
   "source": [
    "obj_maths_v2_selfadd.addition_p()"
   ]
  },
  {
   "cell_type": "code",
   "execution_count": 52,
   "id": "d3d84e83",
   "metadata": {},
   "outputs": [
    {
     "name": "stdout",
     "output_type": "stream",
     "text": [
      "the bonus is 20\n"
     ]
    }
   ],
   "source": [
    "class maths_v3:\n",
    "    bonus=20\n",
    "    print(\"the bonus is\",bonus)\n",
    "    def __init__(self,a,b):\n",
    "        self.param1=a\n",
    "        self.param2=b\n",
    "        print(\" the parameter value -1 is-->\",self.param1)\n",
    "        print(\" the parameter value -2 is-->\",self.param2)\n",
    "    def addition_p(self):\n",
    "        c=self.param1+self.param2\n",
    "        print(\" the addition of a, b is \",c)\n",
    "        return c\n",
    "    def addition_bonus_p(self):\n",
    "        c=self.param1+self.param2+bonus\n",
    "        print(\" the bonus addition of a, b is \",c)\n",
    "        return c"
   ]
  },
  {
   "cell_type": "code",
   "execution_count": 56,
   "id": "aeb99414",
   "metadata": {},
   "outputs": [
    {
     "name": "stdout",
     "output_type": "stream",
     "text": [
      "the bonus is 20\n"
     ]
    }
   ],
   "source": [
    "class maths_v3:\n",
    "    bonus=20\n",
    "    print(\"the bonus is\",bonus)\n",
    "    def __init__(self,a,b):\n",
    "        self.param1=a\n",
    "        self.param2=b\n",
    "        print(\" the parameter value -1 is-->\",self.param1)\n",
    "        print(\" the parameter value -2 is-->\",self.param2)\n",
    "    def addition_p(self):\n",
    "        c=self.param1+self.param2\n",
    "        print(\" the addition of a, b is \",c)\n",
    "        return c\n",
    "    def addition_bonus_p(self,bonus):\n",
    "        c=self.param1+self.param2+bonus\n",
    "        print(\" the bonus addition of a, b is \",c)\n",
    "        return c"
   ]
  },
  {
   "cell_type": "code",
   "execution_count": 57,
   "id": "73f2f1ee",
   "metadata": {},
   "outputs": [
    {
     "name": "stdout",
     "output_type": "stream",
     "text": [
      " the parameter value -1 is--> 10\n",
      " the parameter value -2 is--> 20\n"
     ]
    }
   ],
   "source": [
    "obj_bonus_check=maths_v3(10,20)"
   ]
  },
  {
   "cell_type": "code",
   "execution_count": 58,
   "id": "c0a5e5b0",
   "metadata": {},
   "outputs": [
    {
     "name": "stdout",
     "output_type": "stream",
     "text": [
      " the addition of a, b is  30\n"
     ]
    },
    {
     "data": {
      "text/plain": [
       "30"
      ]
     },
     "execution_count": 58,
     "metadata": {},
     "output_type": "execute_result"
    }
   ],
   "source": [
    "obj_bonus_check.addition_p()"
   ]
  },
  {
   "cell_type": "code",
   "execution_count": 61,
   "id": "215c95cb",
   "metadata": {},
   "outputs": [
    {
     "name": "stdout",
     "output_type": "stream",
     "text": [
      " the bonus addition of a, b is  40\n"
     ]
    },
    {
     "data": {
      "text/plain": [
       "40"
      ]
     },
     "execution_count": 61,
     "metadata": {},
     "output_type": "execute_result"
    }
   ],
   "source": [
    "obj_bonus_check.addition_bonus_p(10)"
   ]
  }
 ],
 "metadata": {
  "kernelspec": {
   "display_name": "Python 3 (ipykernel)",
   "language": "python",
   "name": "python3"
  },
  "language_info": {
   "codemirror_mode": {
    "name": "ipython",
    "version": 3
   },
   "file_extension": ".py",
   "mimetype": "text/x-python",
   "name": "python",
   "nbconvert_exporter": "python",
   "pygments_lexer": "ipython3",
   "version": "3.10.9"
  }
 },
 "nbformat": 4,
 "nbformat_minor": 5
}
