{
 "cells": [
  {
   "cell_type": "code",
   "execution_count": 2,
   "id": "42ab2354",
   "metadata": {},
   "outputs": [],
   "source": [
    "from abc import ABC, abstractmethod\n",
    "class BaseClass(ABC):\n",
    "    @abstractmethod\n",
    "    def method_1(self):\n",
    "         #empty body\n",
    "        pass"
   ]
  },
  {
   "cell_type": "code",
   "execution_count": 3,
   "id": "955ca133",
   "metadata": {},
   "outputs": [],
   "source": [
    "# Abstraction method\n",
    "\n",
    "from abc import ABC, abstractmethod\n",
    "class menswear(ABC):\n",
    "    @abstractmethod\n",
    "    def menswear_availablity():\n",
    "        pass"
   ]
  },
  {
   "cell_type": "code",
   "execution_count": 4,
   "id": "8c07c4e3",
   "metadata": {},
   "outputs": [
    {
     "ename": "TypeError",
     "evalue": "Can't instantiate abstract class menswear with abstract method menswear_availablity",
     "output_type": "error",
     "traceback": [
      "\u001b[1;31m---------------------------------------------------------------------------\u001b[0m",
      "\u001b[1;31mTypeError\u001b[0m                                 Traceback (most recent call last)",
      "Cell \u001b[1;32mIn[4], line 1\u001b[0m\n\u001b[1;32m----> 1\u001b[0m m_obj\u001b[38;5;241m=\u001b[39m\u001b[43mmenswear\u001b[49m\u001b[43m(\u001b[49m\u001b[43m)\u001b[49m\n",
      "\u001b[1;31mTypeError\u001b[0m: Can't instantiate abstract class menswear with abstract method menswear_availablity"
     ]
    }
   ],
   "source": [
    "m_obj=menswear()"
   ]
  },
  {
   "cell_type": "code",
   "execution_count": null,
   "id": "8567800b",
   "metadata": {},
   "outputs": [],
   "source": [
    "# Abstraction method\n",
    "class menswear(ABC):\n",
    "    @abstractmethod\n",
    "    def menswear_availablity():\n",
    "        pass"
   ]
  },
  {
   "cell_type": "code",
   "execution_count": 6,
   "id": "8af5ef7a",
   "metadata": {},
   "outputs": [],
   "source": [
    "class womenswear(menswear):\n",
    "    def menswear_availablity():\n",
    "        print(\" menswear is avaialble\")"
   ]
  },
  {
   "cell_type": "code",
   "execution_count": 7,
   "id": "922eb726",
   "metadata": {},
   "outputs": [],
   "source": [
    "w_obj=womenswear()"
   ]
  },
  {
   "cell_type": "code",
   "execution_count": null,
   "id": "1f3ac85e",
   "metadata": {},
   "outputs": [],
   "source": []
  },
  {
   "cell_type": "code",
   "execution_count": 8,
   "id": "25c654ac",
   "metadata": {},
   "outputs": [
    {
     "ename": "TypeError",
     "evalue": "womenswear.menswear_availablity() takes 0 positional arguments but 1 was given",
     "output_type": "error",
     "traceback": [
      "\u001b[1;31m---------------------------------------------------------------------------\u001b[0m",
      "\u001b[1;31mTypeError\u001b[0m                                 Traceback (most recent call last)",
      "Cell \u001b[1;32mIn[8], line 1\u001b[0m\n\u001b[1;32m----> 1\u001b[0m \u001b[43mw_obj\u001b[49m\u001b[38;5;241;43m.\u001b[39;49m\u001b[43mmenswear_availablity\u001b[49m\u001b[43m(\u001b[49m\u001b[43m)\u001b[49m\n",
      "\u001b[1;31mTypeError\u001b[0m: womenswear.menswear_availablity() takes 0 positional arguments but 1 was given"
     ]
    }
   ],
   "source": [
    "w_obj.menswear_availablity()"
   ]
  },
  {
   "cell_type": "code",
   "execution_count": 18,
   "id": "2d2f1766",
   "metadata": {},
   "outputs": [],
   "source": [
    "# Abstraction method\n",
    "class menswear(ABC):\n",
    "    @abstractmethod\n",
    "    def menswear_availablity(self):\n",
    "        pass\n",
    "    def womenwear_availablitye(self):\n",
    "        print(\" womens wear available\")\n",
    "class check(menswear):\n",
    "    def menswear_availablity(self):\n",
    "        print(\"mens wear available\")"
   ]
  },
  {
   "cell_type": "code",
   "execution_count": 19,
   "id": "154b005c",
   "metadata": {},
   "outputs": [],
   "source": [
    "m_obj=check()"
   ]
  },
  {
   "cell_type": "code",
   "execution_count": 20,
   "id": "3a4bd674",
   "metadata": {},
   "outputs": [
    {
     "name": "stdout",
     "output_type": "stream",
     "text": [
      "mens wear available\n"
     ]
    }
   ],
   "source": [
    "m_obj.menswear_availablity()"
   ]
  },
  {
   "cell_type": "code",
   "execution_count": 21,
   "id": "fc73eb5f",
   "metadata": {},
   "outputs": [
    {
     "name": "stdout",
     "output_type": "stream",
     "text": [
      " womens wear available\n"
     ]
    }
   ],
   "source": [
    "m_obj.womenwear_availablitye()"
   ]
  }
 ],
 "metadata": {
  "kernelspec": {
   "display_name": "Python 3 (ipykernel)",
   "language": "python",
   "name": "python3"
  },
  "language_info": {
   "codemirror_mode": {
    "name": "ipython",
    "version": 3
   },
   "file_extension": ".py",
   "mimetype": "text/x-python",
   "name": "python",
   "nbconvert_exporter": "python",
   "pygments_lexer": "ipython3",
   "version": "3.10.9"
  }
 },
 "nbformat": 4,
 "nbformat_minor": 5
}
