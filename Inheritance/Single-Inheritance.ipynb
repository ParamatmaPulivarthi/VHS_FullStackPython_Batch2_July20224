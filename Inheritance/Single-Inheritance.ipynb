{
 "cells": [
  {
   "cell_type": "code",
   "execution_count": null,
   "id": "9738145b",
   "metadata": {},
   "outputs": [],
   "source": [
    "# Types of inheritances\n",
    "# 1.Single Inheritance\n",
    "# 2.Multi-Level Inheritance\n",
    "# 3.Multiple Inheritance\n",
    "# 4.Hierarchical Inheritance\n",
    "# 5.Hybrid Inheritance"
   ]
  },
  {
   "cell_type": "markdown",
   "id": "cbdb5c11",
   "metadata": {},
   "source": [
    "# Single Inheritance"
   ]
  },
  {
   "cell_type": "code",
   "execution_count": 1,
   "id": "fb839054",
   "metadata": {},
   "outputs": [],
   "source": [
    "# Creating parent \n",
    "\n",
    "class parent():\n",
    "    def __init__(self,fname,mname,sirname):\n",
    "        self.fname=fname\n",
    "        self.mname=mname\n",
    "        self.sirname=sirname\n",
    "        print(\" The Father's name :\", self.fname)\n",
    "        print(\" The Mothers's name :\", self.mname)\n",
    "        print(\" The Sirname :\", self.sirname)\n",
    "    def father_occupation(self,occupation):\n",
    "        print(\" the parent \", self.fname, \"occupation is :\", occupation)\n",
    "    def mother_occupation(self,occupation):\n",
    "        print(\" the parent \", self.mname, \"occupation is :\", occupation)"
   ]
  },
  {
   "cell_type": "code",
   "execution_count": 2,
   "id": "fe231b66",
   "metadata": {},
   "outputs": [
    {
     "name": "stdout",
     "output_type": "stream",
     "text": [
      " The Father's name : ventat\n",
      " The Mothers's name : lakshmi\n",
      " The Sirname : ragula\n"
     ]
    }
   ],
   "source": [
    "par=parent(\"ventat\",\"lakshmi\",\"ragula\")"
   ]
  },
  {
   "cell_type": "code",
   "execution_count": 3,
   "id": "2482770a",
   "metadata": {},
   "outputs": [
    {
     "data": {
      "text/plain": [
       "<__main__.parent at 0x1f62eba2290>"
      ]
     },
     "execution_count": 3,
     "metadata": {},
     "output_type": "execute_result"
    }
   ],
   "source": [
    "par"
   ]
  },
  {
   "cell_type": "code",
   "execution_count": 4,
   "id": "6b1ba44c",
   "metadata": {},
   "outputs": [
    {
     "name": "stdout",
     "output_type": "stream",
     "text": [
      " the parent  ventat occupation is : farmer\n"
     ]
    }
   ],
   "source": [
    "par.father_occupation(\"farmer\")"
   ]
  },
  {
   "cell_type": "code",
   "execution_count": 5,
   "id": "fb6dcacb",
   "metadata": {},
   "outputs": [
    {
     "name": "stdout",
     "output_type": "stream",
     "text": [
      " the parent  lakshmi occupation is : home maker\n"
     ]
    }
   ],
   "source": [
    "par.mother_occupation(\"home maker\")"
   ]
  },
  {
   "cell_type": "code",
   "execution_count": 6,
   "id": "ef3d15c7",
   "metadata": {},
   "outputs": [],
   "source": [
    "class child(parent):\n",
    "    pass"
   ]
  },
  {
   "cell_type": "code",
   "execution_count": 7,
   "id": "b98e35be",
   "metadata": {},
   "outputs": [
    {
     "name": "stdout",
     "output_type": "stream",
     "text": [
      " The Father's name : venkat\n",
      " The Mothers's name : lakshmi\n",
      " The Sirname : ragula\n"
     ]
    }
   ],
   "source": [
    "objbb=child(\"venkat\",\"lakshmi\",\"ragula\")"
   ]
  },
  {
   "cell_type": "code",
   "execution_count": 8,
   "id": "cebd75cd",
   "metadata": {},
   "outputs": [
    {
     "name": "stdout",
     "output_type": "stream",
     "text": [
      "Help on class child in module __main__:\n",
      "\n",
      "class child(parent)\n",
      " |  child(fname, mname, sirname)\n",
      " |  \n",
      " |  Method resolution order:\n",
      " |      child\n",
      " |      parent\n",
      " |      builtins.object\n",
      " |  \n",
      " |  Methods inherited from parent:\n",
      " |  \n",
      " |  __init__(self, fname, mname, sirname)\n",
      " |      Initialize self.  See help(type(self)) for accurate signature.\n",
      " |  \n",
      " |  father_occupation(self, occupation)\n",
      " |  \n",
      " |  mother_occupation(self, occupation)\n",
      " |  \n",
      " |  ----------------------------------------------------------------------\n",
      " |  Data descriptors inherited from parent:\n",
      " |  \n",
      " |  __dict__\n",
      " |      dictionary for instance variables (if defined)\n",
      " |  \n",
      " |  __weakref__\n",
      " |      list of weak references to the object (if defined)\n",
      "\n",
      "None\n"
     ]
    }
   ],
   "source": [
    "print(help(child))"
   ]
  },
  {
   "cell_type": "code",
   "execution_count": 10,
   "id": "03240ae2",
   "metadata": {},
   "outputs": [],
   "source": [
    "# Creating child class\n",
    "class child(parent):\n",
    "    def __init__(self,fname,mname,sirname,cname):\n",
    "        super().__init__(fname,mname,sirname)\n",
    "#         parent.__init__(self,fname,mname,sirname)\n",
    "        self.cname=cname\n",
    "        print(\" The child name :\", self.cname)\n",
    "    def child_occupation(self,occupation):\n",
    "        print(\" the child \", self.cname, \"occupation is :\", occupation)\n",
    "    def child_interest(self,interest=None):\n",
    "        print(\" the child \", self.cname, \"interest is :\", interest)"
   ]
  },
  {
   "cell_type": "code",
   "execution_count": 11,
   "id": "22df07e9",
   "metadata": {},
   "outputs": [
    {
     "name": "stdout",
     "output_type": "stream",
     "text": [
      " The Father's name : venkat\n",
      " The Mothers's name : lakshmi\n",
      " The Sirname : ragula\n",
      " The child name : ravi\n"
     ]
    }
   ],
   "source": [
    "chpar=child(\"venkat\",\"lakshmi\",\"ragula\",\"ravi\")"
   ]
  },
  {
   "cell_type": "code",
   "execution_count": 12,
   "id": "42c3c127",
   "metadata": {},
   "outputs": [
    {
     "name": "stdout",
     "output_type": "stream",
     "text": [
      "<__main__.child object at 0x000001F63028AF50>\n"
     ]
    }
   ],
   "source": [
    "print(chpar)"
   ]
  },
  {
   "cell_type": "code",
   "execution_count": 13,
   "id": "0cbcbf2d",
   "metadata": {},
   "outputs": [
    {
     "name": "stdout",
     "output_type": "stream",
     "text": [
      " the child  ravi occupation is : student\n"
     ]
    }
   ],
   "source": [
    "chpar.child_occupation(\"student\")"
   ]
  },
  {
   "cell_type": "code",
   "execution_count": 14,
   "id": "31768e46",
   "metadata": {},
   "outputs": [
    {
     "name": "stdout",
     "output_type": "stream",
     "text": [
      " the child  ravi interest is : ['circket', 'chess']\n"
     ]
    }
   ],
   "source": [
    "chpar.child_interest([\"circket\",\"chess\"])"
   ]
  },
  {
   "cell_type": "code",
   "execution_count": 15,
   "id": "e388948c",
   "metadata": {},
   "outputs": [
    {
     "name": "stdout",
     "output_type": "stream",
     "text": [
      " the parent  venkat occupation is : farmer\n"
     ]
    }
   ],
   "source": [
    "chpar.father_occupation(\"farmer\")"
   ]
  },
  {
   "cell_type": "code",
   "execution_count": 16,
   "id": "14074a99",
   "metadata": {},
   "outputs": [
    {
     "name": "stdout",
     "output_type": "stream",
     "text": [
      " the parent  lakshmi occupation is : home maker\n"
     ]
    }
   ],
   "source": [
    "chpar.mother_occupation(\"home maker\")"
   ]
  },
  {
   "cell_type": "code",
   "execution_count": null,
   "id": "e8032b88",
   "metadata": {},
   "outputs": [],
   "source": [
    "# Business use case\n",
    "\n",
    "Parent Class: Fashion wear\n",
    "    \n",
    "Child Class : Western Wear\n"
   ]
  },
  {
   "cell_type": "code",
   "execution_count": 17,
   "id": "daab87b8",
   "metadata": {},
   "outputs": [],
   "source": [
    "\n",
    "#parent class creation\n",
    "class Fashionwear():\n",
    "    def __init__(self,typeofwear,typeofperson,clothcategory,priceofitem):\n",
    "        self.typeofwear=typeofwear # Traditional, fashion, Cultural \n",
    "        self.typeofperson=typeofperson #men,women,kids\n",
    "        self.clothcategory=clothcategory\n",
    "        self.priceofitem=priceofitem\n",
    "        print(\" Type of wear : \",self.typeofwear )\n",
    "        print(\" Type of person : \",self.typeofperson )\n",
    "        print(\" Type of cloth : \",self.clothcategory )\n",
    "        print(\" Price of item : \",self.priceofitem )\n",
    "    def typeofwear_mencat(self,men):\n",
    "        if men==\"men\":\n",
    "            print(\" Men's wear avaialble  \")\n",
    "        else:\n",
    "            print(\" not avaiable\")\n",
    "    \n",
    "    def typeofwear_women(self,men):\n",
    "        if men==\"women\":\n",
    "            print(\" Women's wear avaialble  \")\n",
    "        else:\n",
    "            print(\" not avaiable\")\n",
    "        \n",
    "    \n",
    "    "
   ]
  },
  {
   "cell_type": "code",
   "execution_count": 18,
   "id": "42cc5451",
   "metadata": {},
   "outputs": [
    {
     "name": "stdout",
     "output_type": "stream",
     "text": [
      " Type of wear :  traditional\n",
      " Type of person :  men\n",
      " Type of cloth :  silk\n",
      " Price of item :  below 1000\n"
     ]
    }
   ],
   "source": [
    "fash_obj=Fashionwear(\"traditional\",\"men\",\"silk\",\"below 1000\")"
   ]
  },
  {
   "cell_type": "code",
   "execution_count": 19,
   "id": "cc7e27a7",
   "metadata": {},
   "outputs": [
    {
     "name": "stdout",
     "output_type": "stream",
     "text": [
      " Men's wear avaialble  \n"
     ]
    }
   ],
   "source": [
    "fash_obj.typeofwear_mencat('men')"
   ]
  },
  {
   "cell_type": "code",
   "execution_count": 21,
   "id": "a271abfe",
   "metadata": {},
   "outputs": [
    {
     "name": "stdout",
     "output_type": "stream",
     "text": [
      " not avaiable\n"
     ]
    }
   ],
   "source": [
    "fash_obj.typeofwear_mencat('Men')"
   ]
  },
  {
   "cell_type": "code",
   "execution_count": 20,
   "id": "ec5b4647",
   "metadata": {},
   "outputs": [
    {
     "name": "stdout",
     "output_type": "stream",
     "text": [
      " Women's wear avaialble  \n"
     ]
    }
   ],
   "source": [
    "fash_obj.typeofwear_women('women')"
   ]
  },
  {
   "cell_type": "code",
   "execution_count": 22,
   "id": "6cbefefb",
   "metadata": {},
   "outputs": [],
   "source": [
    "\n",
    "#child class creation\n",
    "class Westernwear(Fashionwear):\n",
    "    def __init__(self,typeofwear,typeofperson,clothcategory,priceofitem,westerntype):\n",
    "        super().__init__(typeofwear,typeofperson,clothcategory,priceofitem)\n",
    "        self.westerntype=westerntype\n",
    "        print(\"Type of Western wear: \",self.westerntype)\n",
    "    def typeofwwear_blazer(self,blazer):\n",
    "        if blazer==\"slim\":\n",
    "            print(\" blazer avaialble  \")\n",
    "        else:\n",
    "            print(\" not avaiable\")    \n",
    "    "
   ]
  },
  {
   "cell_type": "code",
   "execution_count": 23,
   "id": "8fe294c7",
   "metadata": {},
   "outputs": [
    {
     "name": "stdout",
     "output_type": "stream",
     "text": [
      " Type of wear :  traditional\n",
      " Type of person :  men\n",
      " Type of cloth :  silk\n",
      " Price of item :  below 1000\n",
      "Type of Western wear:  blazer\n"
     ]
    }
   ],
   "source": [
    "west_w_obj=Westernwear(\"traditional\",\"men\",\"silk\",\"below 1000\",\"blazer\")"
   ]
  },
  {
   "cell_type": "code",
   "execution_count": 24,
   "id": "083cecf3",
   "metadata": {},
   "outputs": [
    {
     "name": "stdout",
     "output_type": "stream",
     "text": [
      " not avaiable\n"
     ]
    }
   ],
   "source": [
    "west_w_obj.typeofwwear_blazer('slik')"
   ]
  },
  {
   "cell_type": "code",
   "execution_count": 25,
   "id": "27a29527",
   "metadata": {},
   "outputs": [
    {
     "name": "stdout",
     "output_type": "stream",
     "text": [
      " blazer avaialble  \n"
     ]
    }
   ],
   "source": [
    "west_w_obj.typeofwwear_blazer('slim')"
   ]
  },
  {
   "cell_type": "code",
   "execution_count": 26,
   "id": "b3812f68",
   "metadata": {},
   "outputs": [
    {
     "name": "stdout",
     "output_type": "stream",
     "text": [
      " Men's wear avaialble  \n"
     ]
    }
   ],
   "source": [
    "west_w_obj.typeofwear_mencat('men')"
   ]
  },
  {
   "cell_type": "code",
   "execution_count": 27,
   "id": "f76cccb3",
   "metadata": {},
   "outputs": [
    {
     "name": "stdout",
     "output_type": "stream",
     "text": [
      " Women's wear avaialble  \n"
     ]
    }
   ],
   "source": [
    "west_w_obj.typeofwear_women('women')"
   ]
  }
 ],
 "metadata": {
  "kernelspec": {
   "display_name": "Python 3 (ipykernel)",
   "language": "python",
   "name": "python3"
  },
  "language_info": {
   "codemirror_mode": {
    "name": "ipython",
    "version": 3
   },
   "file_extension": ".py",
   "mimetype": "text/x-python",
   "name": "python",
   "nbconvert_exporter": "python",
   "pygments_lexer": "ipython3",
   "version": "3.10.9"
  }
 },
 "nbformat": 4,
 "nbformat_minor": 5
}
