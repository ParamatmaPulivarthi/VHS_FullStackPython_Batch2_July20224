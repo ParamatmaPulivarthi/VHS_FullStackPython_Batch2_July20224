{
 "cells": [
  {
   "cell_type": "code",
   "execution_count": 1,
   "id": "c516291c",
   "metadata": {},
   "outputs": [],
   "source": [
    "#parent class\n",
    "class Parent:\n",
    "    def fun1(self):\n",
    "        print(\"This is parent class\")\n",
    " "
   ]
  },
  {
   "cell_type": "code",
   "execution_count": 5,
   "id": "119bdced",
   "metadata": {},
   "outputs": [],
   "source": [
    "\n",
    "#child class 1\n",
    "class child1(Parent):\n",
    "    def fun2(self):\n",
    "        print(\"This is child class-1\")\n"
   ]
  },
  {
   "cell_type": "code",
   "execution_count": 4,
   "id": "41c69aff",
   "metadata": {},
   "outputs": [],
   "source": [
    "\n",
    "#child class 2 \n",
    "class child2(Parent):\n",
    "    def fun3(self):\n",
    "        print(\"This is child class-2\")\n",
    " "
   ]
  },
  {
   "cell_type": "code",
   "execution_count": 2,
   "id": "acdbf121",
   "metadata": {},
   "outputs": [],
   "source": [
    "\n",
    "#child class 3\n",
    "class child3(Parent):\n",
    "    def fun4(self):\n",
    "        print(\"This is child class-3\")\n",
    " "
   ]
  },
  {
   "cell_type": "code",
   "execution_count": null,
   "id": "7cfd2c75",
   "metadata": {},
   "outputs": [],
   "source": []
  },
  {
   "cell_type": "code",
   "execution_count": 6,
   "id": "bfb98044",
   "metadata": {},
   "outputs": [],
   "source": [
    "\n",
    "# main program\n",
    "child_obj1 = child1()"
   ]
  },
  {
   "cell_type": "code",
   "execution_count": 7,
   "id": "67d7893c",
   "metadata": {},
   "outputs": [
    {
     "data": {
      "text/plain": [
       "<__main__.child1 at 0x18a3b881690>"
      ]
     },
     "execution_count": 7,
     "metadata": {},
     "output_type": "execute_result"
    }
   ],
   "source": [
    "child_obj1"
   ]
  },
  {
   "cell_type": "code",
   "execution_count": 8,
   "id": "5b04a562",
   "metadata": {},
   "outputs": [
    {
     "name": "stdout",
     "output_type": "stream",
     "text": [
      "This is child class-1\n"
     ]
    }
   ],
   "source": [
    "child_obj1.fun2()"
   ]
  },
  {
   "cell_type": "code",
   "execution_count": 9,
   "id": "f53f4403",
   "metadata": {},
   "outputs": [
    {
     "name": "stdout",
     "output_type": "stream",
     "text": [
      "This is parent class\n"
     ]
    }
   ],
   "source": [
    "\n",
    "child_obj1.fun1()\n"
   ]
  },
  {
   "cell_type": "code",
   "execution_count": 10,
   "id": "45efba50",
   "metadata": {},
   "outputs": [
    {
     "name": "stdout",
     "output_type": "stream",
     "text": [
      "This is parent class\n",
      "This is child class-2\n"
     ]
    }
   ],
   "source": [
    "child_obj2 = child2()\n",
    "child_obj2.fun1()\n",
    "child_obj2.fun3()"
   ]
  },
  {
   "cell_type": "code",
   "execution_count": 11,
   "id": "644b0d08",
   "metadata": {},
   "outputs": [
    {
     "name": "stdout",
     "output_type": "stream",
     "text": [
      "This is parent class\n",
      "This is child class-3\n"
     ]
    }
   ],
   "source": [
    "child_obj3 = child3()\n",
    "child_obj3.fun1()\n",
    "child_obj3.fun4()"
   ]
  },
  {
   "cell_type": "code",
   "execution_count": 12,
   "id": "1709a24c",
   "metadata": {},
   "outputs": [],
   "source": [
    "class GrandFather:\n",
    "    # Constructor to set Data\n",
    "    def __init__(self, gf_name,gf_age , gf_location):\n",
    "        self.gf_name = gf_name\n",
    "        self.gf_age = gf_age\n",
    "        self.gf_location = gf_location\n",
    "    def grandfather_print_data(self):\n",
    "        print(f\"The Grand Father Name is : {self.gf_name}\")\n",
    "        print(f\"The Grand Father Age is : {self.gf_age}\")\n",
    "        print(f\"The Grand Father Location is : {self.gf_location}\")\n",
    "        "
   ]
  },
  {
   "cell_type": "code",
   "execution_count": 13,
   "id": "a761d4b5",
   "metadata": {},
   "outputs": [],
   "source": [
    "gf_obj=GrandFather(\"venkat\",\"80\",\"Vijayawada-1\")"
   ]
  },
  {
   "cell_type": "code",
   "execution_count": 14,
   "id": "0f171106",
   "metadata": {},
   "outputs": [
    {
     "data": {
      "text/plain": [
       "<__main__.GrandFather at 0x18a3b833e20>"
      ]
     },
     "execution_count": 14,
     "metadata": {},
     "output_type": "execute_result"
    }
   ],
   "source": [
    "gf_obj"
   ]
  },
  {
   "cell_type": "code",
   "execution_count": 15,
   "id": "58530034",
   "metadata": {},
   "outputs": [
    {
     "name": "stdout",
     "output_type": "stream",
     "text": [
      "The Grand Father Name is : venkat\n",
      "The Grand Father Age is : 80\n",
      "The Grand Father Location is : Vijayawada-1\n"
     ]
    }
   ],
   "source": [
    "gf_obj.grandfather_print_data()"
   ]
  },
  {
   "cell_type": "code",
   "execution_count": 16,
   "id": "fb82bacb",
   "metadata": {},
   "outputs": [],
   "source": [
    "# Intermediate Class: Inherits the Base Class\n",
    "class Father(GrandFather):\n",
    "    # Constructor to set age\n",
    "    def __init__(self, f_name,f_age,f_location,gf_name,gf_age , gf_location):\n",
    "        super().__init__(gf_name,gf_age , gf_location)\n",
    "        self.f_name = f_name\n",
    "        self.f_age = f_age\n",
    "        self.f_location = f_location\n",
    "    def father_print_data(self):\n",
    "        print(f\"The Father Name is : {self.f_name}\")\n",
    "        print(f\"The Father Age is : {self.f_age}\")\n",
    "        print(f\"The Father Location is : {self.f_location}\")\n",
    "        "
   ]
  },
  {
   "cell_type": "code",
   "execution_count": 17,
   "id": "ebb1b4e1",
   "metadata": {},
   "outputs": [],
   "source": [
    "f_obj=Father(\"Ravi\",\"50\",\"Vijayawada-2\",\"venkat\",\"80\",\"Vijayawada-1\")"
   ]
  },
  {
   "cell_type": "code",
   "execution_count": 18,
   "id": "64b56c9a",
   "metadata": {},
   "outputs": [
    {
     "data": {
      "text/plain": [
       "<__main__.Father at 0x18a3cf29bd0>"
      ]
     },
     "execution_count": 18,
     "metadata": {},
     "output_type": "execute_result"
    }
   ],
   "source": [
    "f_obj"
   ]
  },
  {
   "cell_type": "code",
   "execution_count": 19,
   "id": "063d42c4",
   "metadata": {},
   "outputs": [
    {
     "name": "stdout",
     "output_type": "stream",
     "text": [
      "The Father Name is : Ravi\n",
      "The Father Age is : 50\n",
      "The Father Location is : Vijayawada-2\n"
     ]
    }
   ],
   "source": [
    "f_obj.father_print_data()"
   ]
  },
  {
   "cell_type": "code",
   "execution_count": 20,
   "id": "aab741a0",
   "metadata": {},
   "outputs": [
    {
     "name": "stdout",
     "output_type": "stream",
     "text": [
      "The Grand Father Name is : venkat\n",
      "The Grand Father Age is : 80\n",
      "The Grand Father Location is : Vijayawada-1\n"
     ]
    }
   ],
   "source": [
    "f_obj.grandfather_print_data()"
   ]
  },
  {
   "cell_type": "code",
   "execution_count": 21,
   "id": "0d568da9",
   "metadata": {},
   "outputs": [],
   "source": [
    "\n",
    "# Derived Class: Inherits the Intermediate Class\n",
    "class Child(GrandFather):\n",
    "    # Method to Print Data\n",
    "    def __init__(self,c_name,c_age,c_location,gf_name,gf_age , gf_location):\n",
    "        super().__init__(gf_name,gf_age , gf_location)\n",
    "        self.c_name = c_name\n",
    "        self.c_age = c_age\n",
    "        self.c_location = c_location\n",
    "\n",
    "    def child_print_data(self):\n",
    "        print(f\"The Child Name is : {self.c_name}\")\n",
    "        print(f\"The Child Age is : {self.c_age}\")\n",
    "        print(f\"The Child Location is : {self.c_location}\")\n",
    "        \n"
   ]
  },
  {
   "cell_type": "code",
   "execution_count": 22,
   "id": "d2346665",
   "metadata": {},
   "outputs": [],
   "source": [
    "c_obj=Child(\"Shankar\",\"23\",\"Vijayawada-3\",\"venkat\",\"80\",\"Vijayawada-1\")"
   ]
  },
  {
   "cell_type": "code",
   "execution_count": 23,
   "id": "fa9dfa17",
   "metadata": {},
   "outputs": [
    {
     "data": {
      "text/plain": [
       "<__main__.Child at 0x18a3b811b40>"
      ]
     },
     "execution_count": 23,
     "metadata": {},
     "output_type": "execute_result"
    }
   ],
   "source": [
    "c_obj"
   ]
  },
  {
   "cell_type": "code",
   "execution_count": 24,
   "id": "3d1812ee",
   "metadata": {},
   "outputs": [
    {
     "name": "stdout",
     "output_type": "stream",
     "text": [
      "The Child Name is : Shankar\n",
      "The Child Age is : 23\n",
      "The Child Location is : Vijayawada-3\n"
     ]
    }
   ],
   "source": [
    "c_obj.child_print_data()"
   ]
  },
  {
   "cell_type": "code",
   "execution_count": 25,
   "id": "8acd3512",
   "metadata": {},
   "outputs": [
    {
     "name": "stdout",
     "output_type": "stream",
     "text": [
      "The Grand Father Name is : venkat\n",
      "The Grand Father Age is : 80\n",
      "The Grand Father Location is : Vijayawada-1\n"
     ]
    }
   ],
   "source": [
    "c_obj.grandfather_print_data()"
   ]
  },
  {
   "cell_type": "code",
   "execution_count": null,
   "id": "86b37dc3",
   "metadata": {},
   "outputs": [],
   "source": []
  },
  {
   "cell_type": "code",
   "execution_count": null,
   "id": "33a7255c",
   "metadata": {},
   "outputs": [],
   "source": [
    "# Fashion Industry "
   ]
  },
  {
   "cell_type": "code",
   "execution_count": 26,
   "id": "99ca2483",
   "metadata": {},
   "outputs": [],
   "source": [
    "# Men's wear\n",
    "class menswear:\n",
    "    def __init__(self,mdresstype,mcloth_type,mexp_price):\n",
    "        self.mdresstype=mdresstype\n",
    "        self.mcloth_type=mcloth_type\n",
    "        self.mexp_price=mexp_price\n",
    "    def men_wear_availablity(self):\n",
    "        print(\"The Men's Wear Available\")\n",
    "    def men_wear_details(self):\n",
    "        print(\"The Men's Wear -- Dress Type:       \",self.mdresstype)\n",
    "        print(\"The Men's Wear -- Cloth Type:       \",self.mcloth_type)\n",
    "        print(\"The Men's Wear -- Expected Price:   \", self.mexp_price)    "
   ]
  },
  {
   "cell_type": "code",
   "execution_count": null,
   "id": "bba5859d",
   "metadata": {},
   "outputs": [],
   "source": [
    "# mdresstype\n",
    "# shirt /T-shirt/jeans\n",
    "# cloth_type\n",
    "# linen, cotton, silk \n",
    "#price\n",
    "# 1000, 2000,3000\n"
   ]
  },
  {
   "cell_type": "code",
   "execution_count": 27,
   "id": "806d4d5b",
   "metadata": {},
   "outputs": [],
   "source": [
    "mobj=menswear('shirt','linen',1000)"
   ]
  },
  {
   "cell_type": "code",
   "execution_count": 28,
   "id": "66da283e",
   "metadata": {},
   "outputs": [
    {
     "data": {
      "text/plain": [
       "<__main__.menswear at 0x18a3cf45780>"
      ]
     },
     "execution_count": 28,
     "metadata": {},
     "output_type": "execute_result"
    }
   ],
   "source": [
    "mobj"
   ]
  },
  {
   "cell_type": "code",
   "execution_count": 29,
   "id": "5feb4d0d",
   "metadata": {},
   "outputs": [
    {
     "name": "stdout",
     "output_type": "stream",
     "text": [
      "The Men's Wear Available\n"
     ]
    }
   ],
   "source": [
    "mobj.men_wear_availablity()"
   ]
  },
  {
   "cell_type": "code",
   "execution_count": 30,
   "id": "a1cf063c",
   "metadata": {},
   "outputs": [
    {
     "name": "stdout",
     "output_type": "stream",
     "text": [
      "The Men's Wear -- Dress Type:        shirt\n",
      "The Men's Wear -- Cloth Type:        linen\n",
      "The Men's Wear -- Expected Price:    1000\n"
     ]
    }
   ],
   "source": [
    "mobj.men_wear_details()"
   ]
  },
  {
   "cell_type": "code",
   "execution_count": 31,
   "id": "235cb331",
   "metadata": {},
   "outputs": [],
   "source": [
    "# Women's Wear\n",
    "class womenwear(menswear):\n",
    "    def __init__(self,mdresstype,mcloth_type,mexp_price,wdresstype,wcloth_type,wexp_price):\n",
    "        super().__init__(mdresstype,mcloth_type,mexp_price)\n",
    "        self.wdresstype=wdresstype\n",
    "        self.wcloth_type=wcloth_type\n",
    "        self.wexp_price=wexp_price\n",
    "    def women_wear_availablity(self):\n",
    "        print(\"The Women's Wear Available\")\n",
    "    def women_wear_details(self):\n",
    "        print(\"The Women's Wear -- Dress Type:      \",self.wdresstype)\n",
    "        print(\"The Women's Wear -- Cloth Type:      \",self.wcloth_type)\n",
    "        print(\"The Women's Wear -- Expected Price:  \", self.wexp_price)\n",
    "    "
   ]
  },
  {
   "cell_type": "code",
   "execution_count": null,
   "id": "7987ef80",
   "metadata": {},
   "outputs": [],
   "source": [
    "# mdresstype\n",
    "# lehenga, saree,indian gown\n",
    "# cloth_type\n",
    "# linen, cotton, silk \n",
    "#price\n",
    "# 1000, 2000,3000"
   ]
  },
  {
   "cell_type": "code",
   "execution_count": 32,
   "id": "f532eaa0",
   "metadata": {},
   "outputs": [],
   "source": [
    "wobj=womenwear('shirt','linen',1000,'lehenga','linen',3000)"
   ]
  },
  {
   "cell_type": "code",
   "execution_count": 33,
   "id": "ef1f9b4b",
   "metadata": {},
   "outputs": [
    {
     "data": {
      "text/plain": [
       "<__main__.womenwear at 0x18a3cf01e10>"
      ]
     },
     "execution_count": 33,
     "metadata": {},
     "output_type": "execute_result"
    }
   ],
   "source": [
    "wobj"
   ]
  },
  {
   "cell_type": "code",
   "execution_count": 34,
   "id": "bbbc8102",
   "metadata": {},
   "outputs": [
    {
     "name": "stdout",
     "output_type": "stream",
     "text": [
      "The Women's Wear Available\n"
     ]
    }
   ],
   "source": [
    "wobj.women_wear_availablity()"
   ]
  },
  {
   "cell_type": "code",
   "execution_count": 35,
   "id": "f1a90a0f",
   "metadata": {},
   "outputs": [
    {
     "name": "stdout",
     "output_type": "stream",
     "text": [
      "The Women's Wear -- Dress Type:       lehenga\n",
      "The Women's Wear -- Cloth Type:       linen\n",
      "The Women's Wear -- Expected Price:   3000\n"
     ]
    }
   ],
   "source": [
    "wobj.women_wear_details()"
   ]
  },
  {
   "cell_type": "code",
   "execution_count": 36,
   "id": "eeae7ffc",
   "metadata": {},
   "outputs": [
    {
     "name": "stdout",
     "output_type": "stream",
     "text": [
      "The Men's Wear -- Dress Type:        shirt\n",
      "The Men's Wear -- Cloth Type:        linen\n",
      "The Men's Wear -- Expected Price:    1000\n"
     ]
    }
   ],
   "source": [
    "wobj.men_wear_details()"
   ]
  },
  {
   "cell_type": "code",
   "execution_count": null,
   "id": "e1283c72",
   "metadata": {},
   "outputs": [],
   "source": []
  },
  {
   "cell_type": "code",
   "execution_count": 37,
   "id": "98a3e6cd",
   "metadata": {},
   "outputs": [],
   "source": [
    "# Kid's Wear\n",
    "class kidswear(menswear):\n",
    "    def __init__(self,mdresstype,mcloth_type,mexp_price,kdresstype,kcloth_type,kexp_price):\n",
    "        super().__init__(mdresstype,mcloth_type,mexp_price)\n",
    "        self.kdresstype=kdresstype\n",
    "        self.kcloth_type=kcloth_type\n",
    "        self.kexp_price=kexp_price\n",
    "    def kids_wear_availablity(self):\n",
    "        print(\"The kids' Wear Available\")\n",
    "    def kids_wear_details(self):\n",
    "        print(\"The kids' Wear  -- Dress Type:       \",self.kdresstype)\n",
    "        print(\"The kids' Wear  -- Cloth Type:       \",self.kcloth_type)\n",
    "        print(\"The kids' Wear  -- Expected Price:   \", self.kexp_price)\n",
    "    "
   ]
  },
  {
   "cell_type": "code",
   "execution_count": null,
   "id": "3a464231",
   "metadata": {},
   "outputs": [],
   "source": [
    "# dresstype:\n",
    "# kids frocks,skirts,ethinic wear\n",
    "#cloth_type\n",
    "# linen, cotton, silk \n",
    "#price\n",
    "# 1000,2000,3000"
   ]
  },
  {
   "cell_type": "code",
   "execution_count": 38,
   "id": "0c8f24c3",
   "metadata": {},
   "outputs": [],
   "source": [
    "kobj=kidswear('shirt','linen',1000,'kids frocks','linen',2000)"
   ]
  },
  {
   "cell_type": "code",
   "execution_count": 39,
   "id": "ec18a591",
   "metadata": {},
   "outputs": [
    {
     "data": {
      "text/plain": [
       "<__main__.kidswear at 0x18a3b91b100>"
      ]
     },
     "execution_count": 39,
     "metadata": {},
     "output_type": "execute_result"
    }
   ],
   "source": [
    "kobj"
   ]
  },
  {
   "cell_type": "code",
   "execution_count": 40,
   "id": "519d9b82",
   "metadata": {},
   "outputs": [
    {
     "name": "stdout",
     "output_type": "stream",
     "text": [
      "The kids' Wear Available\n"
     ]
    }
   ],
   "source": [
    "kobj.kids_wear_availablity()"
   ]
  },
  {
   "cell_type": "code",
   "execution_count": 41,
   "id": "d36d3c98",
   "metadata": {},
   "outputs": [
    {
     "name": "stdout",
     "output_type": "stream",
     "text": [
      "The kids' Wear  -- Dress Type:        kids frocks\n",
      "The kids' Wear  -- Cloth Type:        linen\n",
      "The kids' Wear  -- Expected Price:    2000\n"
     ]
    }
   ],
   "source": [
    "kobj.kids_wear_details()"
   ]
  },
  {
   "cell_type": "code",
   "execution_count": 42,
   "id": "ebd12318",
   "metadata": {},
   "outputs": [
    {
     "name": "stdout",
     "output_type": "stream",
     "text": [
      "The Men's Wear -- Dress Type:        shirt\n",
      "The Men's Wear -- Cloth Type:        linen\n",
      "The Men's Wear -- Expected Price:    1000\n"
     ]
    }
   ],
   "source": [
    "kobj.men_wear_details()"
   ]
  },
  {
   "cell_type": "code",
   "execution_count": null,
   "id": "c443303c",
   "metadata": {},
   "outputs": [],
   "source": []
  },
  {
   "cell_type": "code",
   "execution_count": null,
   "id": "6f09b7f1",
   "metadata": {},
   "outputs": [],
   "source": []
  },
  {
   "cell_type": "code",
   "execution_count": null,
   "id": "69bdd833",
   "metadata": {},
   "outputs": [],
   "source": []
  },
  {
   "cell_type": "code",
   "execution_count": null,
   "id": "50e23cac",
   "metadata": {},
   "outputs": [],
   "source": []
  },
  {
   "cell_type": "code",
   "execution_count": null,
   "id": "488f49e4",
   "metadata": {},
   "outputs": [],
   "source": []
  },
  {
   "cell_type": "code",
   "execution_count": null,
   "id": "bb05edd4",
   "metadata": {},
   "outputs": [],
   "source": []
  },
  {
   "cell_type": "code",
   "execution_count": null,
   "id": "3faf790a",
   "metadata": {},
   "outputs": [],
   "source": []
  },
  {
   "cell_type": "code",
   "execution_count": null,
   "id": "966e7091",
   "metadata": {},
   "outputs": [],
   "source": []
  },
  {
   "cell_type": "code",
   "execution_count": null,
   "id": "270e2269",
   "metadata": {},
   "outputs": [],
   "source": []
  }
 ],
 "metadata": {
  "kernelspec": {
   "display_name": "Python 3 (ipykernel)",
   "language": "python",
   "name": "python3"
  },
  "language_info": {
   "codemirror_mode": {
    "name": "ipython",
    "version": 3
   },
   "file_extension": ".py",
   "mimetype": "text/x-python",
   "name": "python",
   "nbconvert_exporter": "python",
   "pygments_lexer": "ipython3",
   "version": "3.10.9"
  }
 },
 "nbformat": 4,
 "nbformat_minor": 5
}
