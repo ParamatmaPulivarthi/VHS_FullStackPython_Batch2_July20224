{
 "cells": [
  {
   "cell_type": "code",
   "execution_count": 1,
   "id": "5fc7369f",
   "metadata": {},
   "outputs": [],
   "source": [
    "class Base:\n",
    "    # Constructor to set Data\n",
    "    def __init__(self, name,age , location):\n",
    "        self.name = name\n",
    "        self.age = age\n",
    "        self.location = location"
   ]
  },
  {
   "cell_type": "code",
   "execution_count": 2,
   "id": "ea129e0f",
   "metadata": {},
   "outputs": [],
   "source": [
    "# Intermediate Class: Inherits the Base Class\n",
    "class Intermediate(Base):\n",
    "    # Constructor to set age\n",
    "    def __init__(self, qualification, name, age, location):\n",
    "        super().__init__(name, age, location)\n",
    "        self.qualification = qualification\n"
   ]
  },
  {
   "cell_type": "code",
   "execution_count": 3,
   "id": "2c99a1e4",
   "metadata": {},
   "outputs": [],
   "source": [
    "# Intermediate Class: Inherits the Base Class\n",
    "class BankDetail():\n",
    "    # Constructor to set age\n",
    "    def __init__(self, bankname, acctno, branch, banklocation):\n",
    "        self.bankname = bankname\n",
    "        self.acctno = acctno\n",
    "        self.branch = branch\n",
    "        self.banklocation = banklocation\n"
   ]
  },
  {
   "cell_type": "code",
   "execution_count": 4,
   "id": "c08899a2",
   "metadata": {},
   "outputs": [],
   "source": [
    "\n",
    "# Derived Class: Inherits the Intermediate Class\n",
    "class Derived(Intermediate,BankDetail):\n",
    "    # Method to Print Data\n",
    "    def __init__(self,jobrole, qualification, name, age, location,bankname, acctno, branch, banklocation):\n",
    "        Intermediate.__init__(self,qualification, name, age, location)\n",
    "        BankDetail.__init__(self,bankname, acctno, branch, banklocation)        \n",
    "        self.jobrole=jobrole\n",
    "\n",
    "    def Print_Data(self):\n",
    "        print(f\"The Name is : {self.name}\")\n",
    "        print(f\"The Age is : {self.age}\")\n",
    "        print(f\"The Location is : {self.location}\")\n",
    "        print(f\"The Qualification is : {self.qualification}\")\n",
    "        print(f\"The Jobrole is : {self.jobrole}\")\n",
    "        print(f\"The bankname is : {self.bankname}\")\n",
    "        print(f\"The Account Number is : {self.acctno}\")\n",
    "        print(f\"The Branch is : {self.branch}\")\n",
    "        print(f\"The Bank location is : {self.banklocation}\")\n"
   ]
  },
  {
   "cell_type": "code",
   "execution_count": 5,
   "id": "063b760d",
   "metadata": {},
   "outputs": [
    {
     "name": "stdout",
     "output_type": "stream",
     "text": [
      "The Name is : SBI\n",
      "The Age is : 12398765\n",
      "The Location is : Kannuru\n",
      "The Qualification is : M.Tech\n",
      "The Jobrole is : Teacher\n",
      "The bankname is : \n",
      "The Account Number is : Param\n",
      "The Branch is : 23\n",
      "The Bank location is : Vijayawada\n"
     ]
    }
   ],
   "source": [
    "\n",
    "# Creating Object of Base Class\n",
    "obj = Derived(\"Teacher\", \"M.Tech\",\"SBI\",\"12398765\",\"Kannuru\",\"\",\"Param\",\"23\",\"Vijayawada\")\n",
    "\n",
    "# Printing the data with the help of derived class\n",
    "obj.Print_Data()"
   ]
  },
  {
   "cell_type": "code",
   "execution_count": 6,
   "id": "181a8142",
   "metadata": {},
   "outputs": [],
   "source": [
    "class GrandFather:\n",
    "    # Constructor to set Data\n",
    "    def __init__(self, gf_name,gf_age , gf_location):\n",
    "        self.gf_name = gf_name\n",
    "        self.gf_age = gf_age\n",
    "        self.gf_location = gf_location"
   ]
  },
  {
   "cell_type": "code",
   "execution_count": 7,
   "id": "2053c81a",
   "metadata": {},
   "outputs": [],
   "source": [
    "gf_obj=GrandFather(\"venkat\",\"50\",\"Vijayawada-1\")"
   ]
  },
  {
   "cell_type": "code",
   "execution_count": 8,
   "id": "254c0115",
   "metadata": {},
   "outputs": [
    {
     "data": {
      "text/plain": [
       "<__main__.GrandFather at 0x24c63be2050>"
      ]
     },
     "execution_count": 8,
     "metadata": {},
     "output_type": "execute_result"
    }
   ],
   "source": [
    "gf_obj"
   ]
  },
  {
   "cell_type": "code",
   "execution_count": 10,
   "id": "2a5eaa1c",
   "metadata": {},
   "outputs": [],
   "source": [
    "# Intermediate Class: Inherits the Base Class\n",
    "class Father(GrandFather):\n",
    "    # Constructor to set age\n",
    "    def __init__(self, f_name,f_age,f_location,gf_name,gf_age , gf_location):\n",
    "        super().__init__(gf_name,gf_age , gf_location)\n",
    "        self.f_name = f_name\n",
    "        self.f_age = f_age\n",
    "        self.f_location = f_location\n"
   ]
  },
  {
   "cell_type": "code",
   "execution_count": 11,
   "id": "af7122dd",
   "metadata": {},
   "outputs": [],
   "source": [
    "# Intermediate Class: Inherits the Base Class\n",
    "class Mother():\n",
    "    # Constructor to set age\n",
    "    def __init__(self, m_name,m_age,m_location):\n",
    "        self.m_name = m_name\n",
    "        self.m_age = m_age\n",
    "        self.m_location = m_location\n"
   ]
  },
  {
   "cell_type": "code",
   "execution_count": 12,
   "id": "c5dc4b97",
   "metadata": {},
   "outputs": [],
   "source": [
    "\n",
    "# Derived Class: Inherits the Intermediate Class\n",
    "class Child(Father,Mother):\n",
    "    # Method to Print Data\n",
    "    def __init__(self,c_name,c_age,c_location,f_name,f_age,f_location,gf_name,gf_age,gf_location, m_name,m_age,m_location):\n",
    "        Father.__init__(self,f_name,f_age,f_location,gf_name,gf_age,gf_location)\n",
    "        Mother.__init__( self,m_name,m_age,m_location)\n",
    "        self.c_name = c_name\n",
    "        self.c_age = c_age\n",
    "        self.c_location = c_location\n",
    "\n",
    "    def Print_Data(self):\n",
    "        print(f\"The Grand Father Name is : {self.gf_name}\")\n",
    "        print(f\"The Grand Father Age is : {self.gf_age}\")\n",
    "        print(f\"The Grand Father Location is : {self.gf_location}\")\n",
    "        print(f\"The Father Name is : {self.f_name}\")\n",
    "        print(f\"The Father Age is : {self.f_age}\")\n",
    "        print(f\"The Father Location is : {self.f_location}\")\n",
    "        print(f\"The Mother Name is : {self.m_name}\")\n",
    "        print(f\"The Mother Age is : {self.m_age}\")\n",
    "        print(f\"The Mother Location is : {self.m_location}\")\n",
    "        print(f\"The Child Name is : {self.c_name}\")\n",
    "        print(f\"The Child Age is : {self.c_age}\")\n",
    "        print(f\"The Child Location is : {self.c_location}\")\n",
    "        \n",
    "        \n"
   ]
  },
  {
   "cell_type": "code",
   "execution_count": 13,
   "id": "4a950fb2",
   "metadata": {},
   "outputs": [
    {
     "name": "stdout",
     "output_type": "stream",
     "text": [
      "The Grand Father Name is : Roshan\n",
      "The Grand Father Age is : 79\n",
      "The Grand Father Location is : Vijayawada-3\n",
      "The Father Name is : Rakesh\n",
      "The Father Age is : 50\n",
      "The Father Location is : Vijayawada-2\n",
      "The Mother Name is : Gayatri\n",
      "The Mother Age is : 48\n",
      "The Mother Location is : Vijayawada-2\n",
      "The Child Name is : Ravi\n",
      "The Child Age is : 25\n",
      "The Child Location is : Vijayawada-1\n"
     ]
    }
   ],
   "source": [
    "\n",
    "# Creating Object of Base Class\n",
    "obj = Child(\n",
    "    #child details\n",
    "    \"Ravi\",\"25\",\"Vijayawada-1\",\n",
    "    #father details\n",
    "    \"Rakesh\",\"50\",\"Vijayawada-2\",\n",
    "    #GrandFather details\n",
    "    \"Roshan\",\"79\",\"Vijayawada-3\",\n",
    "    #Mother details\n",
    "    \"Gayatri\",\"48\",\"Vijayawada-2\")\n",
    "\n",
    "# Printing the data with the help of derived class\n",
    "obj.Print_Data()"
   ]
  },
  {
   "cell_type": "code",
   "execution_count": null,
   "id": "cbffd18f",
   "metadata": {},
   "outputs": [],
   "source": [
    "# Fashion Industry"
   ]
  },
  {
   "cell_type": "code",
   "execution_count": 14,
   "id": "15190256",
   "metadata": {},
   "outputs": [],
   "source": [
    "# Men's wear\n",
    "class menswear:\n",
    "    def __init__(self,mdresstype,mcloth_type,mexp_price):\n",
    "        self.mdresstype=mdresstype\n",
    "        self.mcloth_type=mcloth_type\n",
    "        self.mexp_price=mexp_price\n",
    "    def men_wear_availablity(self):\n",
    "        print(\"The Men's Wear Available\")\n",
    "    def men_wear_details(self):\n",
    "        print(\"The Men's Wear -- Dress Type:       \",self.mdresstype)\n",
    "        print(\"The Men's Wear -- Cloth Type:       \",self.mcloth_type)\n",
    "        print(\"The Men's Wear -- Expected Price:   \", self.mexp_price)    "
   ]
  },
  {
   "cell_type": "code",
   "execution_count": null,
   "id": "719c03be",
   "metadata": {},
   "outputs": [],
   "source": [
    "# mdresstype\n",
    "# shirt /T-shirt/jeans\n",
    "# cloth_type\n",
    "# linen, cotton, silk \n",
    "#price\n",
    "# 1000, 2000,3000\n"
   ]
  },
  {
   "cell_type": "code",
   "execution_count": 15,
   "id": "99090c9e",
   "metadata": {},
   "outputs": [],
   "source": [
    "mobj=menswear('shirt','linen',1000)"
   ]
  },
  {
   "cell_type": "code",
   "execution_count": 16,
   "id": "0ce02c7e",
   "metadata": {},
   "outputs": [
    {
     "data": {
      "text/plain": [
       "<__main__.menswear at 0x24c63c50370>"
      ]
     },
     "execution_count": 16,
     "metadata": {},
     "output_type": "execute_result"
    }
   ],
   "source": [
    "mobj"
   ]
  },
  {
   "cell_type": "code",
   "execution_count": 17,
   "id": "cfe11fbc",
   "metadata": {},
   "outputs": [
    {
     "name": "stdout",
     "output_type": "stream",
     "text": [
      "The Men's Wear Available\n"
     ]
    }
   ],
   "source": [
    "mobj.men_wear_availablity()"
   ]
  },
  {
   "cell_type": "code",
   "execution_count": 18,
   "id": "a63d7403",
   "metadata": {},
   "outputs": [
    {
     "name": "stdout",
     "output_type": "stream",
     "text": [
      "The Men's Wear -- Dress Type:        shirt\n",
      "The Men's Wear -- Cloth Type:        linen\n",
      "The Men's Wear -- Expected Price:    1000\n"
     ]
    }
   ],
   "source": [
    "mobj.men_wear_details()"
   ]
  },
  {
   "cell_type": "code",
   "execution_count": 19,
   "id": "cbcd2676",
   "metadata": {},
   "outputs": [],
   "source": [
    "# Women's Wear\n",
    "class womenwear(menswear):\n",
    "    def __init__(self,mdresstype,mcloth_type,mexp_price,wdresstype,wcloth_type,wexp_price):\n",
    "        super().__init__(mdresstype,mcloth_type,mexp_price)\n",
    "        self.wdresstype=wdresstype\n",
    "        self.wcloth_type=wcloth_type\n",
    "        self.wexp_price=wexp_price\n",
    "    def women_wear_availablity(self):\n",
    "        print(\"The Women's Wear Available\")\n",
    "    def women_wear_details(self):\n",
    "        print(\"The Women's Wear -- Dress Type:      \",self.wdresstype)\n",
    "        print(\"The Women's Wear -- Cloth Type:      \",self.wcloth_type)\n",
    "        print(\"The Women's Wear -- Expected Price:  \", self.wexp_price)\n",
    "    def women_men_wear_details(self):\n",
    "        print(\"The Women's Wear -- Dress Type:      \",self.wdresstype)\n",
    "        print(\"The Women's Wear -- Cloth Type:      \",self.wcloth_type)\n",
    "        print(\"The Women's Wear -- Expected Price:  \", self.wexp_price)\n",
    "        print(\"The Men's Wear -- Dress Type:      \",self.mdresstype)\n",
    "        print(\"The Men's Wear -- Cloth Type:      \",self.mcloth_type)\n",
    "        print(\"The Men's Wear -- Expected Price:  \", self.mexp_price)"
   ]
  },
  {
   "cell_type": "code",
   "execution_count": null,
   "id": "8acc3dc6",
   "metadata": {},
   "outputs": [],
   "source": [
    "# mdresstype\n",
    "# lehenga, saree,indian gown\n",
    "# cloth_type\n",
    "# linen, cotton, silk \n",
    "#price\n",
    "# 1000, 2000,3000"
   ]
  },
  {
   "cell_type": "code",
   "execution_count": 20,
   "id": "a86180de",
   "metadata": {},
   "outputs": [],
   "source": [
    "wobj=womenwear('shirt','linen',1000,'lehenga','linen',3000)"
   ]
  },
  {
   "cell_type": "code",
   "execution_count": 21,
   "id": "ffc106e7",
   "metadata": {},
   "outputs": [
    {
     "data": {
      "text/plain": [
       "<__main__.womenwear at 0x24c63c21d50>"
      ]
     },
     "execution_count": 21,
     "metadata": {},
     "output_type": "execute_result"
    }
   ],
   "source": [
    "wobj"
   ]
  },
  {
   "cell_type": "code",
   "execution_count": 22,
   "id": "16b64c04",
   "metadata": {},
   "outputs": [
    {
     "name": "stdout",
     "output_type": "stream",
     "text": [
      "The Women's Wear Available\n"
     ]
    }
   ],
   "source": [
    "wobj.women_wear_availablity()"
   ]
  },
  {
   "cell_type": "code",
   "execution_count": 23,
   "id": "c8bff0dc",
   "metadata": {},
   "outputs": [
    {
     "name": "stdout",
     "output_type": "stream",
     "text": [
      "The Women's Wear -- Dress Type:       lehenga\n",
      "The Women's Wear -- Cloth Type:       linen\n",
      "The Women's Wear -- Expected Price:   3000\n"
     ]
    }
   ],
   "source": [
    "wobj.women_wear_details()"
   ]
  },
  {
   "cell_type": "code",
   "execution_count": 24,
   "id": "b0c1b344",
   "metadata": {},
   "outputs": [
    {
     "name": "stdout",
     "output_type": "stream",
     "text": [
      "The Women's Wear -- Dress Type:       lehenga\n",
      "The Women's Wear -- Cloth Type:       linen\n",
      "The Women's Wear -- Expected Price:   3000\n",
      "The Men's Wear -- Dress Type:       shirt\n",
      "The Men's Wear -- Cloth Type:       linen\n",
      "The Men's Wear -- Expected Price:   1000\n"
     ]
    }
   ],
   "source": [
    "wobj.women_men_wear_details()"
   ]
  },
  {
   "cell_type": "code",
   "execution_count": 26,
   "id": "438fe3b4",
   "metadata": {},
   "outputs": [],
   "source": [
    "# Women's Wear\n",
    "class CulturalWear():\n",
    "    def __init__(self,cldresstype,clcloth_type,clexp_price):\n",
    "        self.cldresstype=cldresstype\n",
    "        self.clcloth_type=clcloth_type\n",
    "        self.clexp_price=clexp_price\n",
    "    def cultural_wear_availablity(self):\n",
    "        print(\"The Cultural Wear Available\")\n",
    "    def cultural_wear_details(self):\n",
    "        print(\"The Cultural Wear -- Dress Type:      \",self.cldresstype)\n",
    "        print(\"The Cultural Wear -- Cloth Type:      \",self.clcloth_type)\n",
    "        print(\"The Cultural Wear -- Expected Price:  \", self.clexp_price)"
   ]
  },
  {
   "cell_type": "code",
   "execution_count": 27,
   "id": "2346f720",
   "metadata": {},
   "outputs": [],
   "source": [
    "# Kid's Wear\n",
    "class kidswear(womenwear,CulturalWear):\n",
    "    def __init__(self,\n",
    "                 mdresstype,mcloth_type,mexp_price,\n",
    "                 wdresstype,wcloth_type,wexp_price,\n",
    "                 kdresstype,kcloth_type,kexp_price,\n",
    "                cldresstype,clcloth_type,clexp_price\n",
    "                ):\n",
    "        womenwear.__init__(self,mdresstype,mcloth_type,mexp_price,\n",
    "                           wdresstype,wcloth_type,wexp_price)\n",
    "        CulturalWear.__init__(self,cldresstype,clcloth_type,clexp_price)\n",
    "        self.kdresstype=kdresstype\n",
    "        self.kcloth_type=kcloth_type\n",
    "        self.kexp_price=kexp_price\n",
    "    def kids_wear_availablity(self):\n",
    "        print(\"The kids' Wear Available\")\n",
    "    def kids_wear_details(self):\n",
    "        print(\"The kids' Wear  -- Dress Type:       \",self.kdresstype)\n",
    "        print(\"The kids' Wear  -- Cloth Type:       \",self.kcloth_type)\n",
    "        print(\"The kids' Wear  -- Expected Price:   \", self.kexp_price)\n",
    "    def kids_women_wear_details(self):\n",
    "        print(\"The kids' Wear  -- Dress Type:       \",self.kdresstype)\n",
    "        print(\"The kids' Wear  -- Cloth Type:       \",self.kcloth_type)\n",
    "        print(\"The kids' Wear  -- Expected Price:   \", self.kexp_price)\n",
    "        print(\"The Women's Wear  -- Dress Type:       \",self.wdresstype)\n",
    "        print(\"The Women's Wear  -- Cloth Type:       \",self.wcloth_type)\n",
    "        print(\"The Women's Wear  -- Expected Price:   \", self.wexp_price)\n",
    "    def kids_women_men_wear_details(self):\n",
    "        print(\"The kids' Wear  -- Dress Type:       \",self.kdresstype)\n",
    "        print(\"The kids' Wear  -- Cloth Type:       \",self.kcloth_type)\n",
    "        print(\"The kids' Wear  -- Expected Price:   \", self.kexp_price)\n",
    "        print(\"The Women's Wear  -- Dress Type:       \",self.wdresstype)\n",
    "        print(\"The Women's Wear  -- Cloth Type:       \",self.wcloth_type)\n",
    "        print(\"The Women's Wear  -- Expected Price:   \", self.wexp_price)\n",
    "        print(\"The Men's Wear  -- Dress Type:       \",self.mdresstype)\n",
    "        print(\"The Men's Wear  -- Cloth Type:       \",self.mcloth_type)\n",
    "        print(\"The Men's Wear  -- Expected Price:   \", self.mexp_price)\n",
    "        print(\"The Cultural Wear -- Dress Type:      \",self.cldresstype)\n",
    "        print(\"The Cultural Wear -- Cloth Type:      \",self.clcloth_type)\n",
    "        print(\"The Cultural Wear -- Expected Price:  \", self.clexp_price)"
   ]
  },
  {
   "cell_type": "code",
   "execution_count": null,
   "id": "8634142b",
   "metadata": {},
   "outputs": [],
   "source": [
    "# dresstype:\n",
    "# kids frocks,skirts,ethinic wear\n",
    "#cloth_type\n",
    "# linen, cotton, silk \n",
    "#price\n",
    "# 1000,2000,3000"
   ]
  },
  {
   "cell_type": "code",
   "execution_count": 28,
   "id": "5d6a0d13",
   "metadata": {},
   "outputs": [],
   "source": [
    "kobj=kidswear('shirt','linen',1000,'lehenga','linen',3000,'kids frocks','linen',2000,\"kurta\",\"linen\",5000)"
   ]
  },
  {
   "cell_type": "code",
   "execution_count": 29,
   "id": "f1c7978c",
   "metadata": {},
   "outputs": [
    {
     "data": {
      "text/plain": [
       "<__main__.kidswear at 0x24c6533f850>"
      ]
     },
     "execution_count": 29,
     "metadata": {},
     "output_type": "execute_result"
    }
   ],
   "source": [
    "kobj"
   ]
  },
  {
   "cell_type": "code",
   "execution_count": 30,
   "id": "79fc6e19",
   "metadata": {},
   "outputs": [
    {
     "name": "stdout",
     "output_type": "stream",
     "text": [
      "The kids' Wear Available\n"
     ]
    }
   ],
   "source": [
    "kobj.kids_wear_availablity()"
   ]
  },
  {
   "cell_type": "code",
   "execution_count": 31,
   "id": "ac3fbf19",
   "metadata": {},
   "outputs": [
    {
     "name": "stdout",
     "output_type": "stream",
     "text": [
      "The kids' Wear  -- Dress Type:        kids frocks\n",
      "The kids' Wear  -- Cloth Type:        linen\n",
      "The kids' Wear  -- Expected Price:    2000\n"
     ]
    }
   ],
   "source": [
    "kobj.kids_wear_details()"
   ]
  },
  {
   "cell_type": "code",
   "execution_count": 32,
   "id": "66846662",
   "metadata": {},
   "outputs": [
    {
     "name": "stdout",
     "output_type": "stream",
     "text": [
      "The kids' Wear  -- Dress Type:        kids frocks\n",
      "The kids' Wear  -- Cloth Type:        linen\n",
      "The kids' Wear  -- Expected Price:    2000\n",
      "The Women's Wear  -- Dress Type:        lehenga\n",
      "The Women's Wear  -- Cloth Type:        linen\n",
      "The Women's Wear  -- Expected Price:    3000\n"
     ]
    }
   ],
   "source": [
    "kobj.kids_women_wear_details()"
   ]
  },
  {
   "cell_type": "code",
   "execution_count": 33,
   "id": "c3915fb1",
   "metadata": {},
   "outputs": [
    {
     "name": "stdout",
     "output_type": "stream",
     "text": [
      "The kids' Wear  -- Dress Type:        kids frocks\n",
      "The kids' Wear  -- Cloth Type:        linen\n",
      "The kids' Wear  -- Expected Price:    2000\n",
      "The Women's Wear  -- Dress Type:        lehenga\n",
      "The Women's Wear  -- Cloth Type:        linen\n",
      "The Women's Wear  -- Expected Price:    3000\n",
      "The Men's Wear  -- Dress Type:        shirt\n",
      "The Men's Wear  -- Cloth Type:        linen\n",
      "The Men's Wear  -- Expected Price:    1000\n",
      "The Cultural Wear -- Dress Type:       kurta\n",
      "The Cultural Wear -- Cloth Type:       linen\n",
      "The Cultural Wear -- Expected Price:   5000\n"
     ]
    }
   ],
   "source": [
    "kobj.kids_women_men_wear_details()"
   ]
  },
  {
   "cell_type": "code",
   "execution_count": 34,
   "id": "146e2472",
   "metadata": {},
   "outputs": [
    {
     "name": "stdout",
     "output_type": "stream",
     "text": [
      "The Cultural Wear -- Dress Type:       kurta\n",
      "The Cultural Wear -- Cloth Type:       linen\n",
      "The Cultural Wear -- Expected Price:   5000\n"
     ]
    }
   ],
   "source": [
    "kobj.cultural_wear_details()"
   ]
  },
  {
   "cell_type": "code",
   "execution_count": null,
   "id": "1c09c031",
   "metadata": {},
   "outputs": [],
   "source": []
  },
  {
   "cell_type": "code",
   "execution_count": null,
   "id": "d4cd39db",
   "metadata": {},
   "outputs": [],
   "source": []
  },
  {
   "cell_type": "code",
   "execution_count": null,
   "id": "1365062d",
   "metadata": {},
   "outputs": [],
   "source": []
  }
 ],
 "metadata": {
  "kernelspec": {
   "display_name": "Python 3 (ipykernel)",
   "language": "python",
   "name": "python3"
  },
  "language_info": {
   "codemirror_mode": {
    "name": "ipython",
    "version": 3
   },
   "file_extension": ".py",
   "mimetype": "text/x-python",
   "name": "python",
   "nbconvert_exporter": "python",
   "pygments_lexer": "ipython3",
   "version": "3.10.9"
  }
 },
 "nbformat": 4,
 "nbformat_minor": 5
}
