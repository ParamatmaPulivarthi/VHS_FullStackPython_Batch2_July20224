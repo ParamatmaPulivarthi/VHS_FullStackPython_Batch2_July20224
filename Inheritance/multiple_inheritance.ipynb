{
 "cells": [
  {
   "cell_type": "code",
   "execution_count": 1,
   "id": "39f04a9d",
   "metadata": {},
   "outputs": [],
   "source": [
    "class father:\n",
    "    def __init__(self,fname,fsname,f_occ):\n",
    "        self.fname=fname\n",
    "        self.fsname=fsname\n",
    "        self.f_occ=f_occ\n",
    "    def occ_check_father(self):\n",
    "        print(\"The Initial occupation is Doctor\")\n",
    "    def f_details(self):\n",
    "        print(\"The Father's Name\",self.fname)\n",
    "        print(\"The Father's Initial Name\",self.fsname)\n",
    "        print(\"The Father's Current Occupation is \",self.f_occ)\n",
    "        "
   ]
  },
  {
   "cell_type": "code",
   "execution_count": 2,
   "id": "15aa4535",
   "metadata": {},
   "outputs": [],
   "source": [
    "fobj=father('venkat','veeranki','lawyer')"
   ]
  },
  {
   "cell_type": "code",
   "execution_count": 3,
   "id": "ba8eabb8",
   "metadata": {},
   "outputs": [
    {
     "data": {
      "text/plain": [
       "<__main__.father at 0x21bbf5222f0>"
      ]
     },
     "execution_count": 3,
     "metadata": {},
     "output_type": "execute_result"
    }
   ],
   "source": [
    "fobj"
   ]
  },
  {
   "cell_type": "code",
   "execution_count": 4,
   "id": "6e5f708a",
   "metadata": {},
   "outputs": [
    {
     "name": "stdout",
     "output_type": "stream",
     "text": [
      "The Initial occupation is Doctor\n"
     ]
    }
   ],
   "source": [
    "fobj.occ_check_father()"
   ]
  },
  {
   "cell_type": "code",
   "execution_count": 5,
   "id": "ca447d4a",
   "metadata": {},
   "outputs": [
    {
     "name": "stdout",
     "output_type": "stream",
     "text": [
      "The Father's Name venkat\n",
      "The Father's Initial Name veeranki\n",
      "The Father's Current Occupation is  lawyer\n"
     ]
    }
   ],
   "source": [
    "fobj.f_details()"
   ]
  },
  {
   "cell_type": "code",
   "execution_count": 7,
   "id": "5b3caef5",
   "metadata": {},
   "outputs": [],
   "source": [
    "class mother:\n",
    "    def __init__(self,mname,msname,m_occ):\n",
    "        self.mname=mname\n",
    "        self.msname=msname\n",
    "        self.m_occ=m_occ\n",
    "    def occ_check_mother(self):\n",
    "        print(\"The Initial occupation is Homemaker\")\n",
    "    def m_details(self):\n",
    "        print(\"The Mother's Name\",self.mname)\n",
    "        print(\"The Mother's Initial Name\",self.msname)\n",
    "        print(\"The Mother's Current Occupation is \",self.m_occ)"
   ]
  },
  {
   "cell_type": "code",
   "execution_count": 8,
   "id": "c41f7456",
   "metadata": {},
   "outputs": [],
   "source": [
    "mobj=mother('lakshmi','veeranki','teacher')"
   ]
  },
  {
   "cell_type": "code",
   "execution_count": 9,
   "id": "0f32e570",
   "metadata": {},
   "outputs": [
    {
     "data": {
      "text/plain": [
       "<__main__.mother at 0x21bc0c022f0>"
      ]
     },
     "execution_count": 9,
     "metadata": {},
     "output_type": "execute_result"
    }
   ],
   "source": [
    "mobj"
   ]
  },
  {
   "cell_type": "code",
   "execution_count": 10,
   "id": "9b0cf98d",
   "metadata": {},
   "outputs": [
    {
     "name": "stdout",
     "output_type": "stream",
     "text": [
      "The Initial occupation is Homemaker\n"
     ]
    }
   ],
   "source": [
    "mobj.occ_check_mother()"
   ]
  },
  {
   "cell_type": "code",
   "execution_count": 11,
   "id": "5ee6fa97",
   "metadata": {},
   "outputs": [
    {
     "name": "stdout",
     "output_type": "stream",
     "text": [
      "The Mother's Name lakshmi\n",
      "The Mother's Initial Name veeranki\n",
      "The Mother's Current Occupation is  teacher\n"
     ]
    }
   ],
   "source": [
    "mobj.m_details()"
   ]
  },
  {
   "cell_type": "code",
   "execution_count": 13,
   "id": "dc543106",
   "metadata": {},
   "outputs": [],
   "source": [
    "class child(father,mother):\n",
    "    def __init__(self,fname,fsname,f_occ,mname,msname,m_occ,cname,cqual):\n",
    "        father.__init__(self,fname,fsname,f_occ)\n",
    "        mother.__init__(self,mname,msname,m_occ)\n",
    "        self.cname=cname\n",
    "        self.cqual=cqual\n",
    "    def qual_check_child(self):\n",
    "        print(\"The\",self.cname,\"is studying B.Tech\")\n",
    "    def qual_update(self):\n",
    "        father.f_details(self)\n",
    "        mother.m_details(self)\n",
    "        print(\"The Child's Name\",self.cname)\n",
    "        print(\"The Child's Current Qualificationis \",self.cqual)"
   ]
  },
  {
   "cell_type": "code",
   "execution_count": 14,
   "id": "572bf79b",
   "metadata": {},
   "outputs": [],
   "source": [
    "cobj=child('venkat','veeranki','lawyer','lakshmi','veeranki','teacher','raghu','M.tech')"
   ]
  },
  {
   "cell_type": "code",
   "execution_count": 15,
   "id": "a9503c6c",
   "metadata": {},
   "outputs": [
    {
     "data": {
      "text/plain": [
       "<__main__.child at 0x21bbfad2620>"
      ]
     },
     "execution_count": 15,
     "metadata": {},
     "output_type": "execute_result"
    }
   ],
   "source": [
    "cobj"
   ]
  },
  {
   "cell_type": "code",
   "execution_count": 16,
   "id": "3cbc232a",
   "metadata": {},
   "outputs": [
    {
     "name": "stdout",
     "output_type": "stream",
     "text": [
      "The raghu is studying B.Tech\n"
     ]
    }
   ],
   "source": [
    "cobj.qual_check_child()"
   ]
  },
  {
   "cell_type": "code",
   "execution_count": 17,
   "id": "34fde1d1",
   "metadata": {},
   "outputs": [
    {
     "name": "stdout",
     "output_type": "stream",
     "text": [
      "The Father's Name venkat\n",
      "The Father's Initial Name veeranki\n",
      "The Father's Current Occupation is  lawyer\n",
      "The Mother's Name lakshmi\n",
      "The Mother's Initial Name veeranki\n",
      "The Mother's Current Occupation is  teacher\n",
      "The Child's Name raghu\n",
      "The Child's Current Qualificationis  M.tech\n"
     ]
    }
   ],
   "source": [
    "cobj.qual_update()"
   ]
  },
  {
   "cell_type": "code",
   "execution_count": null,
   "id": "4049c824",
   "metadata": {},
   "outputs": [],
   "source": []
  },
  {
   "cell_type": "code",
   "execution_count": 18,
   "id": "3ab45713",
   "metadata": {},
   "outputs": [],
   "source": [
    "# Men's wear\n",
    "class menswear:\n",
    "    def __init__(self,mdresstype,mcloth_type,mexp_price):\n",
    "        self.mdresstype=mdresstype\n",
    "        self.mcloth_type=mcloth_type\n",
    "        self.mexp_price=mexp_price\n",
    "    def men_wear_availablity(self):\n",
    "        print(\"The Men's Wear Available\")\n",
    "    def men_wear_details(self):\n",
    "        print(\"The Men's Wear -- Dress Type:       \",self.mdresstype)\n",
    "        print(\"The Men's Wear -- Cloth Type:       \",self.mcloth_type)\n",
    "        print(\"The Men's Wear -- Expected Price:   \", self.mexp_price)    "
   ]
  },
  {
   "cell_type": "code",
   "execution_count": null,
   "id": "12f82e29",
   "metadata": {},
   "outputs": [],
   "source": [
    "# mdresstype\n",
    "# shirt /T-shirt/jeans\n",
    "# cloth_type\n",
    "# linen, cotton, silk \n",
    "#price\n",
    "# 1000, 2000,3000\n"
   ]
  },
  {
   "cell_type": "code",
   "execution_count": 19,
   "id": "73a90bbe",
   "metadata": {},
   "outputs": [],
   "source": [
    "mobj=menswear('shirt','linen',1000)"
   ]
  },
  {
   "cell_type": "code",
   "execution_count": 20,
   "id": "dacf989c",
   "metadata": {},
   "outputs": [
    {
     "data": {
      "text/plain": [
       "<__main__.menswear at 0x21bbf62b880>"
      ]
     },
     "execution_count": 20,
     "metadata": {},
     "output_type": "execute_result"
    }
   ],
   "source": [
    "mobj"
   ]
  },
  {
   "cell_type": "code",
   "execution_count": 21,
   "id": "bda8417d",
   "metadata": {},
   "outputs": [
    {
     "name": "stdout",
     "output_type": "stream",
     "text": [
      "The Men's Wear Available\n"
     ]
    }
   ],
   "source": [
    "mobj.men_wear_availablity()"
   ]
  },
  {
   "cell_type": "code",
   "execution_count": 22,
   "id": "c993046c",
   "metadata": {},
   "outputs": [
    {
     "name": "stdout",
     "output_type": "stream",
     "text": [
      "The Men's Wear -- Dress Type:        shirt\n",
      "The Men's Wear -- Cloth Type:        linen\n",
      "The Men's Wear -- Expected Price:    1000\n"
     ]
    }
   ],
   "source": [
    "mobj.men_wear_details()"
   ]
  },
  {
   "cell_type": "code",
   "execution_count": 23,
   "id": "404dcdcf",
   "metadata": {},
   "outputs": [],
   "source": [
    "# Women's Wear\n",
    "class womenwear:\n",
    "    def __init__(self,wdresstype,wcloth_type,wexp_price):\n",
    "        self.wdresstype=wdresstype\n",
    "        self.wcloth_type=wcloth_type\n",
    "        self.wexp_price=wexp_price\n",
    "    def women_wear_availablity(self):\n",
    "        print(\"The Women's Wear Available\")\n",
    "    def women_wear_details(self):\n",
    "        print(\"The Women's Wear -- Dress Type:      \",self.wdresstype)\n",
    "        print(\"The Women's Wear -- Cloth Type:      \",self.wcloth_type)\n",
    "        print(\"The Women's Wear -- Expected Price:  \", self.wexp_price)"
   ]
  },
  {
   "cell_type": "code",
   "execution_count": null,
   "id": "770566ec",
   "metadata": {},
   "outputs": [],
   "source": [
    "# mdresstype\n",
    "# lehenga, saree,indian gown\n",
    "# cloth_type\n",
    "# linen, cotton, silk \n",
    "#price\n",
    "# 1000, 2000,3000"
   ]
  },
  {
   "cell_type": "code",
   "execution_count": 24,
   "id": "6927cea4",
   "metadata": {},
   "outputs": [],
   "source": [
    "wobj=womenwear('lehenga','linen',3000)"
   ]
  },
  {
   "cell_type": "code",
   "execution_count": 25,
   "id": "dd7822f6",
   "metadata": {},
   "outputs": [
    {
     "data": {
      "text/plain": [
       "<__main__.womenwear at 0x21bbfad2d10>"
      ]
     },
     "execution_count": 25,
     "metadata": {},
     "output_type": "execute_result"
    }
   ],
   "source": [
    "wobj"
   ]
  },
  {
   "cell_type": "code",
   "execution_count": 26,
   "id": "ef60f379",
   "metadata": {},
   "outputs": [
    {
     "name": "stdout",
     "output_type": "stream",
     "text": [
      "The Women's Wear Available\n"
     ]
    }
   ],
   "source": [
    "wobj.women_wear_availablity()"
   ]
  },
  {
   "cell_type": "code",
   "execution_count": 27,
   "id": "9a9a13b3",
   "metadata": {},
   "outputs": [
    {
     "name": "stdout",
     "output_type": "stream",
     "text": [
      "The Women's Wear -- Dress Type:       lehenga\n",
      "The Women's Wear -- Cloth Type:       linen\n",
      "The Women's Wear -- Expected Price:   3000\n"
     ]
    }
   ],
   "source": [
    "wobj.women_wear_details()"
   ]
  },
  {
   "cell_type": "code",
   "execution_count": 28,
   "id": "a4dec688",
   "metadata": {},
   "outputs": [],
   "source": [
    "# Kid's Wear\n",
    "class kidswear(menswear,womenwear):\n",
    "    def __init__(self,mdresstype,mcloth_type,mexp_price,wdresstype,wcloth_type,wexp_price,kdresstype,kcloth_type,kexp_price):\n",
    "        menswear.__init__(self,mdresstype,mcloth_type,mexp_price)\n",
    "        womenwear.__init__(self,wdresstype,wcloth_type,wexp_price)\n",
    "        self.kdresstype=kdresstype\n",
    "        self.kcloth_type=kcloth_type\n",
    "        self.kexp_price=kexp_price\n",
    "    def kids_wear_availablity(self):\n",
    "        print(\"The kids' Wear Available\")\n",
    "    def kids_wear_details(self):\n",
    "        menswear.men_wear_details(self)\n",
    "        womenwear.women_wear_details(self)\n",
    "        print(\"The kids' Wear  -- Dress Type:       \",self.kdresstype)\n",
    "        print(\"The kids' Wear  -- Cloth Type:       \",self.kcloth_type)\n",
    "        print(\"The kids' Wear  -- Expected Price:   \", self.kexp_price)"
   ]
  },
  {
   "cell_type": "code",
   "execution_count": null,
   "id": "d1655f95",
   "metadata": {},
   "outputs": [],
   "source": [
    "# dresstype:\n",
    "# kids frocks,skirts,ethinic wear\n",
    "#cloth_type\n",
    "# linen, cotton, silk \n",
    "#price\n",
    "# 1000,2000,3000"
   ]
  },
  {
   "cell_type": "code",
   "execution_count": 29,
   "id": "773b1c4b",
   "metadata": {},
   "outputs": [],
   "source": [
    "kobj=kidswear('shirt','linen',1000,'lehenga','linen',3000,'kids frocks','linen',2000)"
   ]
  },
  {
   "cell_type": "code",
   "execution_count": 30,
   "id": "75bf9627",
   "metadata": {},
   "outputs": [
    {
     "data": {
      "text/plain": [
       "<__main__.kidswear at 0x21bc0c2c4c0>"
      ]
     },
     "execution_count": 30,
     "metadata": {},
     "output_type": "execute_result"
    }
   ],
   "source": [
    "kobj"
   ]
  },
  {
   "cell_type": "code",
   "execution_count": 31,
   "id": "424e2e56",
   "metadata": {},
   "outputs": [
    {
     "name": "stdout",
     "output_type": "stream",
     "text": [
      "The kids' Wear Available\n"
     ]
    }
   ],
   "source": [
    "kobj.kids_wear_availablity()"
   ]
  },
  {
   "cell_type": "code",
   "execution_count": 32,
   "id": "08347fd8",
   "metadata": {
    "scrolled": true
   },
   "outputs": [
    {
     "name": "stdout",
     "output_type": "stream",
     "text": [
      "The Men's Wear -- Dress Type:        shirt\n",
      "The Men's Wear -- Cloth Type:        linen\n",
      "The Men's Wear -- Expected Price:    1000\n",
      "The Women's Wear -- Dress Type:       lehenga\n",
      "The Women's Wear -- Cloth Type:       linen\n",
      "The Women's Wear -- Expected Price:   3000\n",
      "The kids' Wear  -- Dress Type:        kids frocks\n",
      "The kids' Wear  -- Cloth Type:        linen\n",
      "The kids' Wear  -- Expected Price:    2000\n"
     ]
    }
   ],
   "source": [
    "kobj.kids_wear_details()"
   ]
  }
 ],
 "metadata": {
  "kernelspec": {
   "display_name": "Python 3 (ipykernel)",
   "language": "python",
   "name": "python3"
  },
  "language_info": {
   "codemirror_mode": {
    "name": "ipython",
    "version": 3
   },
   "file_extension": ".py",
   "mimetype": "text/x-python",
   "name": "python",
   "nbconvert_exporter": "python",
   "pygments_lexer": "ipython3",
   "version": "3.10.9"
  }
 },
 "nbformat": 4,
 "nbformat_minor": 5
}
