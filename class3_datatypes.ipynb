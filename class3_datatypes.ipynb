{
 "cells": [
  {
   "cell_type": "code",
   "execution_count": 1,
   "id": "779d886f",
   "metadata": {},
   "outputs": [
    {
     "name": "stdout",
     "output_type": "stream",
     "text": [
      "hi-1\n"
     ]
    }
   ],
   "source": [
    "print(\"hi-1\")"
   ]
  },
  {
   "cell_type": "code",
   "execution_count": 3,
   "id": "5f315db6",
   "metadata": {},
   "outputs": [
    {
     "name": "stdout",
     "output_type": "stream",
     "text": [
      "hi-2\n"
     ]
    }
   ],
   "source": [
    "print(\"hi-2\")"
   ]
  },
  {
   "cell_type": "code",
   "execution_count": 2,
   "id": "bc713f73",
   "metadata": {},
   "outputs": [
    {
     "name": "stdout",
     "output_type": "stream",
     "text": [
      "hi-3\n"
     ]
    }
   ],
   "source": [
    "print(\"hi-3\")"
   ]
  },
  {
   "cell_type": "code",
   "execution_count": null,
   "id": "2491e936",
   "metadata": {},
   "outputs": [],
   "source": [
    "print(\"hi-3\")"
   ]
  },
  {
   "cell_type": "code",
   "execution_count": null,
   "id": "4b40e6d0",
   "metadata": {},
   "outputs": [],
   "source": [
    "variablename operator value"
   ]
  },
  {
   "cell_type": "code",
   "execution_count": 4,
   "id": "5f35a9d2",
   "metadata": {},
   "outputs": [],
   "source": [
    "myage = 50"
   ]
  },
  {
   "cell_type": "code",
   "execution_count": 5,
   "id": "32fdf5b6",
   "metadata": {},
   "outputs": [
    {
     "data": {
      "text/plain": [
       "50"
      ]
     },
     "execution_count": 5,
     "metadata": {},
     "output_type": "execute_result"
    }
   ],
   "source": [
    "myage"
   ]
  },
  {
   "cell_type": "code",
   "execution_count": 6,
   "id": "4098443a",
   "metadata": {},
   "outputs": [
    {
     "name": "stdout",
     "output_type": "stream",
     "text": [
      "this is test\n"
     ]
    }
   ],
   "source": [
    "print(\"this is test\")"
   ]
  },
  {
   "cell_type": "code",
   "execution_count": 7,
   "id": "c3c379ac",
   "metadata": {},
   "outputs": [
    {
     "name": "stdout",
     "output_type": "stream",
     "text": [
      "50\n"
     ]
    }
   ],
   "source": [
    "print(myage)"
   ]
  },
  {
   "cell_type": "code",
   "execution_count": 8,
   "id": "66577f50",
   "metadata": {},
   "outputs": [
    {
     "name": "stdout",
     "output_type": "stream",
     "text": [
      "myage\n"
     ]
    }
   ],
   "source": [
    "print(\"myage\")"
   ]
  },
  {
   "cell_type": "code",
   "execution_count": 9,
   "id": "4d40d5ce",
   "metadata": {},
   "outputs": [
    {
     "name": "stdout",
     "output_type": "stream",
     "text": [
      "this is my age 50\n"
     ]
    }
   ],
   "source": [
    "print(\"this is my age\",myage)"
   ]
  },
  {
   "cell_type": "code",
   "execution_count": null,
   "id": "6bcdea94",
   "metadata": {},
   "outputs": [],
   "source": [
    "type(variable)"
   ]
  },
  {
   "cell_type": "code",
   "execution_count": 10,
   "id": "8b12c7ba",
   "metadata": {},
   "outputs": [
    {
     "data": {
      "text/plain": [
       "int"
      ]
     },
     "execution_count": 10,
     "metadata": {},
     "output_type": "execute_result"
    }
   ],
   "source": [
    "type(myage)"
   ]
  },
  {
   "cell_type": "code",
   "execution_count": null,
   "id": "3100ddc2",
   "metadata": {},
   "outputs": [],
   "source": [
    "Floot variable, string variable"
   ]
  },
  {
   "cell_type": "code",
   "execution_count": 1,
   "id": "c9a351c3",
   "metadata": {},
   "outputs": [],
   "source": [
    "monthly_avg_sales=10.50"
   ]
  },
  {
   "cell_type": "code",
   "execution_count": 2,
   "id": "087b2413",
   "metadata": {},
   "outputs": [
    {
     "data": {
      "text/plain": [
       "10.5"
      ]
     },
     "execution_count": 2,
     "metadata": {},
     "output_type": "execute_result"
    }
   ],
   "source": [
    "monthly_avg_sales"
   ]
  },
  {
   "cell_type": "code",
   "execution_count": 3,
   "id": "2ed0bd82",
   "metadata": {},
   "outputs": [
    {
     "name": "stdout",
     "output_type": "stream",
     "text": [
      "10.5\n"
     ]
    }
   ],
   "source": [
    "print(monthly_avg_sales)"
   ]
  },
  {
   "cell_type": "code",
   "execution_count": 4,
   "id": "5bcc2b0e",
   "metadata": {},
   "outputs": [],
   "source": [
    "monthly_avg_sales=10.05"
   ]
  },
  {
   "cell_type": "code",
   "execution_count": 5,
   "id": "c646a526",
   "metadata": {},
   "outputs": [
    {
     "data": {
      "text/plain": [
       "10.05"
      ]
     },
     "execution_count": 5,
     "metadata": {},
     "output_type": "execute_result"
    }
   ],
   "source": [
    "monthly_avg_sales"
   ]
  },
  {
   "cell_type": "code",
   "execution_count": 6,
   "id": "f09a519d",
   "metadata": {},
   "outputs": [
    {
     "name": "stdout",
     "output_type": "stream",
     "text": [
      "10.05\n"
     ]
    }
   ],
   "source": [
    "print(monthly_avg_sales)"
   ]
  },
  {
   "cell_type": "code",
   "execution_count": 7,
   "id": "2ded9a73",
   "metadata": {},
   "outputs": [],
   "source": [
    "monthly_avg_sales=10.123456"
   ]
  },
  {
   "cell_type": "code",
   "execution_count": 8,
   "id": "736c1bf4",
   "metadata": {},
   "outputs": [
    {
     "data": {
      "text/plain": [
       "10.123456"
      ]
     },
     "execution_count": 8,
     "metadata": {},
     "output_type": "execute_result"
    }
   ],
   "source": [
    "monthly_avg_sales"
   ]
  },
  {
   "cell_type": "code",
   "execution_count": 9,
   "id": "565f7c04",
   "metadata": {},
   "outputs": [
    {
     "data": {
      "text/plain": [
       "float"
      ]
     },
     "execution_count": 9,
     "metadata": {},
     "output_type": "execute_result"
    }
   ],
   "source": [
    "type(monthly_avg_sales)"
   ]
  },
  {
   "cell_type": "code",
   "execution_count": null,
   "id": "f7fe06df",
   "metadata": {},
   "outputs": [],
   "source": [
    "string variable"
   ]
  },
  {
   "cell_type": "code",
   "execution_count": null,
   "id": "a847ecf0",
   "metadata": {},
   "outputs": [],
   "source": [
    "variable assign value [a-z,special,0-9]"
   ]
  },
  {
   "cell_type": "code",
   "execution_count": 10,
   "id": "82292256",
   "metadata": {},
   "outputs": [],
   "source": [
    "name='parama'"
   ]
  },
  {
   "cell_type": "code",
   "execution_count": 11,
   "id": "66e543a5",
   "metadata": {},
   "outputs": [
    {
     "data": {
      "text/plain": [
       "'parama'"
      ]
     },
     "execution_count": 11,
     "metadata": {},
     "output_type": "execute_result"
    }
   ],
   "source": [
    "name"
   ]
  },
  {
   "cell_type": "code",
   "execution_count": 12,
   "id": "9966d18e",
   "metadata": {},
   "outputs": [
    {
     "name": "stdout",
     "output_type": "stream",
     "text": [
      "my name is  parama\n"
     ]
    }
   ],
   "source": [
    "print(\"my name is \",name)"
   ]
  },
  {
   "cell_type": "code",
   "execution_count": 13,
   "id": "5da682e9",
   "metadata": {},
   "outputs": [],
   "source": [
    "name=\"param athma\""
   ]
  },
  {
   "cell_type": "code",
   "execution_count": 14,
   "id": "5d2e2842",
   "metadata": {},
   "outputs": [
    {
     "data": {
      "text/plain": [
       "'param athma'"
      ]
     },
     "execution_count": 14,
     "metadata": {},
     "output_type": "execute_result"
    }
   ],
   "source": [
    "name"
   ]
  },
  {
   "cell_type": "code",
   "execution_count": 15,
   "id": "d201da03",
   "metadata": {},
   "outputs": [
    {
     "name": "stdout",
     "output_type": "stream",
     "text": [
      "param athma\n"
     ]
    }
   ],
   "source": [
    "print(name)"
   ]
  },
  {
   "cell_type": "code",
   "execution_count": 16,
   "id": "ea316937",
   "metadata": {},
   "outputs": [
    {
     "name": "stdout",
     "output_type": "stream",
     "text": [
      "my name is  param athma\n"
     ]
    }
   ],
   "source": [
    "print(\"my name is \",name)"
   ]
  },
  {
   "cell_type": "code",
   "execution_count": 17,
   "id": "b1f9da6c",
   "metadata": {},
   "outputs": [],
   "source": [
    "name='param athma'"
   ]
  },
  {
   "cell_type": "code",
   "execution_count": 18,
   "id": "586e2c5e",
   "metadata": {},
   "outputs": [
    {
     "data": {
      "text/plain": [
       "'param athma'"
      ]
     },
     "execution_count": 18,
     "metadata": {},
     "output_type": "execute_result"
    }
   ],
   "source": [
    "name"
   ]
  },
  {
   "cell_type": "code",
   "execution_count": 19,
   "id": "d71e9622",
   "metadata": {},
   "outputs": [
    {
     "name": "stdout",
     "output_type": "stream",
     "text": [
      "param athma\n"
     ]
    }
   ],
   "source": [
    "print(name)"
   ]
  },
  {
   "cell_type": "code",
   "execution_count": 20,
   "id": "13cbd34d",
   "metadata": {},
   "outputs": [
    {
     "name": "stdout",
     "output_type": "stream",
     "text": [
      "my name is  param athma\n"
     ]
    }
   ],
   "source": [
    "print(\"my name is \",name)"
   ]
  },
  {
   "cell_type": "code",
   "execution_count": 21,
   "id": "b2a2aefe",
   "metadata": {},
   "outputs": [
    {
     "data": {
      "text/plain": [
       "str"
      ]
     },
     "execution_count": 21,
     "metadata": {},
     "output_type": "execute_result"
    }
   ],
   "source": [
    "type(name)"
   ]
  },
  {
   "cell_type": "code",
   "execution_count": 23,
   "id": "49e778d1",
   "metadata": {},
   "outputs": [],
   "source": [
    "story='''this is my first story\n",
    "my story name is test'''"
   ]
  },
  {
   "cell_type": "code",
   "execution_count": 27,
   "id": "cc9ddf21",
   "metadata": {},
   "outputs": [
    {
     "ename": "SyntaxError",
     "evalue": "unterminated string literal (detected at line 1) (1868666998.py, line 1)",
     "output_type": "error",
     "traceback": [
      "\u001b[1;36m  Cell \u001b[1;32mIn[27], line 1\u001b[1;36m\u001b[0m\n\u001b[1;33m    story='this is my first story\u001b[0m\n\u001b[1;37m          ^\u001b[0m\n\u001b[1;31mSyntaxError\u001b[0m\u001b[1;31m:\u001b[0m unterminated string literal (detected at line 1)\n"
     ]
    }
   ],
   "source": [
    "# story='this is my first story\n",
    "# my story name is test'"
   ]
  },
  {
   "cell_type": "code",
   "execution_count": 24,
   "id": "d7a40db5",
   "metadata": {},
   "outputs": [
    {
     "data": {
      "text/plain": [
       "'this is my first story\\nmy story name is test'"
      ]
     },
     "execution_count": 24,
     "metadata": {},
     "output_type": "execute_result"
    }
   ],
   "source": [
    "story"
   ]
  },
  {
   "cell_type": "code",
   "execution_count": 26,
   "id": "84f693bd",
   "metadata": {},
   "outputs": [
    {
     "name": "stdout",
     "output_type": "stream",
     "text": [
      "***************** this is my first story\n",
      "my story name is test\n"
     ]
    }
   ],
   "source": [
    "print(\"*****************\",story)"
   ]
  },
  {
   "cell_type": "code",
   "execution_count": 28,
   "id": "e40108ff",
   "metadata": {},
   "outputs": [
    {
     "data": {
      "text/plain": [
       "str"
      ]
     },
     "execution_count": 28,
     "metadata": {},
     "output_type": "execute_result"
    }
   ],
   "source": [
    "type(story)"
   ]
  },
  {
   "cell_type": "code",
   "execution_count": 29,
   "id": "ea9c1172",
   "metadata": {},
   "outputs": [],
   "source": [
    "location=\"23.234. vijayawada\""
   ]
  },
  {
   "cell_type": "code",
   "execution_count": 30,
   "id": "ee064851",
   "metadata": {},
   "outputs": [
    {
     "data": {
      "text/plain": [
       "'23.234. vijayawada'"
      ]
     },
     "execution_count": 30,
     "metadata": {},
     "output_type": "execute_result"
    }
   ],
   "source": [
    "location"
   ]
  },
  {
   "cell_type": "code",
   "execution_count": 32,
   "id": "c2a82c8b",
   "metadata": {},
   "outputs": [],
   "source": [
    "address=\"6-0987, kachiguda, hyderabasd pin:432165\""
   ]
  },
  {
   "cell_type": "code",
   "execution_count": 33,
   "id": "a74d3789",
   "metadata": {},
   "outputs": [
    {
     "data": {
      "text/plain": [
       "'6-0987, kachiguda, hyderabasd pin:432165'"
      ]
     },
     "execution_count": 33,
     "metadata": {},
     "output_type": "execute_result"
    }
   ],
   "source": [
    "address"
   ]
  },
  {
   "cell_type": "code",
   "execution_count": 34,
   "id": "a30972ac",
   "metadata": {},
   "outputs": [
    {
     "data": {
      "text/plain": [
       "str"
      ]
     },
     "execution_count": 34,
     "metadata": {},
     "output_type": "execute_result"
    }
   ],
   "source": [
    "type(address)"
   ]
  },
  {
   "cell_type": "code",
   "execution_count": null,
   "id": "019083bd",
   "metadata": {},
   "outputs": [],
   "source": [
    "# mathematical"
   ]
  },
  {
   "cell_type": "code",
   "execution_count": null,
   "id": "e0f17aa3",
   "metadata": {},
   "outputs": [],
   "source": [
    "int float\n"
   ]
  },
  {
   "cell_type": "code",
   "execution_count": null,
   "id": "e92f4efe",
   "metadata": {},
   "outputs": [],
   "source": [
    "string  infor"
   ]
  },
  {
   "cell_type": "code",
   "execution_count": 35,
   "id": "9efad541",
   "metadata": {},
   "outputs": [],
   "source": [
    "monthly_sale_june=100"
   ]
  },
  {
   "cell_type": "code",
   "execution_count": 36,
   "id": "dae91a14",
   "metadata": {},
   "outputs": [],
   "source": [
    "monthly_sale_jul=200"
   ]
  },
  {
   "cell_type": "code",
   "execution_count": 37,
   "id": "fbcf8b81",
   "metadata": {},
   "outputs": [
    {
     "data": {
      "text/plain": [
       "int"
      ]
     },
     "execution_count": 37,
     "metadata": {},
     "output_type": "execute_result"
    }
   ],
   "source": [
    "type(monthly_sale_june)"
   ]
  },
  {
   "cell_type": "code",
   "execution_count": 38,
   "id": "51b14214",
   "metadata": {},
   "outputs": [
    {
     "data": {
      "text/plain": [
       "int"
      ]
     },
     "execution_count": 38,
     "metadata": {},
     "output_type": "execute_result"
    }
   ],
   "source": [
    "type(monthly_sale_jul)"
   ]
  },
  {
   "cell_type": "code",
   "execution_count": 39,
   "id": "a723d1bd",
   "metadata": {},
   "outputs": [
    {
     "data": {
      "text/plain": [
       "300"
      ]
     },
     "execution_count": 39,
     "metadata": {},
     "output_type": "execute_result"
    }
   ],
   "source": [
    "monthly_sale_june+monthly_sale_jul"
   ]
  },
  {
   "cell_type": "code",
   "execution_count": 40,
   "id": "c378ec20",
   "metadata": {},
   "outputs": [],
   "source": [
    "monthly_sale_june=\"100\""
   ]
  },
  {
   "cell_type": "code",
   "execution_count": 41,
   "id": "eb365b5a",
   "metadata": {},
   "outputs": [],
   "source": [
    "monthly_sale_jul=\"200\""
   ]
  },
  {
   "cell_type": "code",
   "execution_count": 42,
   "id": "ea31e5ae",
   "metadata": {},
   "outputs": [
    {
     "data": {
      "text/plain": [
       "str"
      ]
     },
     "execution_count": 42,
     "metadata": {},
     "output_type": "execute_result"
    }
   ],
   "source": [
    "type(monthly_sale_june)"
   ]
  },
  {
   "cell_type": "code",
   "execution_count": 43,
   "id": "8b465e3d",
   "metadata": {},
   "outputs": [
    {
     "data": {
      "text/plain": [
       "str"
      ]
     },
     "execution_count": 43,
     "metadata": {},
     "output_type": "execute_result"
    }
   ],
   "source": [
    "type(monthly_sale_jul)"
   ]
  },
  {
   "cell_type": "code",
   "execution_count": 44,
   "id": "06cb684e",
   "metadata": {},
   "outputs": [
    {
     "data": {
      "text/plain": [
       "'100200'"
      ]
     },
     "execution_count": 44,
     "metadata": {},
     "output_type": "execute_result"
    }
   ],
   "source": [
    "monthly_sale_june+monthly_sale_jul"
   ]
  },
  {
   "cell_type": "code",
   "execution_count": null,
   "id": "8d4f93b0",
   "metadata": {},
   "outputs": [],
   "source": []
  },
  {
   "cell_type": "code",
   "execution_count": 45,
   "id": "67249621",
   "metadata": {},
   "outputs": [],
   "source": [
    "score=[12,13,14,15,16]\n",
    "\n",
    "[index positions]\n",
    "[0,1,2,3,4]"
   ]
  },
  {
   "cell_type": "code",
   "execution_count": 46,
   "id": "403cd9f8",
   "metadata": {},
   "outputs": [
    {
     "data": {
      "text/plain": [
       "list"
      ]
     },
     "execution_count": 46,
     "metadata": {},
     "output_type": "execute_result"
    }
   ],
   "source": [
    "type(score)"
   ]
  },
  {
   "cell_type": "code",
   "execution_count": null,
   "id": "e218578c",
   "metadata": {},
   "outputs": [],
   "source": [
    "# slicing ---"
   ]
  },
  {
   "cell_type": "code",
   "execution_count": null,
   "id": "d0fd76a0",
   "metadata": {},
   "outputs": [],
   "source": [
    "# display 12 "
   ]
  },
  {
   "cell_type": "code",
   "execution_count": null,
   "id": "5ae39d66",
   "metadata": {},
   "outputs": [],
   "source": [
    "variable[indexposition]"
   ]
  },
  {
   "cell_type": "code",
   "execution_count": 47,
   "id": "850caa1f",
   "metadata": {},
   "outputs": [
    {
     "data": {
      "text/plain": [
       "12"
      ]
     },
     "execution_count": 47,
     "metadata": {},
     "output_type": "execute_result"
    }
   ],
   "source": [
    "score[0]"
   ]
  },
  {
   "cell_type": "code",
   "execution_count": null,
   "id": "d411bbfe",
   "metadata": {},
   "outputs": [],
   "source": [
    "# display 14"
   ]
  },
  {
   "cell_type": "code",
   "execution_count": 48,
   "id": "e8b53b70",
   "metadata": {},
   "outputs": [
    {
     "data": {
      "text/plain": [
       "14"
      ]
     },
     "execution_count": 48,
     "metadata": {},
     "output_type": "execute_result"
    }
   ],
   "source": [
    "score[2]"
   ]
  },
  {
   "cell_type": "code",
   "execution_count": null,
   "id": "f8bc9288",
   "metadata": {},
   "outputs": [],
   "source": [
    "variable[star index position : end index position]"
   ]
  },
  {
   "cell_type": "code",
   "execution_count": 49,
   "id": "14242c68",
   "metadata": {},
   "outputs": [],
   "source": [
    "score=[12,13,14,15,16]"
   ]
  },
  {
   "cell_type": "code",
   "execution_count": null,
   "id": "acb1d727",
   "metadata": {},
   "outputs": [],
   "source": [
    "# display from 13 to 15\n",
    "1:n\n",
    "    index: 1:n+1"
   ]
  },
  {
   "cell_type": "code",
   "execution_count": 50,
   "id": "8dc2011d",
   "metadata": {},
   "outputs": [
    {
     "data": {
      "text/plain": [
       "[13, 14]"
      ]
     },
     "execution_count": 50,
     "metadata": {},
     "output_type": "execute_result"
    }
   ],
   "source": [
    "score[1:3]"
   ]
  },
  {
   "cell_type": "code",
   "execution_count": 51,
   "id": "0c88cca9",
   "metadata": {},
   "outputs": [
    {
     "data": {
      "text/plain": [
       "[13, 14, 15]"
      ]
     },
     "execution_count": 51,
     "metadata": {},
     "output_type": "execute_result"
    }
   ],
   "source": [
    "score[1:4]"
   ]
  },
  {
   "cell_type": "code",
   "execution_count": null,
   "id": "fe827e17",
   "metadata": {},
   "outputs": [],
   "source": [
    "# display only 16"
   ]
  },
  {
   "cell_type": "code",
   "execution_count": 52,
   "id": "7d60c3b8",
   "metadata": {},
   "outputs": [
    {
     "data": {
      "text/plain": [
       "16"
      ]
     },
     "execution_count": 52,
     "metadata": {},
     "output_type": "execute_result"
    }
   ],
   "source": [
    "score[4]"
   ]
  },
  {
   "cell_type": "code",
   "execution_count": null,
   "id": "5ffb6221",
   "metadata": {},
   "outputs": [],
   "source": [
    "variable[starting ]\n",
    "variable[ending  ]"
   ]
  },
  {
   "cell_type": "code",
   "execution_count": null,
   "id": "299bbc2c",
   "metadata": {},
   "outputs": [],
   "source": [
    "variable[negative values ]"
   ]
  },
  {
   "cell_type": "code",
   "execution_count": 53,
   "id": "05bd00d5",
   "metadata": {},
   "outputs": [
    {
     "data": {
      "text/plain": [
       "16"
      ]
     },
     "execution_count": 53,
     "metadata": {},
     "output_type": "execute_result"
    }
   ],
   "source": [
    "score[-1]"
   ]
  },
  {
   "cell_type": "code",
   "execution_count": 54,
   "id": "3b2af312",
   "metadata": {},
   "outputs": [
    {
     "data": {
      "text/plain": [
       "12"
      ]
     },
     "execution_count": 54,
     "metadata": {},
     "output_type": "execute_result"
    }
   ],
   "source": [
    "score[0]"
   ]
  },
  {
   "cell_type": "code",
   "execution_count": null,
   "id": "2c4e080b",
   "metadata": {},
   "outputs": [],
   "source": [
    "score[0]"
   ]
  },
  {
   "cell_type": "code",
   "execution_count": null,
   "id": "9116ead6",
   "metadata": {},
   "outputs": [],
   "source": [
    "score=[12,13,14,15,16]"
   ]
  },
  {
   "cell_type": "code",
   "execution_count": null,
   "id": "700ce2c8",
   "metadata": {},
   "outputs": [],
   "source": [
    "# display 12 to 15"
   ]
  },
  {
   "cell_type": "code",
   "execution_count": 55,
   "id": "21daf1a1",
   "metadata": {},
   "outputs": [
    {
     "data": {
      "text/plain": [
       "[12, 13, 14, 15]"
      ]
     },
     "execution_count": 55,
     "metadata": {},
     "output_type": "execute_result"
    }
   ],
   "source": [
    "score[0:4]"
   ]
  },
  {
   "cell_type": "code",
   "execution_count": 57,
   "id": "f1f010f9",
   "metadata": {},
   "outputs": [
    {
     "data": {
      "text/plain": [
       "[12, 13, 14, 15]"
      ]
     },
     "execution_count": 57,
     "metadata": {},
     "output_type": "execute_result"
    }
   ],
   "source": [
    "score[0:-1]"
   ]
  },
  {
   "cell_type": "code",
   "execution_count": null,
   "id": "54f2bd2f",
   "metadata": {},
   "outputs": [],
   "source": [
    "score=[12,13,14,15,16]"
   ]
  },
  {
   "cell_type": "code",
   "execution_count": null,
   "id": "18696b6e",
   "metadata": {},
   "outputs": [],
   "source": [
    "score[staring position(optional) : end position (optional)]"
   ]
  },
  {
   "cell_type": "code",
   "execution_count": null,
   "id": "960baca8",
   "metadata": {},
   "outputs": [],
   "source": [
    "score=[12,13,14,15,16]"
   ]
  },
  {
   "cell_type": "code",
   "execution_count": null,
   "id": "95a0784b",
   "metadata": {},
   "outputs": [],
   "source": [
    "# display 13 to end "
   ]
  },
  {
   "cell_type": "code",
   "execution_count": 58,
   "id": "2d51af69",
   "metadata": {},
   "outputs": [
    {
     "data": {
      "text/plain": [
       "[13, 14, 15, 16]"
      ]
     },
     "execution_count": 58,
     "metadata": {},
     "output_type": "execute_result"
    }
   ],
   "source": [
    "score[1:]"
   ]
  },
  {
   "cell_type": "code",
   "execution_count": null,
   "id": "02b5bde9",
   "metadata": {},
   "outputs": [],
   "source": [
    "display starting to 15"
   ]
  },
  {
   "cell_type": "code",
   "execution_count": 59,
   "id": "c8a8e6d1",
   "metadata": {},
   "outputs": [
    {
     "data": {
      "text/plain": [
       "[12, 13, 14, 15]"
      ]
     },
     "execution_count": 59,
     "metadata": {},
     "output_type": "execute_result"
    }
   ],
   "source": [
    "score[:-1]"
   ]
  },
  {
   "cell_type": "code",
   "execution_count": 60,
   "id": "e26e9aae",
   "metadata": {},
   "outputs": [
    {
     "data": {
      "text/plain": [
       "[12, 13, 14, 15]"
      ]
     },
     "execution_count": 60,
     "metadata": {},
     "output_type": "execute_result"
    }
   ],
   "source": [
    "score[:4]"
   ]
  },
  {
   "cell_type": "code",
   "execution_count": null,
   "id": "a93c6cae",
   "metadata": {},
   "outputs": [],
   "source": [
    "score=[12,13,14,15,16]"
   ]
  },
  {
   "cell_type": "code",
   "execution_count": null,
   "id": "93f4260a",
   "metadata": {},
   "outputs": [],
   "source": [
    "variable[position]=updatedvalue/modifiedvalue"
   ]
  },
  {
   "cell_type": "code",
   "execution_count": 61,
   "id": "3b65b78a",
   "metadata": {},
   "outputs": [],
   "source": [
    "score[2]=18"
   ]
  },
  {
   "cell_type": "code",
   "execution_count": 62,
   "id": "17afc4d0",
   "metadata": {},
   "outputs": [
    {
     "data": {
      "text/plain": [
       "[12, 13, 18, 15, 16]"
      ]
     },
     "execution_count": 62,
     "metadata": {},
     "output_type": "execute_result"
    }
   ],
   "source": [
    "score"
   ]
  },
  {
   "cell_type": "code",
   "execution_count": null,
   "id": "6123464a",
   "metadata": {},
   "outputs": [],
   "source": [
    "yes"
   ]
  },
  {
   "cell_type": "code",
   "execution_count": null,
   "id": "80008924",
   "metadata": {},
   "outputs": [],
   "source": [
    "Tuple"
   ]
  },
  {
   "cell_type": "code",
   "execution_count": null,
   "id": "c5867261",
   "metadata": {},
   "outputs": [],
   "source": [
    "variablename=(val,val2,val3)"
   ]
  },
  {
   "cell_type": "code",
   "execution_count": 1,
   "id": "3de574e0",
   "metadata": {},
   "outputs": [],
   "source": [
    "alph=('A','B','C','D')"
   ]
  },
  {
   "cell_type": "code",
   "execution_count": 2,
   "id": "84e6a11c",
   "metadata": {},
   "outputs": [
    {
     "data": {
      "text/plain": [
       "('A', 'B', 'C', 'D')"
      ]
     },
     "execution_count": 2,
     "metadata": {},
     "output_type": "execute_result"
    }
   ],
   "source": [
    "alph"
   ]
  },
  {
   "cell_type": "code",
   "execution_count": 3,
   "id": "8e95b7d3",
   "metadata": {},
   "outputs": [
    {
     "name": "stdout",
     "output_type": "stream",
     "text": [
      "('A', 'B', 'C', 'D')\n"
     ]
    }
   ],
   "source": [
    "print(alph)"
   ]
  },
  {
   "cell_type": "code",
   "execution_count": null,
   "id": "ef46dcf2",
   "metadata": {},
   "outputs": [],
   "source": [
    "# slicing--->"
   ]
  },
  {
   "cell_type": "code",
   "execution_count": null,
   "id": "cddec7c0",
   "metadata": {},
   "outputs": [],
   "source": [
    "display A"
   ]
  },
  {
   "cell_type": "code",
   "execution_count": 4,
   "id": "61d6f5f7",
   "metadata": {},
   "outputs": [
    {
     "data": {
      "text/plain": [
       "'A'"
      ]
     },
     "execution_count": 4,
     "metadata": {},
     "output_type": "execute_result"
    }
   ],
   "source": [
    "alph[0]"
   ]
  },
  {
   "cell_type": "code",
   "execution_count": 6,
   "id": "22dbe6c2",
   "metadata": {},
   "outputs": [
    {
     "data": {
      "text/plain": [
       "tuple"
      ]
     },
     "execution_count": 6,
     "metadata": {},
     "output_type": "execute_result"
    }
   ],
   "source": [
    "type(alph)"
   ]
  },
  {
   "cell_type": "code",
   "execution_count": 5,
   "id": "a5d6455e",
   "metadata": {},
   "outputs": [
    {
     "data": {
      "text/plain": [
       "str"
      ]
     },
     "execution_count": 5,
     "metadata": {},
     "output_type": "execute_result"
    }
   ],
   "source": [
    "type(alph[0])"
   ]
  },
  {
   "cell_type": "code",
   "execution_count": 7,
   "id": "9031b07d",
   "metadata": {},
   "outputs": [
    {
     "data": {
      "text/plain": [
       "('A', 'B', 'C', 'D')"
      ]
     },
     "execution_count": 7,
     "metadata": {},
     "output_type": "execute_result"
    }
   ],
   "source": [
    "alph"
   ]
  },
  {
   "cell_type": "code",
   "execution_count": null,
   "id": "ed7bdda8",
   "metadata": {},
   "outputs": [],
   "source": [
    "# display onlyl b and c"
   ]
  },
  {
   "cell_type": "code",
   "execution_count": 8,
   "id": "431f575a",
   "metadata": {},
   "outputs": [
    {
     "data": {
      "text/plain": [
       "('B',)"
      ]
     },
     "execution_count": 8,
     "metadata": {},
     "output_type": "execute_result"
    }
   ],
   "source": [
    "alph[1:2]"
   ]
  },
  {
   "cell_type": "code",
   "execution_count": 9,
   "id": "f0d1e201",
   "metadata": {},
   "outputs": [
    {
     "data": {
      "text/plain": [
       "('B', 'C')"
      ]
     },
     "execution_count": 9,
     "metadata": {},
     "output_type": "execute_result"
    }
   ],
   "source": [
    "alph[1:3]"
   ]
  },
  {
   "cell_type": "code",
   "execution_count": null,
   "id": "28349c0d",
   "metadata": {},
   "outputs": [],
   "source": [
    "# display all start b "
   ]
  },
  {
   "cell_type": "code",
   "execution_count": 10,
   "id": "c2c29798",
   "metadata": {},
   "outputs": [
    {
     "data": {
      "text/plain": [
       "('B', 'C', 'D')"
      ]
     },
     "execution_count": 10,
     "metadata": {},
     "output_type": "execute_result"
    }
   ],
   "source": [
    "alph[1:]"
   ]
  },
  {
   "cell_type": "code",
   "execution_count": null,
   "id": "ded2c2b6",
   "metadata": {},
   "outputs": [],
   "source": [
    "display values from c to start"
   ]
  },
  {
   "cell_type": "code",
   "execution_count": 11,
   "id": "4db6dd1c",
   "metadata": {},
   "outputs": [
    {
     "data": {
      "text/plain": [
       "('A', 'B')"
      ]
     },
     "execution_count": 11,
     "metadata": {},
     "output_type": "execute_result"
    }
   ],
   "source": [
    "alph[:-2]"
   ]
  },
  {
   "cell_type": "code",
   "execution_count": 12,
   "id": "07c3e3f4",
   "metadata": {},
   "outputs": [
    {
     "data": {
      "text/plain": [
       "('A', 'B', 'C')"
      ]
     },
     "execution_count": 12,
     "metadata": {},
     "output_type": "execute_result"
    }
   ],
   "source": [
    "alph[:-1]"
   ]
  },
  {
   "cell_type": "code",
   "execution_count": null,
   "id": "8e02607a",
   "metadata": {},
   "outputs": [],
   "source": [
    "values replacement"
   ]
  },
  {
   "cell_type": "code",
   "execution_count": 13,
   "id": "4babb745",
   "metadata": {},
   "outputs": [
    {
     "data": {
      "text/plain": [
       "('A', 'B', 'C', 'D')"
      ]
     },
     "execution_count": 13,
     "metadata": {},
     "output_type": "execute_result"
    }
   ],
   "source": [
    "alph"
   ]
  },
  {
   "cell_type": "code",
   "execution_count": null,
   "id": "fd4baf90",
   "metadata": {},
   "outputs": [],
   "source": [
    "# replace value with c"
   ]
  },
  {
   "cell_type": "code",
   "execution_count": 14,
   "id": "f87623ea",
   "metadata": {},
   "outputs": [
    {
     "ename": "TypeError",
     "evalue": "'tuple' object does not support item assignment",
     "output_type": "error",
     "traceback": [
      "\u001b[1;31m---------------------------------------------------------------------------\u001b[0m",
      "\u001b[1;31mTypeError\u001b[0m                                 Traceback (most recent call last)",
      "Cell \u001b[1;32mIn[14], line 1\u001b[0m\n\u001b[1;32m----> 1\u001b[0m alph[\u001b[38;5;241m2\u001b[39m]\u001b[38;5;241m=\u001b[39m\u001b[38;5;124m'\u001b[39m\u001b[38;5;124mc\u001b[39m\u001b[38;5;124m'\u001b[39m\n",
      "\u001b[1;31mTypeError\u001b[0m: 'tuple' object does not support item assignment"
     ]
    }
   ],
   "source": [
    "alph[2]='c'"
   ]
  },
  {
   "cell_type": "code",
   "execution_count": null,
   "id": "7d53ed27",
   "metadata": {},
   "outputs": [],
   "source": [
    "jun\n",
    "mon, tue, ---sun\n",
    "10,20,----40"
   ]
  },
  {
   "cell_type": "code",
   "execution_count": null,
   "id": "8fb22866",
   "metadata": {},
   "outputs": [],
   "source": [
    "# set"
   ]
  },
  {
   "cell_type": "code",
   "execution_count": null,
   "id": "6af21306",
   "metadata": {},
   "outputs": [],
   "source": [
    "# variablename={val,val1,val2,valn}"
   ]
  },
  {
   "cell_type": "code",
   "execution_count": 15,
   "id": "10064396",
   "metadata": {},
   "outputs": [],
   "source": [
    "alph_set={'c','d','f','p','a','z'}"
   ]
  },
  {
   "cell_type": "code",
   "execution_count": 16,
   "id": "8cf82520",
   "metadata": {},
   "outputs": [
    {
     "data": {
      "text/plain": [
       "{'a', 'c', 'd', 'f', 'p', 'z'}"
      ]
     },
     "execution_count": 16,
     "metadata": {},
     "output_type": "execute_result"
    }
   ],
   "source": [
    "alph_set"
   ]
  },
  {
   "cell_type": "code",
   "execution_count": null,
   "id": "c238572d",
   "metadata": {},
   "outputs": [],
   "source": [
    "# sorting\n",
    "aces--A-z,0-100,min-max\n",
    "desc--Z-a,100-0,max-min"
   ]
  },
  {
   "cell_type": "code",
   "execution_count": 17,
   "id": "c5f7c5e6",
   "metadata": {},
   "outputs": [],
   "source": [
    "month_jun_weekly={10,20,30,40,50,60,70,10,30,50,70,60,40}"
   ]
  },
  {
   "cell_type": "code",
   "execution_count": 20,
   "id": "95f05bfa",
   "metadata": {},
   "outputs": [
    {
     "data": {
      "text/plain": [
       "{10, 20, 30, 40, 50, 60, 70}"
      ]
     },
     "execution_count": 20,
     "metadata": {},
     "output_type": "execute_result"
    }
   ],
   "source": [
    "month_jun_weekly"
   ]
  },
  {
   "cell_type": "code",
   "execution_count": null,
   "id": "f13b112d",
   "metadata": {},
   "outputs": [],
   "source": [
    "# remove the duplicate"
   ]
  },
  {
   "cell_type": "code",
   "execution_count": 21,
   "id": "b862ccf3",
   "metadata": {},
   "outputs": [
    {
     "ename": "TypeError",
     "evalue": "'set' object is not subscriptable",
     "output_type": "error",
     "traceback": [
      "\u001b[1;31m---------------------------------------------------------------------------\u001b[0m",
      "\u001b[1;31mTypeError\u001b[0m                                 Traceback (most recent call last)",
      "Cell \u001b[1;32mIn[21], line 1\u001b[0m\n\u001b[1;32m----> 1\u001b[0m \u001b[43mmonth_jun_weekly\u001b[49m\u001b[43m[\u001b[49m\u001b[38;5;241;43m0\u001b[39;49m\u001b[43m]\u001b[49m\n",
      "\u001b[1;31mTypeError\u001b[0m: 'set' object is not subscriptable"
     ]
    }
   ],
   "source": [
    "month_jun_weekly[0]"
   ]
  },
  {
   "cell_type": "code",
   "execution_count": null,
   "id": "166df9fa",
   "metadata": {},
   "outputs": [],
   "source": [
    "list, tuple ,,set\n"
   ]
  },
  {
   "cell_type": "code",
   "execution_count": null,
   "id": "68acb987",
   "metadata": {},
   "outputs": [],
   "source": [
    "list-->tuple\n",
    "tuple->list\n",
    "list->set\n",
    "set-->list"
   ]
  },
  {
   "cell_type": "code",
   "execution_count": 22,
   "id": "aee65e7d",
   "metadata": {},
   "outputs": [],
   "source": [
    "value_lst=[10,20,30,40,15,25,10,20,40]"
   ]
  },
  {
   "cell_type": "code",
   "execution_count": null,
   "id": "ce1c8c2a",
   "metadata": {},
   "outputs": [],
   "source": [
    "replace 15 as 70"
   ]
  },
  {
   "cell_type": "code",
   "execution_count": 23,
   "id": "9edce7c3",
   "metadata": {},
   "outputs": [],
   "source": [
    "value_lst[4]=70"
   ]
  },
  {
   "cell_type": "code",
   "execution_count": 24,
   "id": "b302b1c5",
   "metadata": {},
   "outputs": [
    {
     "data": {
      "text/plain": [
       "[10, 20, 30, 40, 70, 25, 10, 20, 40]"
      ]
     },
     "execution_count": 24,
     "metadata": {},
     "output_type": "execute_result"
    }
   ],
   "source": [
    "value_lst"
   ]
  },
  {
   "cell_type": "code",
   "execution_count": null,
   "id": "2f272993",
   "metadata": {},
   "outputs": [],
   "source": [
    "set(variable/list/tuple)"
   ]
  },
  {
   "cell_type": "code",
   "execution_count": 26,
   "id": "dc37c2fb",
   "metadata": {},
   "outputs": [],
   "source": [
    "value_set=set(value_lst)"
   ]
  },
  {
   "cell_type": "code",
   "execution_count": 28,
   "id": "36a72011",
   "metadata": {},
   "outputs": [
    {
     "ename": "TypeError",
     "evalue": "'set' object is not subscriptable",
     "output_type": "error",
     "traceback": [
      "\u001b[1;31m---------------------------------------------------------------------------\u001b[0m",
      "\u001b[1;31mTypeError\u001b[0m                                 Traceback (most recent call last)",
      "Cell \u001b[1;32mIn[28], line 1\u001b[0m\n\u001b[1;32m----> 1\u001b[0m \u001b[43mvalue_set\u001b[49m\u001b[43m[\u001b[49m\u001b[38;5;241;43m1\u001b[39;49m\u001b[43m]\u001b[49m\n",
      "\u001b[1;31mTypeError\u001b[0m: 'set' object is not subscriptable"
     ]
    }
   ],
   "source": [
    "value_set[1]"
   ]
  },
  {
   "cell_type": "code",
   "execution_count": null,
   "id": "d99052a6",
   "metadata": {},
   "outputs": [],
   "source": [
    "tuple(variable/list/set)"
   ]
  },
  {
   "cell_type": "code",
   "execution_count": 30,
   "id": "6d3fcb8a",
   "metadata": {},
   "outputs": [],
   "source": [
    "value_tupe=tuple(value_set)"
   ]
  },
  {
   "cell_type": "code",
   "execution_count": 31,
   "id": "4feaaf38",
   "metadata": {},
   "outputs": [
    {
     "data": {
      "text/plain": [
       "(70, 40, 10, 20, 25, 30)"
      ]
     },
     "execution_count": 31,
     "metadata": {},
     "output_type": "execute_result"
    }
   ],
   "source": [
    "value_tupe"
   ]
  },
  {
   "cell_type": "code",
   "execution_count": 32,
   "id": "2c613aaf",
   "metadata": {},
   "outputs": [
    {
     "ename": "TypeError",
     "evalue": "'tuple' object does not support item assignment",
     "output_type": "error",
     "traceback": [
      "\u001b[1;31m---------------------------------------------------------------------------\u001b[0m",
      "\u001b[1;31mTypeError\u001b[0m                                 Traceback (most recent call last)",
      "Cell \u001b[1;32mIn[32], line 1\u001b[0m\n\u001b[1;32m----> 1\u001b[0m value_tupe[\u001b[38;5;241m2\u001b[39m]\u001b[38;5;241m=\u001b[39m\u001b[38;5;241m50\u001b[39m\n",
      "\u001b[1;31mTypeError\u001b[0m: 'tuple' object does not support item assignment"
     ]
    }
   ],
   "source": [
    "value_tupe[2]=50"
   ]
  },
  {
   "cell_type": "code",
   "execution_count": null,
   "id": "8e24d0b2",
   "metadata": {},
   "outputs": [],
   "source": [
    "# dict"
   ]
  },
  {
   "cell_type": "code",
   "execution_count": null,
   "id": "5a6e67cc",
   "metadata": {},
   "outputs": [],
   "source": [
    "variablename={ \"key\"  : \"keyvalue\" }"
   ]
  },
  {
   "cell_type": "code",
   "execution_count": null,
   "id": "dde412b2",
   "metadata": {},
   "outputs": [],
   "source": [
    "# singluer-key "
   ]
  },
  {
   "cell_type": "code",
   "execution_count": 34,
   "id": "ba7840b1",
   "metadata": {},
   "outputs": [],
   "source": [
    "name_var={\"name\" : \"paramatma\"}"
   ]
  },
  {
   "cell_type": "code",
   "execution_count": 35,
   "id": "f4bac986",
   "metadata": {},
   "outputs": [
    {
     "data": {
      "text/plain": [
       "{'name': 'paramatma'}"
      ]
     },
     "execution_count": 35,
     "metadata": {},
     "output_type": "execute_result"
    }
   ],
   "source": [
    "name_var"
   ]
  },
  {
   "cell_type": "code",
   "execution_count": null,
   "id": "bb48a8fa",
   "metadata": {},
   "outputs": [],
   "source": [
    "slicing--?"
   ]
  },
  {
   "cell_type": "code",
   "execution_count": 36,
   "id": "577e0315",
   "metadata": {},
   "outputs": [
    {
     "data": {
      "text/plain": [
       "dict_keys(['name'])"
      ]
     },
     "execution_count": 36,
     "metadata": {},
     "output_type": "execute_result"
    }
   ],
   "source": [
    "name_var.keys()"
   ]
  },
  {
   "cell_type": "code",
   "execution_count": null,
   "id": "7b428f2c",
   "metadata": {},
   "outputs": [],
   "source": [
    "name_var[indexposition]"
   ]
  },
  {
   "cell_type": "code",
   "execution_count": null,
   "id": "08451ed8",
   "metadata": {},
   "outputs": [],
   "source": [
    "name_var[keys]"
   ]
  },
  {
   "cell_type": "code",
   "execution_count": 37,
   "id": "9e62488b",
   "metadata": {},
   "outputs": [
    {
     "data": {
      "text/plain": [
       "{'name': 'paramatma'}"
      ]
     },
     "execution_count": 37,
     "metadata": {},
     "output_type": "execute_result"
    }
   ],
   "source": [
    "name_var"
   ]
  },
  {
   "cell_type": "code",
   "execution_count": 38,
   "id": "a5287aa7",
   "metadata": {},
   "outputs": [
    {
     "data": {
      "text/plain": [
       "'paramatma'"
      ]
     },
     "execution_count": 38,
     "metadata": {},
     "output_type": "execute_result"
    }
   ],
   "source": [
    "name_var['name']"
   ]
  },
  {
   "cell_type": "code",
   "execution_count": null,
   "id": "d0651e59",
   "metadata": {},
   "outputs": [],
   "source": [
    "# single or double"
   ]
  },
  {
   "cell_type": "code",
   "execution_count": null,
   "id": "391b15c1",
   "metadata": {},
   "outputs": [],
   "source": [
    "name_var1={ \"key\": \"keyvalue\"}"
   ]
  },
  {
   "cell_type": "code",
   "execution_count": 39,
   "id": "e7dbe8bb",
   "metadata": {},
   "outputs": [],
   "source": [
    "name_var1={\"name\": [\"paramatma\",\"athma\"]}"
   ]
  },
  {
   "cell_type": "code",
   "execution_count": 40,
   "id": "e7ae8474",
   "metadata": {},
   "outputs": [
    {
     "data": {
      "text/plain": [
       "{'name': ['paramatma', 'athma']}"
      ]
     },
     "execution_count": 40,
     "metadata": {},
     "output_type": "execute_result"
    }
   ],
   "source": [
    "name_var1"
   ]
  },
  {
   "cell_type": "code",
   "execution_count": 41,
   "id": "b61f9803",
   "metadata": {},
   "outputs": [
    {
     "data": {
      "text/plain": [
       "dict_keys(['name'])"
      ]
     },
     "execution_count": 41,
     "metadata": {},
     "output_type": "execute_result"
    }
   ],
   "source": [
    "name_var1.keys()"
   ]
  },
  {
   "cell_type": "code",
   "execution_count": 43,
   "id": "c0e8d480",
   "metadata": {},
   "outputs": [
    {
     "data": {
      "text/plain": [
       "'athma'"
      ]
     },
     "execution_count": 43,
     "metadata": {},
     "output_type": "execute_result"
    }
   ],
   "source": [
    "name_var1['name'][1]"
   ]
  },
  {
   "cell_type": "code",
   "execution_count": 44,
   "id": "3ff4f4e2",
   "metadata": {},
   "outputs": [
    {
     "data": {
      "text/plain": [
       "'paramatma'"
      ]
     },
     "execution_count": 44,
     "metadata": {},
     "output_type": "execute_result"
    }
   ],
   "source": [
    "name_var1['name'][0]"
   ]
  },
  {
   "cell_type": "code",
   "execution_count": null,
   "id": "c75a7816",
   "metadata": {},
   "outputs": [],
   "source": [
    "two_col_sing_val={ \"key\": \"keyvalue\", \"key\": \"keyvalue\",\"key\": \"keyvalue\",     ,\"key\": \"keyvalue\"}"
   ]
  },
  {
   "cell_type": "code",
   "execution_count": 45,
   "id": "759ab0c6",
   "metadata": {},
   "outputs": [],
   "source": [
    "two_col_sing_val={\"name\": \"paramatma\" , \"location\": \"vja\"}"
   ]
  },
  {
   "cell_type": "code",
   "execution_count": 46,
   "id": "411996d3",
   "metadata": {},
   "outputs": [
    {
     "data": {
      "text/plain": [
       "{'name': 'paramatma', 'location': 'vja'}"
      ]
     },
     "execution_count": 46,
     "metadata": {},
     "output_type": "execute_result"
    }
   ],
   "source": [
    "two_col_sing_val"
   ]
  },
  {
   "cell_type": "code",
   "execution_count": 47,
   "id": "c5d56c47",
   "metadata": {},
   "outputs": [
    {
     "data": {
      "text/plain": [
       "dict_keys(['name', 'location'])"
      ]
     },
     "execution_count": 47,
     "metadata": {},
     "output_type": "execute_result"
    }
   ],
   "source": [
    "two_col_sing_val.keys()"
   ]
  },
  {
   "cell_type": "code",
   "execution_count": 48,
   "id": "d2717ce6",
   "metadata": {},
   "outputs": [
    {
     "data": {
      "text/plain": [
       "'vja'"
      ]
     },
     "execution_count": 48,
     "metadata": {},
     "output_type": "execute_result"
    }
   ],
   "source": [
    "two_col_sing_val['location']"
   ]
  },
  {
   "cell_type": "code",
   "execution_count": 49,
   "id": "60b052d2",
   "metadata": {},
   "outputs": [
    {
     "data": {
      "text/plain": [
       "'paramatma'"
      ]
     },
     "execution_count": 49,
     "metadata": {},
     "output_type": "execute_result"
    }
   ],
   "source": [
    "two_col_sing_val['name']"
   ]
  },
  {
   "cell_type": "code",
   "execution_count": 50,
   "id": "a1f3943e",
   "metadata": {},
   "outputs": [],
   "source": [
    "two_col_sing_val={\"name\":[\"paramatma\",\"athma\"] , \"location\": [\"vja\",\"mtm\"]}"
   ]
  },
  {
   "cell_type": "code",
   "execution_count": 51,
   "id": "fc8628a6",
   "metadata": {},
   "outputs": [
    {
     "data": {
      "text/plain": [
       "{'name': ['paramatma', 'athma'], 'location': ['vja', 'mtm']}"
      ]
     },
     "execution_count": 51,
     "metadata": {},
     "output_type": "execute_result"
    }
   ],
   "source": [
    "two_col_sing_val"
   ]
  },
  {
   "cell_type": "code",
   "execution_count": 52,
   "id": "de358760",
   "metadata": {},
   "outputs": [
    {
     "data": {
      "text/plain": [
       "dict_keys(['name', 'location'])"
      ]
     },
     "execution_count": 52,
     "metadata": {},
     "output_type": "execute_result"
    }
   ],
   "source": [
    "two_col_sing_val.keys()"
   ]
  },
  {
   "cell_type": "code",
   "execution_count": 54,
   "id": "413af161",
   "metadata": {},
   "outputs": [
    {
     "data": {
      "text/plain": [
       "'athma'"
      ]
     },
     "execution_count": 54,
     "metadata": {},
     "output_type": "execute_result"
    }
   ],
   "source": [
    "two_col_sing_val['name'][1]"
   ]
  },
  {
   "cell_type": "code",
   "execution_count": 56,
   "id": "682b077b",
   "metadata": {},
   "outputs": [
    {
     "data": {
      "text/plain": [
       "'mtm'"
      ]
     },
     "execution_count": 56,
     "metadata": {},
     "output_type": "execute_result"
    }
   ],
   "source": [
    "two_col_sing_val['location'][1]"
   ]
  },
  {
   "cell_type": "code",
   "execution_count": null,
   "id": "96cef5dd",
   "metadata": {},
   "outputs": [],
   "source": []
  },
  {
   "cell_type": "code",
   "execution_count": null,
   "id": "1a3533f2",
   "metadata": {},
   "outputs": [],
   "source": []
  },
  {
   "cell_type": "code",
   "execution_count": null,
   "id": "b76d6ffd",
   "metadata": {},
   "outputs": [],
   "source": []
  }
 ],
 "metadata": {
  "kernelspec": {
   "display_name": "Python 3 (ipykernel)",
   "language": "python",
   "name": "python3"
  },
  "language_info": {
   "codemirror_mode": {
    "name": "ipython",
    "version": 3
   },
   "file_extension": ".py",
   "mimetype": "text/x-python",
   "name": "python",
   "nbconvert_exporter": "python",
   "pygments_lexer": "ipython3",
   "version": "3.10.9"
  }
 },
 "nbformat": 4,
 "nbformat_minor": 5
}
