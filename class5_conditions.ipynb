{
 "cells": [
  {
   "cell_type": "code",
   "execution_count": null,
   "id": "a3144fd4",
   "metadata": {},
   "outputs": [],
   "source": [
    "if\n",
    "else\n",
    "if elif else\n",
    "\n",
    "\n",
    "real time\n",
    "nested if\n",
    "if-->if--->if\n",
    "nested elif\n",
    "elif-->if-->elif\n"
   ]
  },
  {
   "cell_type": "code",
   "execution_count": null,
   "id": "37b0bab3",
   "metadata": {},
   "outputs": [],
   "source": [
    "condition sytanx\n",
    "\n",
    "if--one condition\n",
    "if else---two condition(binary condition--one success another fail)(male-female,true-false,0 -1,)\n",
    "elif--if(1) elif(2) elif(3) elif(4) elif(5) else(6)--multiple condition (6)"
   ]
  },
  {
   "cell_type": "code",
   "execution_count": null,
   "id": "134b5280",
   "metadata": {},
   "outputs": [],
   "source": [
    "if --one condition"
   ]
  },
  {
   "cell_type": "code",
   "execution_count": null,
   "id": "48b00780",
   "metadata": {},
   "outputs": [],
   "source": [
    "# sytanx\n",
    "\n",
    "if condition :\n",
    "    statements\n",
    "    statements\n",
    "statement\n"
   ]
  },
  {
   "cell_type": "code",
   "execution_count": null,
   "id": "292839c1",
   "metadata": {},
   "outputs": [],
   "source": [
    "milk packet sale\n",
    "\n",
    "\n",
    "avg 10"
   ]
  },
  {
   "cell_type": "code",
   "execution_count": null,
   "id": "1c0e9370",
   "metadata": {},
   "outputs": [],
   "source": [
    "condition : 1.per day sale 10 profit --->"
   ]
  },
  {
   "cell_type": "code",
   "execution_count": null,
   "id": "c694d926",
   "metadata": {},
   "outputs": [],
   "source": [
    "if condition:"
   ]
  },
  {
   "cell_type": "code",
   "execution_count": null,
   "id": "85e91d4c",
   "metadata": {},
   "outputs": [],
   "source": [
    "condition \n",
    "\n",
    "existing variable(value)(today_sale)| comparision operator(>)| comparsion variable(value)(10)"
   ]
  },
  {
   "cell_type": "code",
   "execution_count": 10,
   "id": "b228050d",
   "metadata": {},
   "outputs": [],
   "source": [
    "today_sale=11"
   ]
  },
  {
   "cell_type": "code",
   "execution_count": 15,
   "id": "b413d327",
   "metadata": {},
   "outputs": [],
   "source": [
    "today_sale=9"
   ]
  },
  {
   "cell_type": "code",
   "execution_count": 16,
   "id": "ad500f64",
   "metadata": {},
   "outputs": [],
   "source": [
    "comparision_value=10\n",
    "# fixed"
   ]
  },
  {
   "cell_type": "code",
   "execution_count": 17,
   "id": "5854614c",
   "metadata": {},
   "outputs": [
    {
     "name": "stdout",
     "output_type": "stream",
     "text": [
      "sale value 9\n",
      "comparision value 10\n"
     ]
    }
   ],
   "source": [
    "print(\"sale value\",today_sale)\n",
    "print(\"comparision value\",comparision_value)"
   ]
  },
  {
   "cell_type": "code",
   "execution_count": 18,
   "id": "b26409d9",
   "metadata": {},
   "outputs": [],
   "source": [
    "if today_sale >comparision_value:\n",
    "    print(\"your business is profit\")\n",
    "    print(\" you are in success mode\")"
   ]
  },
  {
   "cell_type": "code",
   "execution_count": 19,
   "id": "e7d3dc7f",
   "metadata": {},
   "outputs": [
    {
     "name": "stdout",
     "output_type": "stream",
     "text": [
      "you are out of condition\n"
     ]
    }
   ],
   "source": [
    "if today_sale >comparision_value:\n",
    "    print(\"your business is profit\")\n",
    "    print(\" you are in success mode\")\n",
    "print(\"you are out of condition\")"
   ]
  },
  {
   "cell_type": "code",
   "execution_count": null,
   "id": "2fc579e0",
   "metadata": {},
   "outputs": [],
   "source": [
    "if else condtion\n",
    "\n",
    "binary condition\n",
    "\n",
    "either or\n",
    "male female\n",
    "1-0\n"
   ]
  },
  {
   "cell_type": "code",
   "execution_count": null,
   "id": "0ec35277",
   "metadata": {},
   "outputs": [],
   "source": [
    "# indent--how many spaces is require\n",
    "# 4 spaces\n",
    "# 8 spaces\n",
    "# :\n",
    "    "
   ]
  },
  {
   "cell_type": "code",
   "execution_count": null,
   "id": "b8b83785",
   "metadata": {},
   "outputs": [],
   "source": [
    "# syntax:\n",
    "if condition:\n",
    "    statements\n",
    "    statement1\n",
    "else: \n",
    "    statements\n",
    "    statements1\n",
    "    \n",
    "    "
   ]
  },
  {
   "cell_type": "code",
   "execution_count": null,
   "id": "091ae720",
   "metadata": {},
   "outputs": [],
   "source": [
    "scenario:   milk packet sales\n",
    "    \n",
    "    avg 10\n",
    " today sale 10 more profit \n",
    "today sale 10 less loss "
   ]
  },
  {
   "cell_type": "code",
   "execution_count": null,
   "id": "31a0d866",
   "metadata": {},
   "outputs": [],
   "source": [
    ">10\n",
    "<10\n",
    "if else"
   ]
  },
  {
   "cell_type": "code",
   "execution_count": 23,
   "id": "72b0e9da",
   "metadata": {},
   "outputs": [],
   "source": [
    "# existing variable\n",
    "today_sale= 9"
   ]
  },
  {
   "cell_type": "code",
   "execution_count": 24,
   "id": "e61e8815",
   "metadata": {},
   "outputs": [],
   "source": [
    "# comparision variable\n",
    "compare_value=10"
   ]
  },
  {
   "cell_type": "code",
   "execution_count": 25,
   "id": "af8d2503",
   "metadata": {},
   "outputs": [
    {
     "name": "stdout",
     "output_type": "stream",
     "text": [
      "today_sale 9\n",
      "compare_value 10\n"
     ]
    }
   ],
   "source": [
    "print(\"today_sale\",today_sale)\n",
    "print(\"compare_value\",compare_value)"
   ]
  },
  {
   "cell_type": "code",
   "execution_count": 26,
   "id": "2fcb91b4",
   "metadata": {},
   "outputs": [
    {
     "name": "stdout",
     "output_type": "stream",
     "text": [
      " your business is loss\n",
      " your business in un successful\n"
     ]
    }
   ],
   "source": [
    "# conditions:\n",
    "if today_sale>compare_value:\n",
    "    print(\" your business is profit\")\n",
    "    print(\" your business in success\")\n",
    "else:\n",
    "    print(\" your business is loss\")\n",
    "    print(\" your business in un successful\")"
   ]
  },
  {
   "cell_type": "code",
   "execution_count": 27,
   "id": "a3b2547e",
   "metadata": {},
   "outputs": [
    {
     "name": "stdout",
     "output_type": "stream",
     "text": [
      " your business is loss\n",
      " your business in un successful\n",
      "you are in out of conditions\n"
     ]
    }
   ],
   "source": [
    "# conditions:\n",
    "if today_sale>compare_value:\n",
    "    print(\" your business is profit\")\n",
    "    print(\" your business in success\")\n",
    "else:\n",
    "    print(\" your business is loss\")\n",
    "    print(\" your business in un successful\")\n",
    "print(\"you are in out of conditions\")"
   ]
  },
  {
   "cell_type": "code",
   "execution_count": null,
   "id": "5c195493",
   "metadata": {},
   "outputs": [],
   "source": [
    "nested if\n",
    "if>if>if\n",
    "nested elif > \n",
    "multiple nested condtion if-->elif-->if \n",
    "elif > multiple conditions"
   ]
  },
  {
   "cell_type": "code",
   "execution_count": null,
   "id": "6d581725",
   "metadata": {},
   "outputs": [],
   "source": [
    "elif---multiple condtions"
   ]
  },
  {
   "cell_type": "code",
   "execution_count": null,
   "id": "60b18115",
   "metadata": {},
   "outputs": [],
   "source": [
    "\n",
    "\n",
    "milk packet per day 10 more sucess\n",
    " 10 below loss\n",
    "    10-20 inbetween avegrage"
   ]
  },
  {
   "cell_type": "code",
   "execution_count": null,
   "id": "467d5bf1",
   "metadata": {},
   "outputs": [],
   "source": [
    "condtions overwrite, conditins individual\n",
    "\n",
    "---->"
   ]
  },
  {
   "cell_type": "code",
   "execution_count": null,
   "id": "e4735232",
   "metadata": {},
   "outputs": [],
   "source": [
    "milk packet per day 10-20 more avergae\n",
    " 10 below loss\n",
    "    20 inbetween success"
   ]
  },
  {
   "cell_type": "code",
   "execution_count": null,
   "id": "4007b742",
   "metadata": {},
   "outputs": [],
   "source": [
    "# syntax:\n",
    "\n",
    "if conditions_1:\n",
    "    statements\n",
    "elif condition_2:\n",
    "    statements\n",
    "elif conditions_3:\n",
    "    statements\n",
    "elif conditions_4:\n",
    "    statements\n",
    "    \n",
    "    etc\n",
    "    \n",
    "else:\n",
    "    statements\n",
    "    \n",
    "    "
   ]
  },
  {
   "cell_type": "code",
   "execution_count": null,
   "id": "8a10036e",
   "metadata": {},
   "outputs": [],
   "source": [
    "milk packet per day 10-20 more avergae\n",
    " 10 below loss\n",
    "    20 inbetween success"
   ]
  },
  {
   "cell_type": "code",
   "execution_count": null,
   "id": "78d1c222",
   "metadata": {},
   "outputs": [],
   "source": [
    "\n",
    " \n",
    "    20 inbetween success\n",
    "    milk packet per day 10-20 more avergae\n",
    "    10 below loss"
   ]
  },
  {
   "cell_type": "code",
   "execution_count": 1,
   "id": "fcdbc59f",
   "metadata": {},
   "outputs": [],
   "source": [
    "milk_packet_per_day=30"
   ]
  },
  {
   "cell_type": "code",
   "execution_count": null,
   "id": "58f7c1cf",
   "metadata": {},
   "outputs": [],
   "source": [
    "# milk_packet_per_day="
   ]
  },
  {
   "cell_type": "code",
   "execution_count": null,
   "id": "2ae7d6bc",
   "metadata": {},
   "outputs": [],
   "source": [
    "logical operator( 2 and or ) ,comparision operator(=,>,< etc)"
   ]
  },
  {
   "cell_type": "code",
   "execution_count": null,
   "id": "69762415",
   "metadata": {},
   "outputs": [],
   "source": [
    "# # and--mutual conditions--dependent \n",
    "# # syntax:\n",
    "\n",
    "# if condition_1 and conditon_2:\n",
    "#     statements\n",
    "    \n",
    "# or --> mutula condition-independent\n",
    "\n",
    "# if condition_1 or conditon_2:\n",
    "#     statements\n",
    "    \n",
    "\n",
    "    "
   ]
  },
  {
   "cell_type": "code",
   "execution_count": null,
   "id": "32475efa",
   "metadata": {},
   "outputs": [],
   "source": [
    "\n",
    " \n",
    "    20 inbetween success\n",
    "    milk packet per day 10-20 more avergae\n",
    "    10 below loss"
   ]
  },
  {
   "cell_type": "code",
   "execution_count": 2,
   "id": "3cb80957",
   "metadata": {},
   "outputs": [],
   "source": [
    "milk_packet_per_day=9"
   ]
  },
  {
   "cell_type": "code",
   "execution_count": 3,
   "id": "96431198",
   "metadata": {},
   "outputs": [
    {
     "name": "stdout",
     "output_type": "stream",
     "text": [
      "your business is loss\n"
     ]
    }
   ],
   "source": [
    "# scenario-1\n",
    "milk_packet_per_day=9\n",
    "if milk_packet_per_day >20 :\n",
    "    print(\"your business is successful\")\n",
    "elif (milk_packet_per_day< 20) and  (milk_packet_per_day>10):\n",
    "    print(\"your business is average\")\n",
    "elif milk_packet_per_day<10:\n",
    "    print(\"your business is loss\")\n",
    "else:\n",
    "    print(\"there is input wrong\")"
   ]
  },
  {
   "cell_type": "code",
   "execution_count": 4,
   "id": "c208df60",
   "metadata": {},
   "outputs": [
    {
     "name": "stdout",
     "output_type": "stream",
     "text": [
      "your business is average\n"
     ]
    }
   ],
   "source": [
    "# scenario-2\n",
    "milk_packet_per_day=12\n",
    "if milk_packet_per_day >20 :\n",
    "    print(\"your business is successful\")\n",
    "elif (milk_packet_per_day< 20) and  (milk_packet_per_day>10):\n",
    "    print(\"your business is average\")\n",
    "elif milk_packet_per_day<10:\n",
    "    print(\"your business is loss\")\n",
    "else:\n",
    "    print(\"there is input wrong\")"
   ]
  },
  {
   "cell_type": "code",
   "execution_count": 5,
   "id": "66ce3b35",
   "metadata": {},
   "outputs": [
    {
     "name": "stdout",
     "output_type": "stream",
     "text": [
      "your business is successful\n"
     ]
    }
   ],
   "source": [
    "# scenario-3\n",
    "milk_packet_per_day=25\n",
    "if milk_packet_per_day >20 :\n",
    "    print(\"your business is successful\")\n",
    "elif (milk_packet_per_day< 20) and  (milk_packet_per_day>10):\n",
    "    print(\"your business is average\")\n",
    "elif milk_packet_per_day<10:\n",
    "    print(\"your business is loss\")\n",
    "else:\n",
    "    print(\"there is input wrong\")"
   ]
  },
  {
   "cell_type": "code",
   "execution_count": 6,
   "id": "49c29dd6",
   "metadata": {},
   "outputs": [
    {
     "name": "stdout",
     "output_type": "stream",
     "text": [
      "there is input wrong\n"
     ]
    }
   ],
   "source": [
    "# scenario-4\n",
    "milk_packet_per_day=10\n",
    "if milk_packet_per_day >20 :\n",
    "    print(\"your business is successful\")\n",
    "elif (milk_packet_per_day< 20) and  (milk_packet_per_day>=10):\n",
    "    print(\"your business is average\")\n",
    "elif milk_packet_per_day<10:\n",
    "    print(\"your business is loss\")\n",
    "else:\n",
    "    print(\"there is input wrong\")"
   ]
  },
  {
   "cell_type": "code",
   "execution_count": 7,
   "id": "39f61929",
   "metadata": {},
   "outputs": [
    {
     "name": "stdout",
     "output_type": "stream",
     "text": [
      "your business is average\n"
     ]
    }
   ],
   "source": [
    "# scenario-5\n",
    "milk_packet_per_day=10\n",
    "if milk_packet_per_day >20 :\n",
    "    print(\"your business is successful\")\n",
    "elif (milk_packet_per_day< 20) and  (milk_packet_per_day>=10):\n",
    "    print(\"your business is average\")\n",
    "elif milk_packet_per_day<10:\n",
    "    print(\"your business is loss\")\n",
    "else:\n",
    "    print(\"there is input wrong\")"
   ]
  },
  {
   "cell_type": "code",
   "execution_count": 9,
   "id": "9b4323ff",
   "metadata": {},
   "outputs": [
    {
     "name": "stdout",
     "output_type": "stream",
     "text": [
      "your business is successful\n"
     ]
    }
   ],
   "source": [
    "# scenario-5\n",
    "milk_packet_per_day=20\n",
    "if milk_packet_per_day >=20 :\n",
    "    print(\"your business is successful\")\n",
    "elif (milk_packet_per_day< 20) and  (milk_packet_per_day>=10):\n",
    "    print(\"your business is average\")\n",
    "elif milk_packet_per_day<10:\n",
    "    print(\"your business is loss\")\n",
    "else:\n",
    "    print(\"there is input wrong\")"
   ]
  },
  {
   "cell_type": "code",
   "execution_count": 10,
   "id": "8db5cd2e",
   "metadata": {},
   "outputs": [
    {
     "ename": "TypeError",
     "evalue": "'>=' not supported between instances of 'str' and 'int'",
     "output_type": "error",
     "traceback": [
      "\u001b[1;31m---------------------------------------------------------------------------\u001b[0m",
      "\u001b[1;31mTypeError\u001b[0m                                 Traceback (most recent call last)",
      "Cell \u001b[1;32mIn[10], line 3\u001b[0m\n\u001b[0;32m      1\u001b[0m \u001b[38;5;66;03m# scenario-5\u001b[39;00m\n\u001b[0;32m      2\u001b[0m milk_packet_per_day\u001b[38;5;241m=\u001b[39m\u001b[38;5;124m\"\u001b[39m\u001b[38;5;124mparam\u001b[39m\u001b[38;5;124m\"\u001b[39m\n\u001b[1;32m----> 3\u001b[0m \u001b[38;5;28;01mif\u001b[39;00m \u001b[43mmilk_packet_per_day\u001b[49m\u001b[43m \u001b[49m\u001b[38;5;241;43m>\u001b[39;49m\u001b[38;5;241;43m=\u001b[39;49m\u001b[38;5;241;43m20\u001b[39;49m :\n\u001b[0;32m      4\u001b[0m     \u001b[38;5;28mprint\u001b[39m(\u001b[38;5;124m\"\u001b[39m\u001b[38;5;124myour business is successful\u001b[39m\u001b[38;5;124m\"\u001b[39m)\n\u001b[0;32m      5\u001b[0m \u001b[38;5;28;01melif\u001b[39;00m (milk_packet_per_day\u001b[38;5;241m<\u001b[39m \u001b[38;5;241m20\u001b[39m) \u001b[38;5;129;01mand\u001b[39;00m  (milk_packet_per_day\u001b[38;5;241m>\u001b[39m\u001b[38;5;241m=\u001b[39m\u001b[38;5;241m10\u001b[39m):\n",
      "\u001b[1;31mTypeError\u001b[0m: '>=' not supported between instances of 'str' and 'int'"
     ]
    }
   ],
   "source": [
    "# scenario-5\n",
    "milk_packet_per_day=\"param\"\n",
    "if milk_packet_per_day >=20 :\n",
    "    print(\"your business is successful\")\n",
    "elif (milk_packet_per_day< 20) and  (milk_packet_per_day>=10):\n",
    "    print(\"your business is average\")\n",
    "elif milk_packet_per_day<10:\n",
    "    print(\"your business is loss\")\n",
    "else:\n",
    "    print(\"there is input wrong\")"
   ]
  },
  {
   "cell_type": "code",
   "execution_count": null,
   "id": "a298859b",
   "metadata": {},
   "outputs": [],
   "source": [
    "error handling---->"
   ]
  },
  {
   "cell_type": "code",
   "execution_count": null,
   "id": "c35bc788",
   "metadata": {},
   "outputs": [],
   "source": [
    "\n",
    "# nested if conditions, flow of conditions"
   ]
  },
  {
   "cell_type": "code",
   "execution_count": null,
   "id": "f2ad7eb4",
   "metadata": {},
   "outputs": [],
   "source": [
    "---> shopping\n",
    "\n",
    "\n",
    "location --> dmart, jio mart\n",
    "-->dmart 5% disconnect\n",
    "--->products {food} 10%\n",
    "\n",
    "--->jio mart 10%\n",
    "         food 15%\n",
    "    \n",
    "input\n",
    "type_of_mart=\n",
    "product_type=\n",
    "\n",
    "\n",
    "condtions/logic\n",
    "\n",
    "outputs\n",
    "discount display"
   ]
  },
  {
   "cell_type": "code",
   "execution_count": null,
   "id": "c0c4e767",
   "metadata": {},
   "outputs": [],
   "source": [
    "type_of_mart=\n",
    "product_type="
   ]
  },
  {
   "cell_type": "code",
   "execution_count": null,
   "id": "183ab42e",
   "metadata": {},
   "outputs": [],
   "source": [
    "# syntax:\n",
    "if condtioins:\n",
    "    statements\n",
    "    if condition:\n",
    "        statements\n",
    "        if condition:\n",
    "            statements\n",
    "        \n",
    "    \n",
    "    "
   ]
  },
  {
   "cell_type": "code",
   "execution_count": null,
   "id": "6d8badb2",
   "metadata": {},
   "outputs": [],
   "source": [
    "---> shopping\n",
    "\n",
    "\n",
    "location --> dmart, jio mart\n",
    "-->dmart 5% disconnect\n",
    "--->products {food} 10%\n",
    "\n",
    "--->jio mart 10%\n",
    "         food 15%"
   ]
  },
  {
   "cell_type": "code",
   "execution_count": null,
   "id": "491f7ccf",
   "metadata": {},
   "outputs": [],
   "source": [
    "if type_of_mart == \"dmart\":\n",
    "    print(\" you are in dmart for shopping\")\n",
    "    if product_type ==\"food\":\n",
    "        print(\" you are purchasing food product\")\n",
    "        print(\"food product discount is 10%\")\n",
    "    else:\n",
    "        print(\" you are purchasing non food product\")\n",
    "        print(\"non food product discount is 5%\")\n",
    "else:\n",
    "    print(\" you are in jio mart for shopping\")\n",
    "    if product_type==\"food\":\n",
    "        print(\" you are purchasing food product\")\n",
    "        print(\"food product discount is 15%\")\n",
    "    else:\n",
    "        print(\" you are purchasing non food product\")\n",
    "        print(\"non food product discount is 10%\")\n",
    "        \n",
    "        \n",
    "        \n",
    "        "
   ]
  },
  {
   "cell_type": "code",
   "execution_count": null,
   "id": "254b4d3c",
   "metadata": {},
   "outputs": [],
   "source": [
    "type_of_mart=\"dmart\"\n",
    "product_type=\"food\""
   ]
  },
  {
   "cell_type": "code",
   "execution_count": 12,
   "id": "0e21a06c",
   "metadata": {},
   "outputs": [
    {
     "name": "stdout",
     "output_type": "stream",
     "text": [
      " you are in dmart for shopping\n",
      " you are purchasing food product\n",
      "food product discount is 10%\n"
     ]
    }
   ],
   "source": [
    "# scenario-1\n",
    "type_of_mart=\"dmart\"\n",
    "product_type=\"food\"\n",
    "\n",
    "if type_of_mart == \"dmart\":\n",
    "    print(\" you are in dmart for shopping\")\n",
    "    if product_type ==\"food\":\n",
    "        print(\" you are purchasing food product\")\n",
    "        print(\"food product discount is 10%\")\n",
    "    else:\n",
    "        print(\" you are purchasing non food product\")\n",
    "        print(\"non food product discount is 5%\")\n",
    "elif type_of_mart == \"jio mart\":\n",
    "    print(\" you are in jio mart for shopping\")\n",
    "    if product_type==\"food\":\n",
    "        print(\" you are purchasing food product\")\n",
    "        print(\"food product discount is 15%\")\n",
    "    else:\n",
    "        print(\" you are purchasing non food product\")\n",
    "        print(\"non food product discount is 10%\")\n",
    "else:\n",
    "    print(\"mentioned mart is not available\")\n",
    "        \n",
    "        \n",
    "    "
   ]
  },
  {
   "cell_type": "code",
   "execution_count": 13,
   "id": "906678cc",
   "metadata": {},
   "outputs": [
    {
     "name": "stdout",
     "output_type": "stream",
     "text": [
      " you are in dmart for shopping\n",
      " you are purchasing non food product\n",
      "non food product discount is 5%\n"
     ]
    }
   ],
   "source": [
    "# scenario-1\n",
    "type_of_mart=\"dmart\"\n",
    "product_type=\"groceries\"\n",
    "\n",
    "if type_of_mart == \"dmart\":\n",
    "    print(\" you are in dmart for shopping\")\n",
    "    if product_type ==\"food\":\n",
    "        print(\" you are purchasing food product\")\n",
    "        print(\"food product discount is 10%\")\n",
    "    else:\n",
    "        print(\" you are purchasing non food product\")\n",
    "        print(\"non food product discount is 5%\")\n",
    "elif type_of_mart == \"jio mart\":\n",
    "    print(\" you are in jio mart for shopping\")\n",
    "    if product_type==\"food\":\n",
    "        print(\" you are purchasing food product\")\n",
    "        print(\"food product discount is 15%\")\n",
    "    else:\n",
    "        print(\" you are purchasing non food product\")\n",
    "        print(\"non food product discount is 10%\")\n",
    "else:\n",
    "    print(\"mentioned mart is not available\")\n",
    "        \n",
    "        \n",
    "    "
   ]
  },
  {
   "cell_type": "code",
   "execution_count": 14,
   "id": "92dded2e",
   "metadata": {},
   "outputs": [
    {
     "name": "stdout",
     "output_type": "stream",
     "text": [
      " you are in jio mart for shopping\n",
      " you are purchasing food product\n",
      "food product discount is 15%\n"
     ]
    }
   ],
   "source": [
    "# scenario-3\n",
    "type_of_mart=\"jio mart\"\n",
    "product_type=\"food\"\n",
    "\n",
    "if type_of_mart == \"dmart\":\n",
    "    print(\" you are in dmart for shopping\")\n",
    "    if product_type ==\"food\":\n",
    "        print(\" you are purchasing food product\")\n",
    "        print(\"food product discount is 10%\")\n",
    "    else:\n",
    "        print(\" you are purchasing non food product\")\n",
    "        print(\"non food product discount is 5%\")\n",
    "elif type_of_mart == \"jio mart\":\n",
    "    print(\" you are in jio mart for shopping\")\n",
    "    if product_type==\"food\":\n",
    "        print(\" you are purchasing food product\")\n",
    "        print(\"food product discount is 15%\")\n",
    "    else:\n",
    "        print(\" you are purchasing non food product\")\n",
    "        print(\"non food product discount is 10%\")\n",
    "else:\n",
    "    print(\"mentioned mart is not available\")\n",
    "        \n",
    "        \n",
    "    "
   ]
  },
  {
   "cell_type": "code",
   "execution_count": 15,
   "id": "a8efad72",
   "metadata": {},
   "outputs": [
    {
     "name": "stdout",
     "output_type": "stream",
     "text": [
      " you are in jio mart for shopping\n",
      " you are purchasing non food product\n",
      "non food product discount is 10%\n"
     ]
    }
   ],
   "source": [
    "# scenario-3\n",
    "type_of_mart=\"jio mart\"\n",
    "product_type=\"groceries\"\n",
    "\n",
    "if type_of_mart == \"dmart\":\n",
    "    print(\" you are in dmart for shopping\")\n",
    "    if product_type ==\"food\":\n",
    "        print(\" you are purchasing food product\")\n",
    "        print(\"food product discount is 10%\")\n",
    "    else:\n",
    "        print(\" you are purchasing non food product\")\n",
    "        print(\"non food product discount is 5%\")\n",
    "elif type_of_mart == \"jio mart\":\n",
    "    print(\" you are in jio mart for shopping\")\n",
    "    if product_type==\"food\":\n",
    "        print(\" you are purchasing food product\")\n",
    "        print(\"food product discount is 15%\")\n",
    "    else:\n",
    "        print(\" you are purchasing non food product\")\n",
    "        print(\"non food product discount is 10%\")\n",
    "else:\n",
    "    print(\"mentioned mart is not available\")\n",
    "        \n",
    "        \n",
    "    "
   ]
  },
  {
   "cell_type": "code",
   "execution_count": 16,
   "id": "5300facb",
   "metadata": {},
   "outputs": [
    {
     "name": "stdout",
     "output_type": "stream",
     "text": [
      "mentioned mart is not available\n"
     ]
    }
   ],
   "source": [
    "# scenario-5\n",
    "type_of_mart=\"reliance mart\"\n",
    "product_type=\"groceries\"\n",
    "\n",
    "if type_of_mart == \"dmart\":\n",
    "    print(\" you are in dmart for shopping\")\n",
    "    if product_type ==\"food\":\n",
    "        print(\" you are purchasing food product\")\n",
    "        print(\"food product discount is 10%\")\n",
    "    else:\n",
    "        print(\" you are purchasing non food product\")\n",
    "        print(\"non food product discount is 5%\")\n",
    "elif type_of_mart == \"jio mart\":\n",
    "    print(\" you are in jio mart for shopping\")\n",
    "    if product_type==\"food\":\n",
    "        print(\" you are purchasing food product\")\n",
    "        print(\"food product discount is 15%\")\n",
    "    else:\n",
    "        print(\" you are purchasing non food product\")\n",
    "        print(\"non food product discount is 10%\")\n",
    "else:\n",
    "    print(\"mentioned mart is not available\")\n",
    "        \n",
    "        \n",
    "    "
   ]
  },
  {
   "cell_type": "code",
   "execution_count": null,
   "id": "70930fc9",
   "metadata": {},
   "outputs": [],
   "source": [
    "logic test\n",
    "100%  testing\n",
    "dev role\n",
    "testing role"
   ]
  },
  {
   "cell_type": "code",
   "execution_count": null,
   "id": "1782a05e",
   "metadata": {},
   "outputs": [],
   "source": []
  }
 ],
 "metadata": {
  "kernelspec": {
   "display_name": "Python 3 (ipykernel)",
   "language": "python",
   "name": "python3"
  },
  "language_info": {
   "codemirror_mode": {
    "name": "ipython",
    "version": 3
   },
   "file_extension": ".py",
   "mimetype": "text/x-python",
   "name": "python",
   "nbconvert_exporter": "python",
   "pygments_lexer": "ipython3",
   "version": "3.10.9"
  }
 },
 "nbformat": 4,
 "nbformat_minor": 5
}
