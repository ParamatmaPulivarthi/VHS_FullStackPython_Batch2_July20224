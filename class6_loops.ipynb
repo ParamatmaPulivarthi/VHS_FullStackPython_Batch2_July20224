{
 "cells": [
  {
   "cell_type": "code",
   "execution_count": null,
   "id": "37cc5bee",
   "metadata": {},
   "outputs": [],
   "source": [
    "loops\n",
    "\n",
    "for---limit range\n",
    "while--conditions range"
   ]
  },
  {
   "cell_type": "code",
   "execution_count": null,
   "id": "10270678",
   "metadata": {},
   "outputs": [],
   "source": [
    "for"
   ]
  },
  {
   "cell_type": "code",
   "execution_count": null,
   "id": "d6ea2ded",
   "metadata": {},
   "outputs": [],
   "source": [
    "# syntax:\n",
    "\n",
    "for iterator_varaible in limit(list/tuple/set/dict/varibles):\n",
    "    statements\n",
    "    statements\n",
    "    \n",
    "    \n",
    "    "
   ]
  },
  {
   "cell_type": "code",
   "execution_count": null,
   "id": "52d6be5b",
   "metadata": {},
   "outputs": [],
   "source": [
    "start with 0\n",
    "end with limit values---\n",
    "\n",
    "1\n",
    "2\n",
    "\n",
    "1\n",
    "2\n",
    "3\n",
    "\n",
    "2\n",
    "4\n",
    "6\n",
    "\n"
   ]
  },
  {
   "cell_type": "code",
   "execution_count": null,
   "id": "bf947018",
   "metadata": {},
   "outputs": [],
   "source": [
    "# display all names in one by one\n"
   ]
  },
  {
   "cell_type": "code",
   "execution_count": 1,
   "id": "5e70ff10",
   "metadata": {},
   "outputs": [],
   "source": [
    "lst_names=[\"ravi\",\"rajesh\",\"rakesh\",\"ramu\",\"rajini\",\"ragini\",\"param\"]"
   ]
  },
  {
   "cell_type": "code",
   "execution_count": 2,
   "id": "b8ef4550",
   "metadata": {},
   "outputs": [
    {
     "data": {
      "text/plain": [
       "['ravi', 'rajesh', 'rakesh', 'ramu', 'rajini', 'ragini']"
      ]
     },
     "execution_count": 2,
     "metadata": {},
     "output_type": "execute_result"
    }
   ],
   "source": [
    "lst_names"
   ]
  },
  {
   "cell_type": "code",
   "execution_count": null,
   "id": "1d96c486",
   "metadata": {},
   "outputs": [],
   "source": [
    "the name of the candidate is ravi\n",
    "the name of the candidate is rajesh\n",
    "ect...\n",
    "the name of the trainer is param\n",
    "\n"
   ]
  },
  {
   "cell_type": "code",
   "execution_count": 3,
   "id": "9839e2f3",
   "metadata": {},
   "outputs": [
    {
     "name": "stdout",
     "output_type": "stream",
     "text": [
      "ravi\n",
      "rajesh\n",
      "rakesh\n",
      "ramu\n",
      "rajini\n",
      "ragini\n"
     ]
    }
   ],
   "source": [
    "for i in lst_names:\n",
    "    print(i)\n",
    "    "
   ]
  },
  {
   "cell_type": "code",
   "execution_count": 4,
   "id": "6fbaf8af",
   "metadata": {},
   "outputs": [
    {
     "name": "stdout",
     "output_type": "stream",
     "text": [
      "the name of the candidate is  ravi\n",
      "the name of the candidate is  rajesh\n",
      "the name of the candidate is  rakesh\n",
      "the name of the candidate is  ramu\n",
      "the name of the candidate is  rajini\n",
      "the name of the candidate is  ragini\n"
     ]
    }
   ],
   "source": [
    "for name in lst_names:\n",
    "    print(\"the name of the candidate is \",name)"
   ]
  },
  {
   "cell_type": "code",
   "execution_count": 6,
   "id": "84467e1b",
   "metadata": {},
   "outputs": [],
   "source": [
    "lst_names=[\"ravi\",\"rajesh\",\"rakesh\",\"ramu\",\"rajini\",\"ragini\",\"param\"]"
   ]
  },
  {
   "cell_type": "code",
   "execution_count": 7,
   "id": "09670fa5",
   "metadata": {},
   "outputs": [
    {
     "name": "stdout",
     "output_type": "stream",
     "text": [
      "name value is ravi\n",
      "the name of the candidate is  ravi\n",
      "name value is rajesh\n",
      "the name of the candidate is  rajesh\n",
      "name value is rakesh\n",
      "the name of the candidate is  rakesh\n",
      "name value is ramu\n",
      "the name of the candidate is  ramu\n",
      "name value is rajini\n",
      "the name of the candidate is  rajini\n",
      "name value is ragini\n",
      "the name of the candidate is  ragini\n",
      "name value is param\n",
      "the name of the trainer is  param\n"
     ]
    }
   ],
   "source": [
    "for name in lst_names:\n",
    "    print(\"name value is\",name)\n",
    "    if name==\"param\":\n",
    "        print(\"the name of the trainer is \",name)\n",
    "    else:\n",
    "        print(\"the name of the candidate is \",name)"
   ]
  },
  {
   "cell_type": "code",
   "execution_count": null,
   "id": "c4c56a6d",
   "metadata": {},
   "outputs": [],
   "source": []
  }
 ],
 "metadata": {
  "kernelspec": {
   "display_name": "Python 3 (ipykernel)",
   "language": "python",
   "name": "python3"
  },
  "language_info": {
   "codemirror_mode": {
    "name": "ipython",
    "version": 3
   },
   "file_extension": ".py",
   "mimetype": "text/x-python",
   "name": "python",
   "nbconvert_exporter": "python",
   "pygments_lexer": "ipython3",
   "version": "3.10.9"
  }
 },
 "nbformat": 4,
 "nbformat_minor": 5
}
